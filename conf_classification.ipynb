{
 "cells": [
  {
   "cell_type": "code",
   "execution_count": 1,
   "metadata": {},
   "outputs": [],
   "source": [
    "# import all of the packages we need for our \n",
    "import numpy as np\n",
    "import pandas as pd\n",
    "import matplotlib.pyplot as plt\n",
    "import seaborn as sns\n",
    "from sklearn.model_selection import train_test_split, cross_val_score\n",
    "from sklearn.metrics import mean_squared_error, r2_score, confusion_matrix, roc_auc_score, roc_curve,precision_recall_curve, f1_score\n",
    "from sklearn.linear_model import Ridge, Lasso, RidgeCV, LassoCV, LinearRegression, LogisticRegression\n",
    "from sklearn.preprocessing import StandardScaler, PolynomialFeatures\n",
    "from sklearn.decomposition import PCA\n",
    "from sklearn.tree import DecisionTreeRegressor\n",
    "from sklearn.neighbors import KNeighborsRegressor, KNeighborsClassifier\n",
    "from inspect import signature\n",
    "from sklearn import metrics,preprocessing\n",
    "from sklearn.naive_bayes import GaussianNB\n",
    "from sklearn.ensemble import GradientBoostingClassifier\n",
    "import warnings\n",
    "warnings.filterwarnings('ignore')"
   ]
  },
  {
   "cell_type": "code",
   "execution_count": 2,
   "metadata": {},
   "outputs": [],
   "source": [
    "conf = pd.read_csv('conf_data.csv')"
   ]
  },
  {
   "cell_type": "code",
   "execution_count": 3,
   "metadata": {},
   "outputs": [
    {
     "data": {
      "text/html": [
       "<div>\n",
       "<style scoped>\n",
       "    .dataframe tbody tr th:only-of-type {\n",
       "        vertical-align: middle;\n",
       "    }\n",
       "\n",
       "    .dataframe tbody tr th {\n",
       "        vertical-align: top;\n",
       "    }\n",
       "\n",
       "    .dataframe thead th {\n",
       "        text-align: right;\n",
       "    }\n",
       "</style>\n",
       "<table border=\"1\" class=\"dataframe\">\n",
       "  <thead>\n",
       "    <tr style=\"text-align: right;\">\n",
       "      <th></th>\n",
       "      <th>year</th>\n",
       "      <th>month</th>\n",
       "      <th>session</th>\n",
       "      <th>talk_title</th>\n",
       "      <th>speaker</th>\n",
       "      <th>talk_url</th>\n",
       "      <th>talk_text</th>\n",
       "      <th>calling</th>\n",
       "      <th>word_count</th>\n",
       "      <th>gen_calling</th>\n",
       "      <th>speaker_gender</th>\n",
       "      <th>session_gendered</th>\n",
       "    </tr>\n",
       "  </thead>\n",
       "  <tbody>\n",
       "    <tr>\n",
       "      <td>0</td>\n",
       "      <td>1999</td>\n",
       "      <td>4</td>\n",
       "      <td>Saturday Morning Session</td>\n",
       "      <td>The Work Moves Forward</td>\n",
       "      <td>Gordon B. Hinckley</td>\n",
       "      <td>https://www.lds.org/study/general-conference/1...</td>\n",
       "      <td>Welcome to conference! We again welcome you, m...</td>\n",
       "      <td>president of the church</td>\n",
       "      <td>890</td>\n",
       "      <td>prophet</td>\n",
       "      <td>male</td>\n",
       "      <td>male and female</td>\n",
       "    </tr>\n",
       "    <tr>\n",
       "      <td>1</td>\n",
       "      <td>1999</td>\n",
       "      <td>4</td>\n",
       "      <td>Saturday Morning Session</td>\n",
       "      <td>Teach Them the Word of God with All Diligence</td>\n",
       "      <td>L. Tom Perry</td>\n",
       "      <td>https://www.lds.org/study/general-conference/1...</td>\n",
       "      <td>On Sunday morning, December 9, 1849, at eight ...</td>\n",
       "      <td>of the quorum of the twelve apostles</td>\n",
       "      <td>2303</td>\n",
       "      <td>apostle</td>\n",
       "      <td>male</td>\n",
       "      <td>male and female</td>\n",
       "    </tr>\n",
       "    <tr>\n",
       "      <td>2</td>\n",
       "      <td>1999</td>\n",
       "      <td>4</td>\n",
       "      <td>Saturday Morning Session</td>\n",
       "      <td>Greed, Selfishness, and Overindulgence</td>\n",
       "      <td>Joe J. Christensen</td>\n",
       "      <td>https://www.lds.org/study/general-conference/1...</td>\n",
       "      <td>They say the gospel is to comfort the afflicte...</td>\n",
       "      <td>NaN</td>\n",
       "      <td>2041</td>\n",
       "      <td>NaN</td>\n",
       "      <td>NaN</td>\n",
       "      <td>male and female</td>\n",
       "    </tr>\n",
       "    <tr>\n",
       "      <td>3</td>\n",
       "      <td>1999</td>\n",
       "      <td>4</td>\n",
       "      <td>Saturday Morning Session</td>\n",
       "      <td>Preparing Our Families for the Temple</td>\n",
       "      <td>Carol B. Thomas</td>\n",
       "      <td>https://www.lds.org/study/general-conference/1...</td>\n",
       "      <td>Brothers and sisters, I think I am happy to be...</td>\n",
       "      <td>NaN</td>\n",
       "      <td>2022</td>\n",
       "      <td>NaN</td>\n",
       "      <td>NaN</td>\n",
       "      <td>male and female</td>\n",
       "    </tr>\n",
       "    <tr>\n",
       "      <td>4</td>\n",
       "      <td>1999</td>\n",
       "      <td>4</td>\n",
       "      <td>Saturday Morning Session</td>\n",
       "      <td>The Hands of the Fathers</td>\n",
       "      <td>Jeffrey R. Holland</td>\n",
       "      <td>https://www.lds.org/study/general-conference/1...</td>\n",
       "      <td>On this Easter weekend I wish to thank not onl...</td>\n",
       "      <td>of the quorum of the twelve apostles</td>\n",
       "      <td>2057</td>\n",
       "      <td>apostle</td>\n",
       "      <td>male</td>\n",
       "      <td>male and female</td>\n",
       "    </tr>\n",
       "  </tbody>\n",
       "</table>\n",
       "</div>"
      ],
      "text/plain": [
       "   year  month                   session  \\\n",
       "0  1999      4  Saturday Morning Session   \n",
       "1  1999      4  Saturday Morning Session   \n",
       "2  1999      4  Saturday Morning Session   \n",
       "3  1999      4  Saturday Morning Session   \n",
       "4  1999      4  Saturday Morning Session   \n",
       "\n",
       "                                      talk_title             speaker  \\\n",
       "0                         The Work Moves Forward  Gordon B. Hinckley   \n",
       "1  Teach Them the Word of God with All Diligence        L. Tom Perry   \n",
       "2         Greed, Selfishness, and Overindulgence  Joe J. Christensen   \n",
       "3          Preparing Our Families for the Temple     Carol B. Thomas   \n",
       "4                       The Hands of the Fathers  Jeffrey R. Holland   \n",
       "\n",
       "                                            talk_url  \\\n",
       "0  https://www.lds.org/study/general-conference/1...   \n",
       "1  https://www.lds.org/study/general-conference/1...   \n",
       "2  https://www.lds.org/study/general-conference/1...   \n",
       "3  https://www.lds.org/study/general-conference/1...   \n",
       "4  https://www.lds.org/study/general-conference/1...   \n",
       "\n",
       "                                           talk_text  \\\n",
       "0  Welcome to conference! We again welcome you, m...   \n",
       "1  On Sunday morning, December 9, 1849, at eight ...   \n",
       "2  They say the gospel is to comfort the afflicte...   \n",
       "3  Brothers and sisters, I think I am happy to be...   \n",
       "4  On this Easter weekend I wish to thank not onl...   \n",
       "\n",
       "                                calling  word_count gen_calling  \\\n",
       "0               president of the church         890     prophet   \n",
       "1  of the quorum of the twelve apostles        2303     apostle   \n",
       "2                                   NaN        2041         NaN   \n",
       "3                                   NaN        2022         NaN   \n",
       "4  of the quorum of the twelve apostles        2057     apostle   \n",
       "\n",
       "  speaker_gender session_gendered  \n",
       "0           male  male and female  \n",
       "1           male  male and female  \n",
       "2            NaN  male and female  \n",
       "3            NaN  male and female  \n",
       "4           male  male and female  "
      ]
     },
     "execution_count": 3,
     "metadata": {},
     "output_type": "execute_result"
    }
   ],
   "source": [
    "conf.head()"
   ]
  },
  {
   "cell_type": "code",
   "execution_count": null,
   "metadata": {},
   "outputs": [],
   "source": []
  },
  {
   "cell_type": "code",
   "execution_count": 4,
   "metadata": {},
   "outputs": [],
   "source": [
    "# We need to drop NaN's so that we can stratify our data\n",
    "conf.dropna(inplace=True)"
   ]
  },
  {
   "cell_type": "code",
   "execution_count": 5,
   "metadata": {},
   "outputs": [
    {
     "data": {
      "text/plain": [
       "year                 int64\n",
       "month                int64\n",
       "session             object\n",
       "talk_title          object\n",
       "speaker             object\n",
       "talk_url            object\n",
       "talk_text           object\n",
       "calling             object\n",
       "word_count           int64\n",
       "gen_calling         object\n",
       "speaker_gender      object\n",
       "session_gendered    object\n",
       "dtype: object"
      ]
     },
     "execution_count": 5,
     "metadata": {},
     "output_type": "execute_result"
    }
   ],
   "source": [
    "conf.dtypes"
   ]
  },
  {
   "cell_type": "markdown",
   "metadata": {},
   "source": [
    "## Predicting General Calling"
   ]
  },
  {
   "cell_type": "markdown",
   "metadata": {},
   "source": [
    "Given our data, it would be interesting to produce a model that would try to predict the general calling of a General Authority or General Officer of the Church. We can use different classification methods to try and create the best performing model."
   ]
  },
  {
   "cell_type": "code",
   "execution_count": 6,
   "metadata": {},
   "outputs": [],
   "source": [
    "# Set the target as general calling\n",
    "y = conf['gen_calling']"
   ]
  },
  {
   "cell_type": "code",
   "execution_count": 7,
   "metadata": {},
   "outputs": [
    {
     "data": {
      "text/plain": [
       "11"
      ]
     },
     "execution_count": 7,
     "metadata": {},
     "output_type": "execute_result"
    }
   ],
   "source": [
    "len(conf.gen_calling.unique())"
   ]
  },
  {
   "cell_type": "code",
   "execution_count": 8,
   "metadata": {},
   "outputs": [],
   "source": [
    "ml_data = conf.loc[:, ['month', 'session', 'speaker_gender', 'session_gendered', 'word_count']]"
   ]
  },
  {
   "cell_type": "code",
   "execution_count": 9,
   "metadata": {},
   "outputs": [
    {
     "data": {
      "text/plain": [
       "month                int64\n",
       "session             object\n",
       "speaker_gender      object\n",
       "session_gendered    object\n",
       "word_count           int64\n",
       "dtype: object"
      ]
     },
     "execution_count": 9,
     "metadata": {},
     "output_type": "execute_result"
    }
   ],
   "source": [
    "ml_data.dtypes"
   ]
  },
  {
   "cell_type": "code",
   "execution_count": 10,
   "metadata": {},
   "outputs": [],
   "source": [
    "ml_data['month'] = np.where(ml_data['month'] == 4, 'april',\n",
    "                           np.where(ml_data['month'] == 10, 'october', np.nan))"
   ]
  },
  {
   "cell_type": "code",
   "execution_count": 11,
   "metadata": {},
   "outputs": [
    {
     "data": {
      "text/html": [
       "<div>\n",
       "<style scoped>\n",
       "    .dataframe tbody tr th:only-of-type {\n",
       "        vertical-align: middle;\n",
       "    }\n",
       "\n",
       "    .dataframe tbody tr th {\n",
       "        vertical-align: top;\n",
       "    }\n",
       "\n",
       "    .dataframe thead th {\n",
       "        text-align: right;\n",
       "    }\n",
       "</style>\n",
       "<table border=\"1\" class=\"dataframe\">\n",
       "  <thead>\n",
       "    <tr style=\"text-align: right;\">\n",
       "      <th></th>\n",
       "      <th>word_count</th>\n",
       "      <th>month_october</th>\n",
       "      <th>session_General Priesthood Session</th>\n",
       "      <th>session_General Relief Society Meeting</th>\n",
       "      <th>session_General Women's Meeting</th>\n",
       "      <th>session_General Women's Session</th>\n",
       "      <th>session_General Women’s Session</th>\n",
       "      <th>session_General Young Women Meeting</th>\n",
       "      <th>session_Priesthood Session</th>\n",
       "      <th>session_Saturday Afternoon Session</th>\n",
       "      <th>session_Saturday Morning Session</th>\n",
       "      <th>session_Special Satellite Broadcast for Children</th>\n",
       "      <th>session_Sunday Afternoon Session</th>\n",
       "      <th>session_Sunday Morning Session</th>\n",
       "      <th>speaker_gender_male</th>\n",
       "      <th>session_gendered_male</th>\n",
       "      <th>session_gendered_male and female</th>\n",
       "    </tr>\n",
       "  </thead>\n",
       "  <tbody>\n",
       "    <tr>\n",
       "      <td>0</td>\n",
       "      <td>890</td>\n",
       "      <td>0</td>\n",
       "      <td>0</td>\n",
       "      <td>0</td>\n",
       "      <td>0</td>\n",
       "      <td>0</td>\n",
       "      <td>0</td>\n",
       "      <td>0</td>\n",
       "      <td>0</td>\n",
       "      <td>0</td>\n",
       "      <td>1</td>\n",
       "      <td>0</td>\n",
       "      <td>0</td>\n",
       "      <td>0</td>\n",
       "      <td>1</td>\n",
       "      <td>0</td>\n",
       "      <td>1</td>\n",
       "    </tr>\n",
       "    <tr>\n",
       "      <td>1</td>\n",
       "      <td>2303</td>\n",
       "      <td>0</td>\n",
       "      <td>0</td>\n",
       "      <td>0</td>\n",
       "      <td>0</td>\n",
       "      <td>0</td>\n",
       "      <td>0</td>\n",
       "      <td>0</td>\n",
       "      <td>0</td>\n",
       "      <td>0</td>\n",
       "      <td>1</td>\n",
       "      <td>0</td>\n",
       "      <td>0</td>\n",
       "      <td>0</td>\n",
       "      <td>1</td>\n",
       "      <td>0</td>\n",
       "      <td>1</td>\n",
       "    </tr>\n",
       "    <tr>\n",
       "      <td>4</td>\n",
       "      <td>2057</td>\n",
       "      <td>0</td>\n",
       "      <td>0</td>\n",
       "      <td>0</td>\n",
       "      <td>0</td>\n",
       "      <td>0</td>\n",
       "      <td>0</td>\n",
       "      <td>0</td>\n",
       "      <td>0</td>\n",
       "      <td>0</td>\n",
       "      <td>1</td>\n",
       "      <td>0</td>\n",
       "      <td>0</td>\n",
       "      <td>0</td>\n",
       "      <td>1</td>\n",
       "      <td>0</td>\n",
       "      <td>1</td>\n",
       "    </tr>\n",
       "    <tr>\n",
       "      <td>6</td>\n",
       "      <td>409</td>\n",
       "      <td>0</td>\n",
       "      <td>0</td>\n",
       "      <td>0</td>\n",
       "      <td>0</td>\n",
       "      <td>0</td>\n",
       "      <td>0</td>\n",
       "      <td>0</td>\n",
       "      <td>0</td>\n",
       "      <td>1</td>\n",
       "      <td>0</td>\n",
       "      <td>0</td>\n",
       "      <td>0</td>\n",
       "      <td>0</td>\n",
       "      <td>1</td>\n",
       "      <td>0</td>\n",
       "      <td>1</td>\n",
       "    </tr>\n",
       "    <tr>\n",
       "      <td>9</td>\n",
       "      <td>1817</td>\n",
       "      <td>0</td>\n",
       "      <td>0</td>\n",
       "      <td>0</td>\n",
       "      <td>0</td>\n",
       "      <td>0</td>\n",
       "      <td>0</td>\n",
       "      <td>0</td>\n",
       "      <td>0</td>\n",
       "      <td>1</td>\n",
       "      <td>0</td>\n",
       "      <td>0</td>\n",
       "      <td>0</td>\n",
       "      <td>0</td>\n",
       "      <td>1</td>\n",
       "      <td>0</td>\n",
       "      <td>1</td>\n",
       "    </tr>\n",
       "  </tbody>\n",
       "</table>\n",
       "</div>"
      ],
      "text/plain": [
       "   word_count  month_october  session_General Priesthood Session  \\\n",
       "0         890              0                                   0   \n",
       "1        2303              0                                   0   \n",
       "4        2057              0                                   0   \n",
       "6         409              0                                   0   \n",
       "9        1817              0                                   0   \n",
       "\n",
       "   session_General Relief Society Meeting  session_General Women's Meeting  \\\n",
       "0                                       0                                0   \n",
       "1                                       0                                0   \n",
       "4                                       0                                0   \n",
       "6                                       0                                0   \n",
       "9                                       0                                0   \n",
       "\n",
       "   session_General Women's Session  session_General Women’s Session  \\\n",
       "0                                0                                0   \n",
       "1                                0                                0   \n",
       "4                                0                                0   \n",
       "6                                0                                0   \n",
       "9                                0                                0   \n",
       "\n",
       "   session_General Young Women Meeting  session_Priesthood Session  \\\n",
       "0                                    0                           0   \n",
       "1                                    0                           0   \n",
       "4                                    0                           0   \n",
       "6                                    0                           0   \n",
       "9                                    0                           0   \n",
       "\n",
       "   session_Saturday Afternoon Session  session_Saturday Morning Session  \\\n",
       "0                                   0                                 1   \n",
       "1                                   0                                 1   \n",
       "4                                   0                                 1   \n",
       "6                                   1                                 0   \n",
       "9                                   1                                 0   \n",
       "\n",
       "   session_Special Satellite Broadcast for Children  \\\n",
       "0                                                 0   \n",
       "1                                                 0   \n",
       "4                                                 0   \n",
       "6                                                 0   \n",
       "9                                                 0   \n",
       "\n",
       "   session_Sunday Afternoon Session  session_Sunday Morning Session  \\\n",
       "0                                 0                               0   \n",
       "1                                 0                               0   \n",
       "4                                 0                               0   \n",
       "6                                 0                               0   \n",
       "9                                 0                               0   \n",
       "\n",
       "   speaker_gender_male  session_gendered_male  \\\n",
       "0                    1                      0   \n",
       "1                    1                      0   \n",
       "4                    1                      0   \n",
       "6                    1                      0   \n",
       "9                    1                      0   \n",
       "\n",
       "   session_gendered_male and female  \n",
       "0                                 1  \n",
       "1                                 1  \n",
       "4                                 1  \n",
       "6                                 1  \n",
       "9                                 1  "
      ]
     },
     "execution_count": 11,
     "metadata": {},
     "output_type": "execute_result"
    }
   ],
   "source": [
    "## Extract categorical variables\n",
    "temp = ml_data.select_dtypes(include='object')\n",
    "\n",
    "## Factorize and save as a variable\n",
    "temp_cval = pd.get_dummies(temp, drop_first=True)\n",
    "\n",
    "## drop original categorical variable columns \n",
    "ml_data.drop(temp, axis=1, inplace=True)\n",
    "\n",
    "## merge the factorized categorical values to the original\n",
    "df = ml_data.join(temp_cval)\n",
    "df.head()"
   ]
  },
  {
   "cell_type": "code",
   "execution_count": 12,
   "metadata": {},
   "outputs": [],
   "source": [
    "# stratify accounts for imbalanced classes\n",
    "X_train, X_test, y_train, y_test = train_test_split(df,\n",
    "                                                    y, test_size=0.33,random_state=122519, stratify=y)"
   ]
  },
  {
   "cell_type": "code",
   "execution_count": 13,
   "metadata": {},
   "outputs": [
    {
     "name": "stdout",
     "output_type": "stream",
     "text": [
      "(949, 17)\n",
      "apostle                316\n",
      "seventy                240\n",
      "first presidency       147\n",
      "prophet                 73\n",
      "young women             50\n",
      "relief society          46\n",
      "presiding bishopric     26\n",
      "primary                 24\n",
      "young men                9\n",
      "other                    9\n",
      "sunday school            9\n",
      "Name: gen_calling, dtype: int64\n",
      "apostle                156\n",
      "seventy                119\n",
      "first presidency        73\n",
      "prophet                 36\n",
      "young women             25\n",
      "relief society          22\n",
      "presiding bishopric     12\n",
      "primary                 12\n",
      "sunday school            5\n",
      "young men                4\n",
      "other                    4\n",
      "Name: gen_calling, dtype: int64\n"
     ]
    }
   ],
   "source": [
    "print(X_train.shape)\n",
    "\n",
    "print(y_train.value_counts())\n",
    "\n",
    "print(y_test.value_counts())"
   ]
  },
  {
   "cell_type": "markdown",
   "metadata": {},
   "source": [
    "## Logistic Regression"
   ]
  },
  {
   "cell_type": "code",
   "execution_count": 14,
   "metadata": {},
   "outputs": [],
   "source": [
    "lr = LogisticRegression(solver='lbfgs')\n",
    "lr.fit(X_train, y_train)\n",
    "y_hat1 = lr.predict(X_test) # based on 0.5 cutoff, it determines success or failure"
   ]
  },
  {
   "cell_type": "markdown",
   "metadata": {},
   "source": [
    "## Gaussian Naive Bayes"
   ]
  },
  {
   "cell_type": "code",
   "execution_count": 16,
   "metadata": {},
   "outputs": [],
   "source": [
    "nb = GaussianNB()\n",
    "nb.fit(X_train, y_train)\n",
    "y_hat2 = nb.predict(X_test)"
   ]
  },
  {
   "cell_type": "markdown",
   "metadata": {},
   "source": [
    "Due to our data being multiclass, here's a multiclass AUC score function"
   ]
  },
  {
   "cell_type": "code",
   "execution_count": 21,
   "metadata": {},
   "outputs": [],
   "source": [
    "def multiclass_roc_auc_score(y_test, y_pred, average=\"macro\"):\n",
    "    lb = preprocessing.LabelBinarizer()\n",
    "    lb.fit(y_test)\n",
    "    y_test = lb.transform(y_test)\n",
    "    y_pred = lb.transform(y_pred)\n",
    "    return roc_auc_score(y_test, y_pred, average=average)"
   ]
  },
  {
   "cell_type": "markdown",
   "metadata": {},
   "source": [
    "## Voting Classifier"
   ]
  },
  {
   "cell_type": "code",
   "execution_count": 25,
   "metadata": {},
   "outputs": [],
   "source": [
    "from sklearn.ensemble import VotingClassifier"
   ]
  },
  {
   "cell_type": "code",
   "execution_count": 26,
   "metadata": {},
   "outputs": [],
   "source": [
    "v = VotingClassifier([('nb',nb), ('lr',lr)], voting='soft')\n",
    "v.fit(X_train, y_train)\n",
    "y_hat_v = v.predict(X_test)"
   ]
  },
  {
   "cell_type": "markdown",
   "metadata": {},
   "source": [
    "## KNN"
   ]
  },
  {
   "cell_type": "code",
   "execution_count": 50,
   "metadata": {},
   "outputs": [
    {
     "data": {
      "text/plain": [
       "Text(0, 0.5, 'Testing F1_Score')"
      ]
     },
     "execution_count": 50,
     "metadata": {},
     "output_type": "execute_result"
    },
    {
     "data": {
      "image/png": "[encoded data removed]",
      "text/plain": [
       "<Figure size 432x288 with 1 Axes>"
      ]
     },
     "metadata": {
      "needs_background": "light"
     },
     "output_type": "display_data"
    }
   ],
   "source": [
    "# try K=1 through K=100 and record testing accuracy\n",
    "k_range = range(1, 21)\n",
    "\n",
    "# We can create Python dictionary using [] or dict()\n",
    "scores = []\n",
    "\n",
    "# We use a loop through the range 1 to 101\n",
    "# We append the scores in the dictionary\n",
    "for k in k_range:\n",
    "    knn = KNeighborsClassifier(n_neighbors=k)\n",
    "    knn.fit(X_train, y_train)\n",
    "    y_hat3 = knn.predict(X_test)\n",
    "    scores.append(f1_score(y_test,y_hat3,average=\"weighted\"))\n",
    "\n",
    "# allow plots to appear within the notebook\n",
    "%matplotlib inline\n",
    "\n",
    "# plot the relationship between K and testing accuracy\n",
    "# plt.plot(x_axis, y_axis)\n",
    "plt.plot(k_range, scores)\n",
    "plt.xlabel('Value of K for KNN')\n",
    "plt.ylabel('Testing F1_Score')"
   ]
  },
  {
   "cell_type": "code",
   "execution_count": 51,
   "metadata": {},
   "outputs": [
    {
     "name": "stdout",
     "output_type": "stream",
     "text": [
      "8\n"
     ]
    }
   ],
   "source": [
    "n = k_range[np.argmax(scores)]\n",
    "print(n)"
   ]
  },
  {
   "cell_type": "code",
   "execution_count": 54,
   "metadata": {},
   "outputs": [],
   "source": [
    "knn = KNeighborsClassifier(n_neighbors=n)\n",
    "knn.fit(X_train, y_train)\n",
    "y_hat3 = knn.predict(X_test)"
   ]
  },
  {
   "cell_type": "markdown",
   "metadata": {},
   "source": [
    "## Bagging"
   ]
  },
  {
   "cell_type": "code",
   "execution_count": 56,
   "metadata": {},
   "outputs": [],
   "source": [
    "from sklearn.ensemble import BaggingClassifier, RandomForestClassifier"
   ]
  },
  {
   "cell_type": "code",
   "execution_count": 57,
   "metadata": {},
   "outputs": [],
   "source": [
    "bag = BaggingClassifier(n_estimators=100, n_jobs=-1)"
   ]
  },
  {
   "cell_type": "code",
   "execution_count": 58,
   "metadata": {},
   "outputs": [
    {
     "data": {
      "text/plain": [
       "BaggingClassifier(base_estimator=None, bootstrap=True, bootstrap_features=False,\n",
       "                  max_features=1.0, max_samples=1.0, n_estimators=100,\n",
       "                  n_jobs=-1, oob_score=False, random_state=None, verbose=0,\n",
       "                  warm_start=False)"
      ]
     },
     "execution_count": 58,
     "metadata": {},
     "output_type": "execute_result"
    }
   ],
   "source": [
    "bag.fit(X_train,y_train)"
   ]
  },
  {
   "cell_type": "code",
   "execution_count": 59,
   "metadata": {},
   "outputs": [],
   "source": [
    "bag_pred = bag.predict(X_test)"
   ]
  },
  {
   "cell_type": "code",
   "execution_count": 62,
   "metadata": {},
   "outputs": [],
   "source": [
    "from sklearn.ensemble import GradientBoostingClassifier"
   ]
  },
  {
   "cell_type": "code",
   "execution_count": 63,
   "metadata": {},
   "outputs": [],
   "source": [
    "gb = GradientBoostingClassifier()\n",
    "gb.fit(X_train, y_train)\n",
    "y_hat_gb = gb.predict(X_test)"
   ]
  },
  {
   "cell_type": "markdown",
   "metadata": {},
   "source": [
    "# Decision Tree"
   ]
  },
  {
   "cell_type": "code",
   "execution_count": 67,
   "metadata": {},
   "outputs": [],
   "source": [
    "from sklearn.tree import DecisionTreeClassifier"
   ]
  },
  {
   "cell_type": "code",
   "execution_count": 68,
   "metadata": {},
   "outputs": [],
   "source": [
    "all_scores = []\n",
    "tree_depth = np.arange(2,30)\n",
    "for d in tree_depth:\n",
    "    tree = DecisionTreeClassifier(max_depth=d) \n",
    "    scores = cross_val_score(tree,X_train,y_train, cv=10) \n",
    "    all_scores.append(scores.mean())"
   ]
  },
  {
   "cell_type": "code",
   "execution_count": 69,
   "metadata": {},
   "outputs": [
    {
     "name": "stdout",
     "output_type": "stream",
     "text": [
      "8\n"
     ]
    }
   ],
   "source": [
    "n_depth = tree_depth[np.argmax(all_scores)]\n",
    "print(n_depth)"
   ]
  },
  {
   "cell_type": "code",
   "execution_count": 70,
   "metadata": {},
   "outputs": [
    {
     "data": {
      "text/plain": [
       "[<matplotlib.lines.Line2D at 0x1a2368ed90>]"
      ]
     },
     "execution_count": 70,
     "metadata": {},
     "output_type": "execute_result"
    },
    {
     "data": {
      "image/png": "[encoded data removed]",
      "text/plain": [
       "<Figure size 432x288 with 1 Axes>"
      ]
     },
     "metadata": {
      "needs_background": "light"
     },
     "output_type": "display_data"
    }
   ],
   "source": [
    "plt.plot(tree_depth, all_scores)"
   ]
  },
  {
   "cell_type": "code",
   "execution_count": 78,
   "metadata": {},
   "outputs": [],
   "source": [
    "clf = DecisionTreeClassifier(max_depth=n_depth)\n",
    "clf.fit(X_train, y_train)\n",
    "y_hat_clf = clf.predict(X_test)"
   ]
  },
  {
   "cell_type": "markdown",
   "metadata": {},
   "source": [
    "## Random Forest"
   ]
  },
  {
   "cell_type": "code",
   "execution_count": 80,
   "metadata": {},
   "outputs": [],
   "source": [
    "from sklearn.ensemble import BaggingClassifier, RandomForestClassifier"
   ]
  },
  {
   "cell_type": "code",
   "execution_count": 72,
   "metadata": {},
   "outputs": [],
   "source": [
    "rf = RandomForestClassifier(n_estimators=100, n_jobs=-1, max_depth=n_depth)"
   ]
  },
  {
   "cell_type": "code",
   "execution_count": 73,
   "metadata": {},
   "outputs": [
    {
     "data": {
      "text/plain": [
       "RandomForestClassifier(bootstrap=True, class_weight=None, criterion='gini',\n",
       "                       max_depth=8, max_features='auto', max_leaf_nodes=None,\n",
       "                       min_impurity_decrease=0.0, min_impurity_split=None,\n",
       "                       min_samples_leaf=1, min_samples_split=2,\n",
       "                       min_weight_fraction_leaf=0.0, n_estimators=100,\n",
       "                       n_jobs=-1, oob_score=False, random_state=None, verbose=0,\n",
       "                       warm_start=False)"
      ]
     },
     "execution_count": 73,
     "metadata": {},
     "output_type": "execute_result"
    }
   ],
   "source": [
    "rf.fit(X_train, y_train)"
   ]
  },
  {
   "cell_type": "code",
   "execution_count": 74,
   "metadata": {},
   "outputs": [],
   "source": [
    "rf_pred = rf.predict(X_test)"
   ]
  },
  {
   "cell_type": "code",
   "execution_count": 76,
   "metadata": {},
   "outputs": [],
   "source": [
    "Importance = pd.DataFrame({'Importance':rf.feature_importances_*100}, index=X_train.columns)\n",
    "Importance = Importance.iloc[rf.feature_importances_ > 0,:]\n",
    "Importance = Importance.sort_values('Importance', axis=0, ascending=True)"
   ]
  },
  {
   "cell_type": "code",
   "execution_count": 77,
   "metadata": {},
   "outputs": [
    {
     "data": {
      "text/html": [
       "<div>\n",
       "<style scoped>\n",
       "    .dataframe tbody tr th:only-of-type {\n",
       "        vertical-align: middle;\n",
       "    }\n",
       "\n",
       "    .dataframe tbody tr th {\n",
       "        vertical-align: top;\n",
       "    }\n",
       "\n",
       "    .dataframe thead th {\n",
       "        text-align: right;\n",
       "    }\n",
       "</style>\n",
       "<table border=\"1\" class=\"dataframe\">\n",
       "  <thead>\n",
       "    <tr style=\"text-align: right;\">\n",
       "      <th></th>\n",
       "      <th>Importance</th>\n",
       "    </tr>\n",
       "  </thead>\n",
       "  <tbody>\n",
       "    <tr>\n",
       "      <td>word_count</td>\n",
       "      <td>60.683759</td>\n",
       "    </tr>\n",
       "    <tr>\n",
       "      <td>speaker_gender_male</td>\n",
       "      <td>13.521306</td>\n",
       "    </tr>\n",
       "    <tr>\n",
       "      <td>session_General Young Women Meeting</td>\n",
       "      <td>3.858242</td>\n",
       "    </tr>\n",
       "    <tr>\n",
       "      <td>session_Saturday Afternoon Session</td>\n",
       "      <td>3.666095</td>\n",
       "    </tr>\n",
       "    <tr>\n",
       "      <td>session_gendered_male and female</td>\n",
       "      <td>3.249420</td>\n",
       "    </tr>\n",
       "    <tr>\n",
       "      <td>session_General Relief Society Meeting</td>\n",
       "      <td>2.974558</td>\n",
       "    </tr>\n",
       "    <tr>\n",
       "      <td>session_Sunday Afternoon Session</td>\n",
       "      <td>2.849105</td>\n",
       "    </tr>\n",
       "    <tr>\n",
       "      <td>month_october</td>\n",
       "      <td>2.167951</td>\n",
       "    </tr>\n",
       "    <tr>\n",
       "      <td>session_gendered_male</td>\n",
       "      <td>1.410582</td>\n",
       "    </tr>\n",
       "    <tr>\n",
       "      <td>session_Priesthood Session</td>\n",
       "      <td>1.394615</td>\n",
       "    </tr>\n",
       "  </tbody>\n",
       "</table>\n",
       "</div>"
      ],
      "text/plain": [
       "                                        Importance\n",
       "word_count                               60.683759\n",
       "speaker_gender_male                      13.521306\n",
       "session_General Young Women Meeting       3.858242\n",
       "session_Saturday Afternoon Session        3.666095\n",
       "session_gendered_male and female          3.249420\n",
       "session_General Relief Society Meeting    2.974558\n",
       "session_Sunday Afternoon Session          2.849105\n",
       "month_october                             2.167951\n",
       "session_gendered_male                     1.410582\n",
       "session_Priesthood Session                1.394615"
      ]
     },
     "execution_count": 77,
     "metadata": {},
     "output_type": "execute_result"
    }
   ],
   "source": [
    "Importance.sort_values('Importance', axis=0, ascending=False).head(10)"
   ]
  },
  {
   "cell_type": "code",
   "execution_count": 82,
   "metadata": {},
   "outputs": [
    {
     "name": "stdout",
     "output_type": "stream",
     "text": [
      "Logistic \n",
      "                      precision    recall  f1-score   support\n",
      "\n",
      "            apostle       0.65      0.84      0.73       156\n",
      "   first presidency       0.58      0.40      0.47        73\n",
      "              other       0.00      0.00      0.00         4\n",
      "presiding bishopric       0.00      0.00      0.00        12\n",
      "            primary       0.43      0.25      0.32        12\n",
      "            prophet       0.00      0.00      0.00        36\n",
      "     relief society       0.51      0.86      0.64        22\n",
      "            seventy       0.58      0.76      0.66       119\n",
      "      sunday school       0.00      0.00      0.00         5\n",
      "          young men       0.00      0.00      0.00         4\n",
      "        young women       0.87      0.52      0.65        25\n",
      "\n",
      "           accuracy                           0.61       468\n",
      "          macro avg       0.33      0.33      0.32       468\n",
      "       weighted avg       0.54      0.61      0.56       468\n",
      " \n",
      "\t\t\t AUC 0.64 \n",
      "\n",
      "GaussianNB \n",
      "                      precision    recall  f1-score   support\n",
      "\n",
      "            apostle       0.39      0.18      0.25       156\n",
      "   first presidency       1.00      0.10      0.17        73\n",
      "              other       0.75      0.75      0.75         4\n",
      "presiding bishopric       0.00      0.00      0.00        12\n",
      "            primary       0.41      0.92      0.56        12\n",
      "            prophet       0.20      0.25      0.22        36\n",
      "     relief society       1.00      0.77      0.87        22\n",
      "            seventy       0.67      0.03      0.06       119\n",
      "      sunday school       0.02      1.00      0.04         5\n",
      "          young men       0.12      0.75      0.21         4\n",
      "        young women       0.80      0.48      0.60        25\n",
      "\n",
      "           accuracy                           0.21       468\n",
      "          macro avg       0.49      0.48      0.34       468\n",
      "       weighted avg       0.58      0.21      0.24       468\n",
      " \n",
      "\t\t\t AUC 0.7 \n",
      "\n",
      "KNN \n",
      "                      precision    recall  f1-score   support\n",
      "\n",
      "            apostle       0.53      0.76      0.63       156\n",
      "   first presidency       0.42      0.29      0.34        73\n",
      "              other       0.57      1.00      0.73         4\n",
      "presiding bishopric       1.00      0.08      0.15        12\n",
      "            primary       0.00      0.00      0.00        12\n",
      "            prophet       0.45      0.14      0.21        36\n",
      "     relief society       0.00      0.00      0.00        22\n",
      "            seventy       0.59      0.80      0.68       119\n",
      "      sunday school       0.00      0.00      0.00         5\n",
      "          young men       0.00      0.00      0.00         4\n",
      "        young women       0.25      0.08      0.12        25\n",
      "\n",
      "           accuracy                           0.53       468\n",
      "          macro avg       0.35      0.29      0.26       468\n",
      "       weighted avg       0.47      0.53      0.47       468\n",
      " \n",
      "\t\t\t AUC 0.61 \n",
      "\n",
      "VotingClassifier \n",
      "                      precision    recall  f1-score   support\n",
      "\n",
      "            apostle       0.43      0.21      0.28       156\n",
      "   first presidency       1.00      0.10      0.17        73\n",
      "              other       0.75      0.75      0.75         4\n",
      "presiding bishopric       0.00      0.00      0.00        12\n",
      "            primary       0.41      0.92      0.56        12\n",
      "            prophet       0.21      0.25      0.23        36\n",
      "     relief society       1.00      0.77      0.87        22\n",
      "            seventy       0.64      0.06      0.11       119\n",
      "      sunday school       0.02      1.00      0.04         5\n",
      "          young men       0.12      0.75      0.21         4\n",
      "        young women       0.80      0.48      0.60        25\n",
      "\n",
      "           accuracy                           0.23       468\n",
      "          macro avg       0.49      0.48      0.35       468\n",
      "       weighted avg       0.59      0.23      0.26       468\n",
      " \n",
      "\t\t\t AUC 0.7 \n",
      "\n"
     ]
    }
   ],
   "source": [
    "print('Logistic','\\n',metrics.classification_report(y_test, y_hat1),\n",
    "      '\\n\\t\\t\\t','AUC',round(multiclass_roc_auc_score(y_test,y_hat1),2),'\\n')\n",
    "print('GaussianNB', '\\n', metrics.classification_report(y_test, y_hat2),\n",
    "      '\\n\\t\\t\\t','AUC',round(multiclass_roc_auc_score(y_test,y_hat2),2),'\\n')\n",
    "print('KNN','\\n',metrics.classification_report(y_test,y_hat3),\n",
    "      '\\n\\t\\t\\t','AUC',round(multiclass_roc_auc_score(y_test,y_hat3),2),'\\n')\n",
    "print('VotingClassifier','\\n',metrics.classification_report(y_test,y_hat_v),\n",
    "      '\\n\\t\\t\\t','AUC',round(multiclass_roc_auc_score(y_test,y_hat_v),2),'\\n')"
   ]
  },
  {
   "cell_type": "code",
   "execution_count": 83,
   "metadata": {},
   "outputs": [
    {
     "name": "stdout",
     "output_type": "stream",
     "text": [
      "Bagging \n",
      "                      precision    recall  f1-score   support\n",
      "\n",
      "            apostle       0.70      0.72      0.71       156\n",
      "   first presidency       0.58      0.58      0.58        73\n",
      "              other       1.00      0.75      0.86         4\n",
      "presiding bishopric       0.17      0.08      0.11        12\n",
      "            primary       0.25      0.08      0.12        12\n",
      "            prophet       0.40      0.33      0.36        36\n",
      "     relief society       0.54      0.86      0.67        22\n",
      "            seventy       0.69      0.77      0.73       119\n",
      "      sunday school       0.00      0.00      0.00         5\n",
      "          young men       0.20      0.25      0.22         4\n",
      "        young women       0.70      0.56      0.62        25\n",
      "\n",
      "           accuracy                           0.63       468\n",
      "          macro avg       0.48      0.45      0.45       468\n",
      "       weighted avg       0.61      0.63      0.62       468\n",
      " \n",
      "\t\t\t AUC 0.71 \n",
      "\n",
      "Decision Tree \n",
      "                      precision    recall  f1-score   support\n",
      "\n",
      "            apostle       0.67      0.83      0.74       156\n",
      "   first presidency       0.77      0.55      0.64        73\n",
      "              other       1.00      0.75      0.86         4\n",
      "presiding bishopric       0.00      0.00      0.00        12\n",
      "            primary       0.00      0.00      0.00        12\n",
      "            prophet       0.57      0.33      0.42        36\n",
      "     relief society       0.45      0.91      0.61        22\n",
      "            seventy       0.70      0.81      0.75       119\n",
      "      sunday school       0.00      0.00      0.00         5\n",
      "          young men       0.00      0.00      0.00         4\n",
      "        young women       0.86      0.48      0.62        25\n",
      "\n",
      "           accuracy                           0.67       468\n",
      "          macro avg       0.46      0.42      0.42       468\n",
      "       weighted avg       0.64      0.67      0.64       468\n",
      " \n",
      "\t\t\t AUC 0.69 \n",
      "\n",
      "Random Forest \n",
      "                      precision    recall  f1-score   support\n",
      "\n",
      "            apostle       0.67      0.78      0.72       156\n",
      "   first presidency       0.75      0.55      0.63        73\n",
      "              other       1.00      0.75      0.86         4\n",
      "presiding bishopric       0.00      0.00      0.00        12\n",
      "            primary       0.33      0.08      0.13        12\n",
      "            prophet       0.50      0.25      0.33        36\n",
      "     relief society       0.50      0.86      0.63        22\n",
      "            seventy       0.66      0.85      0.74       119\n",
      "      sunday school       0.00      0.00      0.00         5\n",
      "          young men       1.00      0.25      0.40         4\n",
      "        young women       0.72      0.52      0.60        25\n",
      "\n",
      "           accuracy                           0.66       468\n",
      "          macro avg       0.56      0.45      0.46       468\n",
      "       weighted avg       0.64      0.66      0.63       468\n",
      " \n",
      "\t\t\t AUC 0.7 \n",
      "\n"
     ]
    }
   ],
   "source": [
    "print('Bagging','\\n',metrics.classification_report(y_test, bag_pred),\n",
    "      '\\n\\t\\t\\t','AUC',round(multiclass_roc_auc_score(y_test,bag_pred),2),'\\n')\n",
    "print('Decision Tree','\\n',metrics.classification_report(y_test, y_hat_clf),\n",
    "      '\\n\\t\\t\\t','AUC',round(multiclass_roc_auc_score(y_test,y_hat_clf),2),'\\n')\n",
    "print('Random Forest','\\n',metrics.classification_report(y_test, rf_pred),\n",
    "      '\\n\\t\\t\\t','AUC',round(multiclass_roc_auc_score(y_test,rf_pred),2),'\\n')"
   ]
  },
  {
   "cell_type": "code",
   "execution_count": null,
   "metadata": {},
   "outputs": [],
   "source": []
  }
 ],
 "metadata": {
  "kernelspec": {
   "display_name": "Python 3",
   "language": "python",
   "name": "python3"
  },
  "language_info": {
   "codemirror_mode": {
    "name": "ipython",
    "version": 3
   },
   "file_extension": ".py",
   "mimetype": "text/x-python",
   "name": "python",
   "nbconvert_exporter": "python",
   "pygments_lexer": "ipython3",
   "version": "3.7.4"
  }
 },
 "nbformat": 4,
 "nbformat_minor": 2
}
