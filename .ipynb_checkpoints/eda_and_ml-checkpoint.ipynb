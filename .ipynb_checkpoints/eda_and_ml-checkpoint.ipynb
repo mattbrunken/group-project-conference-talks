{
 "cells": [
  {
   "cell_type": "markdown",
   "metadata": {},
   "source": [
    "# Data"
   ]
  },
  {
   "cell_type": "markdown",
   "metadata": {},
   "source": [
    "The dataset are using in this analysis scraped information from https://www.churchofjesuschrist.org/?lang=eng. The specific .csv was created in the data_compiler.R script (see repository). "
   ]
  },
  {
   "cell_type": "code",
   "execution_count": 72,
   "metadata": {},
   "outputs": [],
   "source": [
    "import pandas as pd\n",
    "import numpy as np \n",
    "import warnings\n",
    "warnings.filterwarnings(\"ignore\")"
   ]
  },
  {
   "cell_type": "code",
   "execution_count": 14,
   "metadata": {},
   "outputs": [
    {
     "data": {
      "text/html": [
       "<div>\n",
       "<style scoped>\n",
       "    .dataframe tbody tr th:only-of-type {\n",
       "        vertical-align: middle;\n",
       "    }\n",
       "\n",
       "    .dataframe tbody tr th {\n",
       "        vertical-align: top;\n",
       "    }\n",
       "\n",
       "    .dataframe thead th {\n",
       "        text-align: right;\n",
       "    }\n",
       "</style>\n",
       "<table border=\"1\" class=\"dataframe\">\n",
       "  <thead>\n",
       "    <tr style=\"text-align: right;\">\n",
       "      <th></th>\n",
       "      <th>Unnamed: 0</th>\n",
       "      <th>year</th>\n",
       "      <th>month</th>\n",
       "      <th>session</th>\n",
       "      <th>talk_title</th>\n",
       "      <th>speaker</th>\n",
       "      <th>talk_url</th>\n",
       "      <th>talk_text</th>\n",
       "      <th>word_count</th>\n",
       "    </tr>\n",
       "  </thead>\n",
       "  <tbody>\n",
       "    <tr>\n",
       "      <th>0</th>\n",
       "      <td>1</td>\n",
       "      <td>1999</td>\n",
       "      <td>4</td>\n",
       "      <td>Saturday Morning Session</td>\n",
       "      <td>The Work Moves Forward</td>\n",
       "      <td>Gordon B. Hinckley</td>\n",
       "      <td>https://www.lds.org/general-conference/1999/04...</td>\n",
       "      <td>Welcome to conference! We again welcome you, m...</td>\n",
       "      <td>890</td>\n",
       "    </tr>\n",
       "    <tr>\n",
       "      <th>1</th>\n",
       "      <td>2</td>\n",
       "      <td>1999</td>\n",
       "      <td>4</td>\n",
       "      <td>Saturday Morning Session</td>\n",
       "      <td>Teach Them the Word of God with All Diligence</td>\n",
       "      <td>L. Tom Perry</td>\n",
       "      <td>https://www.lds.org/general-conference/1999/04...</td>\n",
       "      <td>On Sunday morning, December 9, 1849, at eight ...</td>\n",
       "      <td>2303</td>\n",
       "    </tr>\n",
       "    <tr>\n",
       "      <th>2</th>\n",
       "      <td>3</td>\n",
       "      <td>1999</td>\n",
       "      <td>4</td>\n",
       "      <td>Saturday Morning Session</td>\n",
       "      <td>Greed, Selfishness, and Overindulgence</td>\n",
       "      <td>Joe J. Christensen</td>\n",
       "      <td>https://www.lds.org/general-conference/1999/04...</td>\n",
       "      <td>They say the gospel is to comfort the afflicte...</td>\n",
       "      <td>2041</td>\n",
       "    </tr>\n",
       "    <tr>\n",
       "      <th>3</th>\n",
       "      <td>4</td>\n",
       "      <td>1999</td>\n",
       "      <td>4</td>\n",
       "      <td>Saturday Morning Session</td>\n",
       "      <td>Preparing Our Families for the Temple</td>\n",
       "      <td>Carol B. Thomas</td>\n",
       "      <td>https://www.lds.org/general-conference/1999/04...</td>\n",
       "      <td>Brothers and sisters, I think I am happy to be...</td>\n",
       "      <td>2022</td>\n",
       "    </tr>\n",
       "    <tr>\n",
       "      <th>4</th>\n",
       "      <td>5</td>\n",
       "      <td>1999</td>\n",
       "      <td>4</td>\n",
       "      <td>Saturday Morning Session</td>\n",
       "      <td>The Hands of the Fathers</td>\n",
       "      <td>Jeffrey R. Holland</td>\n",
       "      <td>https://www.lds.org/general-conference/1999/04...</td>\n",
       "      <td>On this Easter weekend I wish to thank not onl...</td>\n",
       "      <td>2057</td>\n",
       "    </tr>\n",
       "  </tbody>\n",
       "</table>\n",
       "</div>"
      ],
      "text/plain": [
       "   Unnamed: 0  year  month                   session  \\\n",
       "0           1  1999      4  Saturday Morning Session   \n",
       "1           2  1999      4  Saturday Morning Session   \n",
       "2           3  1999      4  Saturday Morning Session   \n",
       "3           4  1999      4  Saturday Morning Session   \n",
       "4           5  1999      4  Saturday Morning Session   \n",
       "\n",
       "                                      talk_title             speaker  \\\n",
       "0                         The Work Moves Forward  Gordon B. Hinckley   \n",
       "1  Teach Them the Word of God with All Diligence        L. Tom Perry   \n",
       "2         Greed, Selfishness, and Overindulgence  Joe J. Christensen   \n",
       "3          Preparing Our Families for the Temple     Carol B. Thomas   \n",
       "4                       The Hands of the Fathers  Jeffrey R. Holland   \n",
       "\n",
       "                                            talk_url  \\\n",
       "0  https://www.lds.org/general-conference/1999/04...   \n",
       "1  https://www.lds.org/general-conference/1999/04...   \n",
       "2  https://www.lds.org/general-conference/1999/04...   \n",
       "3  https://www.lds.org/general-conference/1999/04...   \n",
       "4  https://www.lds.org/general-conference/1999/04...   \n",
       "\n",
       "                                           talk_text  word_count  \n",
       "0  Welcome to conference! We again welcome you, m...         890  \n",
       "1  On Sunday morning, December 9, 1849, at eight ...        2303  \n",
       "2  They say the gospel is to comfort the afflicte...        2041  \n",
       "3  Brothers and sisters, I think I am happy to be...        2022  \n",
       "4  On this Easter weekend I wish to thank not onl...        2057  "
      ]
     },
     "execution_count": 14,
     "metadata": {},
     "output_type": "execute_result"
    }
   ],
   "source": [
    "# read in data and look at head\n",
    "conf_raw = pd.read_csv('all_conference.csv')\n",
    "conf_raw.head()"
   ]
  },
  {
   "cell_type": "markdown",
   "metadata": {},
   "source": [
    "### Data info"
   ]
  },
  {
   "cell_type": "markdown",
   "metadata": {},
   "source": [
    "This dataset contains information about LDS conference talks from 1999-2019. Our target variable for this analysis is word_count, and our features are year, month, session, and speaker (will add more features as we try more with our webscraper)."
   ]
  },
  {
   "cell_type": "markdown",
   "metadata": {},
   "source": [
    "### Cleaning"
   ]
  },
  {
   "cell_type": "markdown",
   "metadata": {},
   "source": [
    "Let's check for strange values of our target variable to determine what cleaning we need to do. I suspect that observations with very small word counts would be trouble datapoints. "
   ]
  },
  {
   "cell_type": "code",
   "execution_count": 15,
   "metadata": {},
   "outputs": [
    {
     "data": {
      "text/html": [
       "<div>\n",
       "<style scoped>\n",
       "    .dataframe tbody tr th:only-of-type {\n",
       "        vertical-align: middle;\n",
       "    }\n",
       "\n",
       "    .dataframe tbody tr th {\n",
       "        vertical-align: top;\n",
       "    }\n",
       "\n",
       "    .dataframe thead th {\n",
       "        text-align: right;\n",
       "    }\n",
       "</style>\n",
       "<table border=\"1\" class=\"dataframe\">\n",
       "  <thead>\n",
       "    <tr style=\"text-align: right;\">\n",
       "      <th></th>\n",
       "      <th>Unnamed: 0</th>\n",
       "      <th>year</th>\n",
       "      <th>month</th>\n",
       "      <th>session</th>\n",
       "      <th>talk_title</th>\n",
       "      <th>speaker</th>\n",
       "      <th>talk_url</th>\n",
       "      <th>talk_text</th>\n",
       "      <th>word_count</th>\n",
       "    </tr>\n",
       "  </thead>\n",
       "  <tbody>\n",
       "    <tr>\n",
       "      <th>613</th>\n",
       "      <td>614</td>\n",
       "      <td>2006</td>\n",
       "      <td>10</td>\n",
       "      <td>General Relief Society Meeting</td>\n",
       "      <td>Feeling the Love of the Lord</td>\n",
       "      <td>The Church of Jesus Christ of Latter-day Saints</td>\n",
       "      <td>https://www.lds.org/general-conference/2006/10...</td>\n",
       "      <td>NaN</td>\n",
       "      <td>1</td>\n",
       "    </tr>\n",
       "    <tr>\n",
       "      <th>742</th>\n",
       "      <td>743</td>\n",
       "      <td>2008</td>\n",
       "      <td>4</td>\n",
       "      <td>General Young Women Meeting</td>\n",
       "      <td>Video Presentation</td>\n",
       "      <td>The Church of Jesus Christ of Latter-day Saints</td>\n",
       "      <td>https://www.lds.org/general-conference/2008/04...</td>\n",
       "      <td>NaN</td>\n",
       "      <td>1</td>\n",
       "    </tr>\n",
       "    <tr>\n",
       "      <th>819</th>\n",
       "      <td>820</td>\n",
       "      <td>2009</td>\n",
       "      <td>4</td>\n",
       "      <td>General Young Women Meeting</td>\n",
       "      <td>Virtue: For Such a Time as This</td>\n",
       "      <td>The Church of Jesus Christ of Latter-day Saints</td>\n",
       "      <td>https://www.lds.org/general-conference/2009/04...</td>\n",
       "      <td>NaN</td>\n",
       "      <td>1</td>\n",
       "    </tr>\n",
       "    <tr>\n",
       "      <th>899</th>\n",
       "      <td>900</td>\n",
       "      <td>2010</td>\n",
       "      <td>4</td>\n",
       "      <td>General Young Women Meeting</td>\n",
       "      <td>Be Strong: I Know Who I Am</td>\n",
       "      <td>The Church of Jesus Christ of Latter-day Saints</td>\n",
       "      <td>https://www.lds.org/general-conference/2010/04...</td>\n",
       "      <td>NaN</td>\n",
       "      <td>1</td>\n",
       "    </tr>\n",
       "    <tr>\n",
       "      <th>939</th>\n",
       "      <td>940</td>\n",
       "      <td>2010</td>\n",
       "      <td>10</td>\n",
       "      <td>General Relief Society Meeting</td>\n",
       "      <td>And of Some Have Compassion, Making a Difference</td>\n",
       "      <td>Barbara Thompson</td>\n",
       "      <td>https://www.lds.org/general-conference/2010/10...</td>\n",
       "      <td>NaN</td>\n",
       "      <td>1</td>\n",
       "    </tr>\n",
       "  </tbody>\n",
       "</table>\n",
       "</div>"
      ],
      "text/plain": [
       "     Unnamed: 0  year  month                         session  \\\n",
       "613         614  2006     10  General Relief Society Meeting   \n",
       "742         743  2008      4     General Young Women Meeting   \n",
       "819         820  2009      4     General Young Women Meeting   \n",
       "899         900  2010      4     General Young Women Meeting   \n",
       "939         940  2010     10  General Relief Society Meeting   \n",
       "\n",
       "                                           talk_title  \\\n",
       "613                      Feeling the Love of the Lord   \n",
       "742                                Video Presentation   \n",
       "819                   Virtue: For Such a Time as This   \n",
       "899                        Be Strong: I Know Who I Am   \n",
       "939  And of Some Have Compassion, Making a Difference   \n",
       "\n",
       "                                             speaker  \\\n",
       "613  The Church of Jesus Christ of Latter-day Saints   \n",
       "742  The Church of Jesus Christ of Latter-day Saints   \n",
       "819  The Church of Jesus Christ of Latter-day Saints   \n",
       "899  The Church of Jesus Christ of Latter-day Saints   \n",
       "939                                 Barbara Thompson   \n",
       "\n",
       "                                              talk_url talk_text  word_count  \n",
       "613  https://www.lds.org/general-conference/2006/10...       NaN           1  \n",
       "742  https://www.lds.org/general-conference/2008/04...       NaN           1  \n",
       "819  https://www.lds.org/general-conference/2009/04...       NaN           1  \n",
       "899  https://www.lds.org/general-conference/2010/04...       NaN           1  \n",
       "939  https://www.lds.org/general-conference/2010/10...       NaN           1  "
      ]
     },
     "execution_count": 15,
     "metadata": {},
     "output_type": "execute_result"
    }
   ],
   "source": [
    "conf_raw.nsmallest(5, 'word_count')"
   ]
  },
  {
   "cell_type": "markdown",
   "metadata": {},
   "source": [
    "We have some datapoints with missing text. We should drop these values, since their word count values do not represent the actual talk length."
   ]
  },
  {
   "cell_type": "code",
   "execution_count": 16,
   "metadata": {},
   "outputs": [
    {
     "data": {
      "text/plain": [
       "Unnamed: 0     0\n",
       "year           0\n",
       "month          0\n",
       "session        0\n",
       "talk_title     0\n",
       "speaker        0\n",
       "talk_url       0\n",
       "talk_text     17\n",
       "word_count     0\n",
       "dtype: int64"
      ]
     },
     "execution_count": 16,
     "metadata": {},
     "output_type": "execute_result"
    }
   ],
   "source": [
    "# find total number of Nans in 'talk_text' column\n",
    "conf_raw.isna().sum()"
   ]
  },
  {
   "cell_type": "code",
   "execution_count": 17,
   "metadata": {},
   "outputs": [],
   "source": [
    "# drop these 17 talks\n",
    "conf = conf_raw.dropna()"
   ]
  },
  {
   "cell_type": "code",
   "execution_count": 19,
   "metadata": {},
   "outputs": [
    {
     "name": "stdout",
     "output_type": "stream",
     "text": [
      "<class 'pandas.core.frame.DataFrame'>\n",
      "RangeIndex: 1603 entries, 0 to 1602\n",
      "Data columns (total 9 columns):\n",
      "Unnamed: 0    1603 non-null int64\n",
      "year          1603 non-null int64\n",
      "month         1603 non-null int64\n",
      "session       1603 non-null object\n",
      "talk_title    1603 non-null object\n",
      "speaker       1603 non-null object\n",
      "talk_url      1603 non-null object\n",
      "talk_text     1586 non-null object\n",
      "word_count    1603 non-null int64\n",
      "dtypes: int64(4), object(5)\n",
      "memory usage: 112.8+ KB\n",
      "None\n",
      "<class 'pandas.core.frame.DataFrame'>\n",
      "Int64Index: 1586 entries, 0 to 1602\n",
      "Data columns (total 9 columns):\n",
      "Unnamed: 0    1586 non-null int64\n",
      "year          1586 non-null int64\n",
      "month         1586 non-null int64\n",
      "session       1586 non-null object\n",
      "talk_title    1586 non-null object\n",
      "speaker       1586 non-null object\n",
      "talk_url      1586 non-null object\n",
      "talk_text     1586 non-null object\n",
      "word_count    1586 non-null int64\n",
      "dtypes: int64(4), object(5)\n",
      "memory usage: 123.9+ KB\n",
      "None\n"
     ]
    }
   ],
   "source": [
    "# compare the orignial dataframe to the new one\n",
    "print(conf_raw.info())\n",
    "print(conf.info())"
   ]
  },
  {
   "cell_type": "markdown",
   "metadata": {},
   "source": [
    "# EDA"
   ]
  },
  {
   "cell_type": "markdown",
   "metadata": {},
   "source": [
    "Before we get into our main analysis, let's explore our data a little."
   ]
  },
  {
   "cell_type": "markdown",
   "metadata": {},
   "source": [
    "First, let's see how talk length changes over time. "
   ]
  },
  {
   "cell_type": "code",
   "execution_count": 21,
   "metadata": {},
   "outputs": [],
   "source": [
    "import plotly.graph_objects as go\n",
    "import datetime"
   ]
  },
  {
   "cell_type": "code",
   "execution_count": 30,
   "metadata": {},
   "outputs": [],
   "source": [
    "# summarize word count by year\n",
    "df = pd.DataFrame(conf['word_count'].groupby(conf['year']).mean())"
   ]
  },
  {
   "cell_type": "code",
   "execution_count": 37,
   "metadata": {},
   "outputs": [],
   "source": [
    "# add column of year\n",
    "df['year'] = np.arange(1999,2020)"
   ]
  },
  {
   "cell_type": "code",
   "execution_count": 103,
   "metadata": {},
   "outputs": [
    {
     "data": {
      "application/vnd.plotly.v1+json": {
       "config": {
        "plotlyServerURL": "https://plot.ly"
       },
       "data": [
        {
         "line": {
          "color": "#FCD16B"
         },
         "type": "scatter",
         "x": [
          1999,
          2000,
          2001,
          2002,
          2003,
          2004,
          2005,
          2006,
          2007,
          2008,
          2009,
          2010,
          2011,
          2012,
          2013,
          2014,
          2015,
          2016,
          2017,
          2018,
          2019
         ],
         "y": [
          1843.3461538461538,
          1731.6493506493507,
          1785.7368421052631,
          1730.48,
          1679.2692307692307,
          1717.8157894736842,
          1722.7763157894738,
          1648.05,
          1546.9882352941177,
          1702.2151898734178,
          1753.423076923077,
          1724.8974358974358,
          1737.9113924050632,
          1716.379746835443,
          1650.6582278481012,
          1588.4102564102564,
          1605.379746835443,
          1608.4342105263158,
          1675.0533333333333,
          1559.361111111111,
          1642.3030303030303
         ]
        }
       ],
       "layout": {
        "plot_bgcolor": "white",
        "template": {
         "data": {
          "bar": [
           {
            "error_x": {
             "color": "#2a3f5f"
            },
            "error_y": {
             "color": "#2a3f5f"
            },
            "marker": {
             "line": {
              "color": "#E5ECF6",
              "width": 0.5
             }
            },
            "type": "bar"
           }
          ],
          "barpolar": [
           {
            "marker": {
             "line": {
              "color": "#E5ECF6",
              "width": 0.5
             }
            },
            "type": "barpolar"
           }
          ],
          "carpet": [
           {
            "aaxis": {
             "endlinecolor": "#2a3f5f",
             "gridcolor": "white",
             "linecolor": "white",
             "minorgridcolor": "white",
             "startlinecolor": "#2a3f5f"
            },
            "baxis": {
             "endlinecolor": "#2a3f5f",
             "gridcolor": "white",
             "linecolor": "white",
             "minorgridcolor": "white",
             "startlinecolor": "#2a3f5f"
            },
            "type": "carpet"
           }
          ],
          "choropleth": [
           {
            "colorbar": {
             "outlinewidth": 0,
             "ticks": ""
            },
            "type": "choropleth"
           }
          ],
          "contour": [
           {
            "colorbar": {
             "outlinewidth": 0,
             "ticks": ""
            },
            "colorscale": [
             [
              0,
              "#0d0887"
             ],
             [
              0.1111111111111111,
              "#46039f"
             ],
             [
              0.2222222222222222,
              "#7201a8"
             ],
             [
              0.3333333333333333,
              "#9c179e"
             ],
             [
              0.4444444444444444,
              "#bd3786"
             ],
             [
              0.5555555555555556,
              "#d8576b"
             ],
             [
              0.6666666666666666,
              "#ed7953"
             ],
             [
              0.7777777777777778,
              "#fb9f3a"
             ],
             [
              0.8888888888888888,
              "#fdca26"
             ],
             [
              1,
              "#f0f921"
             ]
            ],
            "type": "contour"
           }
          ],
          "contourcarpet": [
           {
            "colorbar": {
             "outlinewidth": 0,
             "ticks": ""
            },
            "type": "contourcarpet"
           }
          ],
          "heatmap": [
           {
            "colorbar": {
             "outlinewidth": 0,
             "ticks": ""
            },
            "colorscale": [
             [
              0,
              "#0d0887"
             ],
             [
              0.1111111111111111,
              "#46039f"
             ],
             [
              0.2222222222222222,
              "#7201a8"
             ],
             [
              0.3333333333333333,
              "#9c179e"
             ],
             [
              0.4444444444444444,
              "#bd3786"
             ],
             [
              0.5555555555555556,
              "#d8576b"
             ],
             [
              0.6666666666666666,
              "#ed7953"
             ],
             [
              0.7777777777777778,
              "#fb9f3a"
             ],
             [
              0.8888888888888888,
              "#fdca26"
             ],
             [
              1,
              "#f0f921"
             ]
            ],
            "type": "heatmap"
           }
          ],
          "heatmapgl": [
           {
            "colorbar": {
             "outlinewidth": 0,
             "ticks": ""
            },
            "colorscale": [
             [
              0,
              "#0d0887"
             ],
             [
              0.1111111111111111,
              "#46039f"
             ],
             [
              0.2222222222222222,
              "#7201a8"
             ],
             [
              0.3333333333333333,
              "#9c179e"
             ],
             [
              0.4444444444444444,
              "#bd3786"
             ],
             [
              0.5555555555555556,
              "#d8576b"
             ],
             [
              0.6666666666666666,
              "#ed7953"
             ],
             [
              0.7777777777777778,
              "#fb9f3a"
             ],
             [
              0.8888888888888888,
              "#fdca26"
             ],
             [
              1,
              "#f0f921"
             ]
            ],
            "type": "heatmapgl"
           }
          ],
          "histogram": [
           {
            "marker": {
             "colorbar": {
              "outlinewidth": 0,
              "ticks": ""
             }
            },
            "type": "histogram"
           }
          ],
          "histogram2d": [
           {
            "colorbar": {
             "outlinewidth": 0,
             "ticks": ""
            },
            "colorscale": [
             [
              0,
              "#0d0887"
             ],
             [
              0.1111111111111111,
              "#46039f"
             ],
             [
              0.2222222222222222,
              "#7201a8"
             ],
             [
              0.3333333333333333,
              "#9c179e"
             ],
             [
              0.4444444444444444,
              "#bd3786"
             ],
             [
              0.5555555555555556,
              "#d8576b"
             ],
             [
              0.6666666666666666,
              "#ed7953"
             ],
             [
              0.7777777777777778,
              "#fb9f3a"
             ],
             [
              0.8888888888888888,
              "#fdca26"
             ],
             [
              1,
              "#f0f921"
             ]
            ],
            "type": "histogram2d"
           }
          ],
          "histogram2dcontour": [
           {
            "colorbar": {
             "outlinewidth": 0,
             "ticks": ""
            },
            "colorscale": [
             [
              0,
              "#0d0887"
             ],
             [
              0.1111111111111111,
              "#46039f"
             ],
             [
              0.2222222222222222,
              "#7201a8"
             ],
             [
              0.3333333333333333,
              "#9c179e"
             ],
             [
              0.4444444444444444,
              "#bd3786"
             ],
             [
              0.5555555555555556,
              "#d8576b"
             ],
             [
              0.6666666666666666,
              "#ed7953"
             ],
             [
              0.7777777777777778,
              "#fb9f3a"
             ],
             [
              0.8888888888888888,
              "#fdca26"
             ],
             [
              1,
              "#f0f921"
             ]
            ],
            "type": "histogram2dcontour"
           }
          ],
          "mesh3d": [
           {
            "colorbar": {
             "outlinewidth": 0,
             "ticks": ""
            },
            "type": "mesh3d"
           }
          ],
          "parcoords": [
           {
            "line": {
             "colorbar": {
              "outlinewidth": 0,
              "ticks": ""
             }
            },
            "type": "parcoords"
           }
          ],
          "scatter": [
           {
            "marker": {
             "colorbar": {
              "outlinewidth": 0,
              "ticks": ""
             }
            },
            "type": "scatter"
           }
          ],
          "scatter3d": [
           {
            "line": {
             "colorbar": {
              "outlinewidth": 0,
              "ticks": ""
             }
            },
            "marker": {
             "colorbar": {
              "outlinewidth": 0,
              "ticks": ""
             }
            },
            "type": "scatter3d"
           }
          ],
          "scattercarpet": [
           {
            "marker": {
             "colorbar": {
              "outlinewidth": 0,
              "ticks": ""
             }
            },
            "type": "scattercarpet"
           }
          ],
          "scattergeo": [
           {
            "marker": {
             "colorbar": {
              "outlinewidth": 0,
              "ticks": ""
             }
            },
            "type": "scattergeo"
           }
          ],
          "scattergl": [
           {
            "marker": {
             "colorbar": {
              "outlinewidth": 0,
              "ticks": ""
             }
            },
            "type": "scattergl"
           }
          ],
          "scattermapbox": [
           {
            "marker": {
             "colorbar": {
              "outlinewidth": 0,
              "ticks": ""
             }
            },
            "type": "scattermapbox"
           }
          ],
          "scatterpolar": [
           {
            "marker": {
             "colorbar": {
              "outlinewidth": 0,
              "ticks": ""
             }
            },
            "type": "scatterpolar"
           }
          ],
          "scatterpolargl": [
           {
            "marker": {
             "colorbar": {
              "outlinewidth": 0,
              "ticks": ""
             }
            },
            "type": "scatterpolargl"
           }
          ],
          "scatterternary": [
           {
            "marker": {
             "colorbar": {
              "outlinewidth": 0,
              "ticks": ""
             }
            },
            "type": "scatterternary"
           }
          ],
          "surface": [
           {
            "colorbar": {
             "outlinewidth": 0,
             "ticks": ""
            },
            "colorscale": [
             [
              0,
              "#0d0887"
             ],
             [
              0.1111111111111111,
              "#46039f"
             ],
             [
              0.2222222222222222,
              "#7201a8"
             ],
             [
              0.3333333333333333,
              "#9c179e"
             ],
             [
              0.4444444444444444,
              "#bd3786"
             ],
             [
              0.5555555555555556,
              "#d8576b"
             ],
             [
              0.6666666666666666,
              "#ed7953"
             ],
             [
              0.7777777777777778,
              "#fb9f3a"
             ],
             [
              0.8888888888888888,
              "#fdca26"
             ],
             [
              1,
              "#f0f921"
             ]
            ],
            "type": "surface"
           }
          ],
          "table": [
           {
            "cells": {
             "fill": {
              "color": "#EBF0F8"
             },
             "line": {
              "color": "white"
             }
            },
            "header": {
             "fill": {
              "color": "#C8D4E3"
             },
             "line": {
              "color": "white"
             }
            },
            "type": "table"
           }
          ]
         },
         "layout": {
          "annotationdefaults": {
           "arrowcolor": "#2a3f5f",
           "arrowhead": 0,
           "arrowwidth": 1
          },
          "colorscale": {
           "diverging": [
            [
             0,
             "#8e0152"
            ],
            [
             0.1,
             "#c51b7d"
            ],
            [
             0.2,
             "#de77ae"
            ],
            [
             0.3,
             "#f1b6da"
            ],
            [
             0.4,
             "#fde0ef"
            ],
            [
             0.5,
             "#f7f7f7"
            ],
            [
             0.6,
             "#e6f5d0"
            ],
            [
             0.7,
             "#b8e186"
            ],
            [
             0.8,
             "#7fbc41"
            ],
            [
             0.9,
             "#4d9221"
            ],
            [
             1,
             "#276419"
            ]
           ],
           "sequential": [
            [
             0,
             "#0d0887"
            ],
            [
             0.1111111111111111,
             "#46039f"
            ],
            [
             0.2222222222222222,
             "#7201a8"
            ],
            [
             0.3333333333333333,
             "#9c179e"
            ],
            [
             0.4444444444444444,
             "#bd3786"
            ],
            [
             0.5555555555555556,
             "#d8576b"
            ],
            [
             0.6666666666666666,
             "#ed7953"
            ],
            [
             0.7777777777777778,
             "#fb9f3a"
            ],
            [
             0.8888888888888888,
             "#fdca26"
            ],
            [
             1,
             "#f0f921"
            ]
           ],
           "sequentialminus": [
            [
             0,
             "#0d0887"
            ],
            [
             0.1111111111111111,
             "#46039f"
            ],
            [
             0.2222222222222222,
             "#7201a8"
            ],
            [
             0.3333333333333333,
             "#9c179e"
            ],
            [
             0.4444444444444444,
             "#bd3786"
            ],
            [
             0.5555555555555556,
             "#d8576b"
            ],
            [
             0.6666666666666666,
             "#ed7953"
            ],
            [
             0.7777777777777778,
             "#fb9f3a"
            ],
            [
             0.8888888888888888,
             "#fdca26"
            ],
            [
             1,
             "#f0f921"
            ]
           ]
          },
          "colorway": [
           "#636efa",
           "#EF553B",
           "#00cc96",
           "#ab63fa",
           "#FFA15A",
           "#19d3f3",
           "#FF6692",
           "#B6E880",
           "#FF97FF",
           "#FECB52"
          ],
          "font": {
           "color": "#2a3f5f"
          },
          "geo": {
           "bgcolor": "white",
           "lakecolor": "white",
           "landcolor": "#E5ECF6",
           "showlakes": true,
           "showland": true,
           "subunitcolor": "white"
          },
          "hoverlabel": {
           "align": "left"
          },
          "hovermode": "closest",
          "mapbox": {
           "style": "light"
          },
          "paper_bgcolor": "white",
          "plot_bgcolor": "#E5ECF6",
          "polar": {
           "angularaxis": {
            "gridcolor": "white",
            "linecolor": "white",
            "ticks": ""
           },
           "bgcolor": "#E5ECF6",
           "radialaxis": {
            "gridcolor": "white",
            "linecolor": "white",
            "ticks": ""
           }
          },
          "scene": {
           "xaxis": {
            "backgroundcolor": "#E5ECF6",
            "gridcolor": "white",
            "gridwidth": 2,
            "linecolor": "white",
            "showbackground": true,
            "ticks": "",
            "zerolinecolor": "white"
           },
           "yaxis": {
            "backgroundcolor": "#E5ECF6",
            "gridcolor": "white",
            "gridwidth": 2,
            "linecolor": "white",
            "showbackground": true,
            "ticks": "",
            "zerolinecolor": "white"
           },
           "zaxis": {
            "backgroundcolor": "#E5ECF6",
            "gridcolor": "white",
            "gridwidth": 2,
            "linecolor": "white",
            "showbackground": true,
            "ticks": "",
            "zerolinecolor": "white"
           }
          },
          "shapedefaults": {
           "line": {
            "color": "#2a3f5f"
           }
          },
          "ternary": {
           "aaxis": {
            "gridcolor": "white",
            "linecolor": "white",
            "ticks": ""
           },
           "baxis": {
            "gridcolor": "white",
            "linecolor": "white",
            "ticks": ""
           },
           "bgcolor": "#E5ECF6",
           "caxis": {
            "gridcolor": "white",
            "linecolor": "white",
            "ticks": ""
           }
          },
          "title": {
           "x": 0.05
          },
          "xaxis": {
           "automargin": true,
           "gridcolor": "white",
           "linecolor": "white",
           "ticks": "",
           "zerolinecolor": "white",
           "zerolinewidth": 2
          },
          "yaxis": {
           "automargin": true,
           "gridcolor": "white",
           "linecolor": "white",
           "ticks": "",
           "zerolinecolor": "white",
           "zerolinewidth": 2
          }
         }
        },
        "title": {
         "text": "LDS General Conference Talk Length Over Time"
        },
        "xaxis": {
         "linecolor": "black",
         "linewidth": 1,
         "showline": true
        },
        "yaxis": {
         "linecolor": "black",
         "linewidth": 1,
         "showline": true
        }
       }
      },
      "text/html": [
       "<div>\n",
       "        \n",
       "        \n",
       "            <div id=\"2ee6d536-cff0-4faa-b7e6-5d8604fea4c2\" class=\"plotly-graph-div\" style=\"height:525px; width:100%;\"></div>\n",
       "            <script type=\"text/javascript\">\n",
       "                require([\"plotly\"], function(Plotly) {\n",
       "                    window.PLOTLYENV=window.PLOTLYENV || {};\n",
       "                    \n",
       "                if (document.getElementById(\"2ee6d536-cff0-4faa-b7e6-5d8604fea4c2\")) {\n",
       "                    Plotly.newPlot(\n",
       "                        '2ee6d536-cff0-4faa-b7e6-5d8604fea4c2',\n",
       "                        [{\"line\": {\"color\": \"#FCD16B\"}, \"type\": \"scatter\", \"x\": [1999, 2000, 2001, 2002, 2003, 2004, 2005, 2006, 2007, 2008, 2009, 2010, 2011, 2012, 2013, 2014, 2015, 2016, 2017, 2018, 2019], \"y\": [1843.3461538461538, 1731.6493506493507, 1785.7368421052631, 1730.48, 1679.2692307692307, 1717.8157894736842, 1722.7763157894738, 1648.05, 1546.9882352941177, 1702.2151898734178, 1753.423076923077, 1724.8974358974358, 1737.9113924050632, 1716.379746835443, 1650.6582278481012, 1588.4102564102564, 1605.379746835443, 1608.4342105263158, 1675.0533333333333, 1559.361111111111, 1642.3030303030303]}],\n",
       "                        {\"plot_bgcolor\": \"white\", \"template\": {\"data\": {\"bar\": [{\"error_x\": {\"color\": \"#2a3f5f\"}, \"error_y\": {\"color\": \"#2a3f5f\"}, \"marker\": {\"line\": {\"color\": \"#E5ECF6\", \"width\": 0.5}}, \"type\": \"bar\"}], \"barpolar\": [{\"marker\": {\"line\": {\"color\": \"#E5ECF6\", \"width\": 0.5}}, \"type\": \"barpolar\"}], \"carpet\": [{\"aaxis\": {\"endlinecolor\": \"#2a3f5f\", \"gridcolor\": \"white\", \"linecolor\": \"white\", \"minorgridcolor\": \"white\", \"startlinecolor\": \"#2a3f5f\"}, \"baxis\": {\"endlinecolor\": \"#2a3f5f\", \"gridcolor\": \"white\", \"linecolor\": \"white\", \"minorgridcolor\": \"white\", \"startlinecolor\": \"#2a3f5f\"}, \"type\": \"carpet\"}], \"choropleth\": [{\"colorbar\": {\"outlinewidth\": 0, \"ticks\": \"\"}, \"type\": \"choropleth\"}], \"contour\": [{\"colorbar\": {\"outlinewidth\": 0, \"ticks\": \"\"}, \"colorscale\": [[0.0, \"#0d0887\"], [0.1111111111111111, \"#46039f\"], [0.2222222222222222, \"#7201a8\"], [0.3333333333333333, \"#9c179e\"], [0.4444444444444444, \"#bd3786\"], [0.5555555555555556, \"#d8576b\"], [0.6666666666666666, \"#ed7953\"], [0.7777777777777778, \"#fb9f3a\"], [0.8888888888888888, \"#fdca26\"], [1.0, \"#f0f921\"]], \"type\": \"contour\"}], \"contourcarpet\": [{\"colorbar\": {\"outlinewidth\": 0, \"ticks\": \"\"}, \"type\": \"contourcarpet\"}], \"heatmap\": [{\"colorbar\": {\"outlinewidth\": 0, \"ticks\": \"\"}, \"colorscale\": [[0.0, \"#0d0887\"], [0.1111111111111111, \"#46039f\"], [0.2222222222222222, \"#7201a8\"], [0.3333333333333333, \"#9c179e\"], [0.4444444444444444, \"#bd3786\"], [0.5555555555555556, \"#d8576b\"], [0.6666666666666666, \"#ed7953\"], [0.7777777777777778, \"#fb9f3a\"], [0.8888888888888888, \"#fdca26\"], [1.0, \"#f0f921\"]], \"type\": \"heatmap\"}], \"heatmapgl\": [{\"colorbar\": {\"outlinewidth\": 0, \"ticks\": \"\"}, \"colorscale\": [[0.0, \"#0d0887\"], [0.1111111111111111, \"#46039f\"], [0.2222222222222222, \"#7201a8\"], [0.3333333333333333, \"#9c179e\"], [0.4444444444444444, \"#bd3786\"], [0.5555555555555556, \"#d8576b\"], [0.6666666666666666, \"#ed7953\"], [0.7777777777777778, \"#fb9f3a\"], [0.8888888888888888, \"#fdca26\"], [1.0, \"#f0f921\"]], \"type\": \"heatmapgl\"}], \"histogram\": [{\"marker\": {\"colorbar\": {\"outlinewidth\": 0, \"ticks\": \"\"}}, \"type\": \"histogram\"}], \"histogram2d\": [{\"colorbar\": {\"outlinewidth\": 0, \"ticks\": \"\"}, \"colorscale\": [[0.0, \"#0d0887\"], [0.1111111111111111, \"#46039f\"], [0.2222222222222222, \"#7201a8\"], [0.3333333333333333, \"#9c179e\"], [0.4444444444444444, \"#bd3786\"], [0.5555555555555556, \"#d8576b\"], [0.6666666666666666, \"#ed7953\"], [0.7777777777777778, \"#fb9f3a\"], [0.8888888888888888, \"#fdca26\"], [1.0, \"#f0f921\"]], \"type\": \"histogram2d\"}], \"histogram2dcontour\": [{\"colorbar\": {\"outlinewidth\": 0, \"ticks\": \"\"}, \"colorscale\": [[0.0, \"#0d0887\"], [0.1111111111111111, \"#46039f\"], [0.2222222222222222, \"#7201a8\"], [0.3333333333333333, \"#9c179e\"], [0.4444444444444444, \"#bd3786\"], [0.5555555555555556, \"#d8576b\"], [0.6666666666666666, \"#ed7953\"], [0.7777777777777778, \"#fb9f3a\"], [0.8888888888888888, \"#fdca26\"], [1.0, \"#f0f921\"]], \"type\": \"histogram2dcontour\"}], \"mesh3d\": [{\"colorbar\": {\"outlinewidth\": 0, \"ticks\": \"\"}, \"type\": \"mesh3d\"}], \"parcoords\": [{\"line\": {\"colorbar\": {\"outlinewidth\": 0, \"ticks\": \"\"}}, \"type\": \"parcoords\"}], \"scatter\": [{\"marker\": {\"colorbar\": {\"outlinewidth\": 0, \"ticks\": \"\"}}, \"type\": \"scatter\"}], \"scatter3d\": [{\"line\": {\"colorbar\": {\"outlinewidth\": 0, \"ticks\": \"\"}}, \"marker\": {\"colorbar\": {\"outlinewidth\": 0, \"ticks\": \"\"}}, \"type\": \"scatter3d\"}], \"scattercarpet\": [{\"marker\": {\"colorbar\": {\"outlinewidth\": 0, \"ticks\": \"\"}}, \"type\": \"scattercarpet\"}], \"scattergeo\": [{\"marker\": {\"colorbar\": {\"outlinewidth\": 0, \"ticks\": \"\"}}, \"type\": \"scattergeo\"}], \"scattergl\": [{\"marker\": {\"colorbar\": {\"outlinewidth\": 0, \"ticks\": \"\"}}, \"type\": \"scattergl\"}], \"scattermapbox\": [{\"marker\": {\"colorbar\": {\"outlinewidth\": 0, \"ticks\": \"\"}}, \"type\": \"scattermapbox\"}], \"scatterpolar\": [{\"marker\": {\"colorbar\": {\"outlinewidth\": 0, \"ticks\": \"\"}}, \"type\": \"scatterpolar\"}], \"scatterpolargl\": [{\"marker\": {\"colorbar\": {\"outlinewidth\": 0, \"ticks\": \"\"}}, \"type\": \"scatterpolargl\"}], \"scatterternary\": [{\"marker\": {\"colorbar\": {\"outlinewidth\": 0, \"ticks\": \"\"}}, \"type\": \"scatterternary\"}], \"surface\": [{\"colorbar\": {\"outlinewidth\": 0, \"ticks\": \"\"}, \"colorscale\": [[0.0, \"#0d0887\"], [0.1111111111111111, \"#46039f\"], [0.2222222222222222, \"#7201a8\"], [0.3333333333333333, \"#9c179e\"], [0.4444444444444444, \"#bd3786\"], [0.5555555555555556, \"#d8576b\"], [0.6666666666666666, \"#ed7953\"], [0.7777777777777778, \"#fb9f3a\"], [0.8888888888888888, \"#fdca26\"], [1.0, \"#f0f921\"]], \"type\": \"surface\"}], \"table\": [{\"cells\": {\"fill\": {\"color\": \"#EBF0F8\"}, \"line\": {\"color\": \"white\"}}, \"header\": {\"fill\": {\"color\": \"#C8D4E3\"}, \"line\": {\"color\": \"white\"}}, \"type\": \"table\"}]}, \"layout\": {\"annotationdefaults\": {\"arrowcolor\": \"#2a3f5f\", \"arrowhead\": 0, \"arrowwidth\": 1}, \"colorscale\": {\"diverging\": [[0, \"#8e0152\"], [0.1, \"#c51b7d\"], [0.2, \"#de77ae\"], [0.3, \"#f1b6da\"], [0.4, \"#fde0ef\"], [0.5, \"#f7f7f7\"], [0.6, \"#e6f5d0\"], [0.7, \"#b8e186\"], [0.8, \"#7fbc41\"], [0.9, \"#4d9221\"], [1, \"#276419\"]], \"sequential\": [[0.0, \"#0d0887\"], [0.1111111111111111, \"#46039f\"], [0.2222222222222222, \"#7201a8\"], [0.3333333333333333, \"#9c179e\"], [0.4444444444444444, \"#bd3786\"], [0.5555555555555556, \"#d8576b\"], [0.6666666666666666, \"#ed7953\"], [0.7777777777777778, \"#fb9f3a\"], [0.8888888888888888, \"#fdca26\"], [1.0, \"#f0f921\"]], \"sequentialminus\": [[0.0, \"#0d0887\"], [0.1111111111111111, \"#46039f\"], [0.2222222222222222, \"#7201a8\"], [0.3333333333333333, \"#9c179e\"], [0.4444444444444444, \"#bd3786\"], [0.5555555555555556, \"#d8576b\"], [0.6666666666666666, \"#ed7953\"], [0.7777777777777778, \"#fb9f3a\"], [0.8888888888888888, \"#fdca26\"], [1.0, \"#f0f921\"]]}, \"colorway\": [\"#636efa\", \"#EF553B\", \"#00cc96\", \"#ab63fa\", \"#FFA15A\", \"#19d3f3\", \"#FF6692\", \"#B6E880\", \"#FF97FF\", \"#FECB52\"], \"font\": {\"color\": \"#2a3f5f\"}, \"geo\": {\"bgcolor\": \"white\", \"lakecolor\": \"white\", \"landcolor\": \"#E5ECF6\", \"showlakes\": true, \"showland\": true, \"subunitcolor\": \"white\"}, \"hoverlabel\": {\"align\": \"left\"}, \"hovermode\": \"closest\", \"mapbox\": {\"style\": \"light\"}, \"paper_bgcolor\": \"white\", \"plot_bgcolor\": \"#E5ECF6\", \"polar\": {\"angularaxis\": {\"gridcolor\": \"white\", \"linecolor\": \"white\", \"ticks\": \"\"}, \"bgcolor\": \"#E5ECF6\", \"radialaxis\": {\"gridcolor\": \"white\", \"linecolor\": \"white\", \"ticks\": \"\"}}, \"scene\": {\"xaxis\": {\"backgroundcolor\": \"#E5ECF6\", \"gridcolor\": \"white\", \"gridwidth\": 2, \"linecolor\": \"white\", \"showbackground\": true, \"ticks\": \"\", \"zerolinecolor\": \"white\"}, \"yaxis\": {\"backgroundcolor\": \"#E5ECF6\", \"gridcolor\": \"white\", \"gridwidth\": 2, \"linecolor\": \"white\", \"showbackground\": true, \"ticks\": \"\", \"zerolinecolor\": \"white\"}, \"zaxis\": {\"backgroundcolor\": \"#E5ECF6\", \"gridcolor\": \"white\", \"gridwidth\": 2, \"linecolor\": \"white\", \"showbackground\": true, \"ticks\": \"\", \"zerolinecolor\": \"white\"}}, \"shapedefaults\": {\"line\": {\"color\": \"#2a3f5f\"}}, \"ternary\": {\"aaxis\": {\"gridcolor\": \"white\", \"linecolor\": \"white\", \"ticks\": \"\"}, \"baxis\": {\"gridcolor\": \"white\", \"linecolor\": \"white\", \"ticks\": \"\"}, \"bgcolor\": \"#E5ECF6\", \"caxis\": {\"gridcolor\": \"white\", \"linecolor\": \"white\", \"ticks\": \"\"}}, \"title\": {\"x\": 0.05}, \"xaxis\": {\"automargin\": true, \"gridcolor\": \"white\", \"linecolor\": \"white\", \"ticks\": \"\", \"zerolinecolor\": \"white\", \"zerolinewidth\": 2}, \"yaxis\": {\"automargin\": true, \"gridcolor\": \"white\", \"linecolor\": \"white\", \"ticks\": \"\", \"zerolinecolor\": \"white\", \"zerolinewidth\": 2}}}, \"title\": {\"text\": \"LDS General Conference Talk Length Over Time\"}, \"xaxis\": {\"linecolor\": \"black\", \"linewidth\": 1, \"showline\": true}, \"yaxis\": {\"linecolor\": \"black\", \"linewidth\": 1, \"showline\": true}},\n",
       "                        {\"responsive\": true}\n",
       "                    ).then(function(){\n",
       "                            \n",
       "var gd = document.getElementById('2ee6d536-cff0-4faa-b7e6-5d8604fea4c2');\n",
       "var x = new MutationObserver(function (mutations, observer) {{\n",
       "        var display = window.getComputedStyle(gd).display;\n",
       "        if (!display || display === 'none') {{\n",
       "            console.log([gd, 'removed!']);\n",
       "            Plotly.purge(gd);\n",
       "            observer.disconnect();\n",
       "        }}\n",
       "}});\n",
       "\n",
       "// Listen for the removal of the full notebook cells\n",
       "var notebookContainer = gd.closest('#notebook-container');\n",
       "if (notebookContainer) {{\n",
       "    x.observe(notebookContainer, {childList: true});\n",
       "}}\n",
       "\n",
       "// Listen for the clearing of the current output cell\n",
       "var outputEl = gd.closest('.output');\n",
       "if (outputEl) {{\n",
       "    x.observe(outputEl, {childList: true});\n",
       "}}\n",
       "\n",
       "                        })\n",
       "                };\n",
       "                });\n",
       "            </script>\n",
       "        </div>"
      ]
     },
     "metadata": {},
     "output_type": "display_data"
    }
   ],
   "source": [
    "fig1 = go.Figure()\n",
    "fig1.add_trace(go.Scatter(x = df['year'],\n",
    "                         y = df['word_count'], \n",
    "                         line_color = '#FCD16B'))\n",
    "fig1.update_layout(plot_bgcolor = 'white',\n",
    "                  title = 'LDS General Conference Talk Length Over Time')\n",
    "fig1.update_xaxes(showline = True, linewidth = 1, linecolor = 'black')\n",
    "fig1.update_yaxes(showline = True, linewidth = 1, linecolor = 'black')"
   ]
  },
  {
   "cell_type": "markdown",
   "metadata": {},
   "source": [
    "It appears that the talks tend to have gotten shorter in the past 10 years. "
   ]
  },
  {
   "cell_type": "markdown",
   "metadata": {},
   "source": [
    "Next, let's observe how talk length varies between session."
   ]
  },
  {
   "cell_type": "code",
   "execution_count": 106,
   "metadata": {},
   "outputs": [
    {
     "data": {
      "application/vnd.plotly.v1+json": {
       "config": {
        "plotlyServerURL": "https://plot.ly"
       },
       "data": [
        {
         "marker": {
          "color": "#2E604A"
         },
         "name": "Saturday Morning Session",
         "type": "box",
         "y": [
          890,
          2303,
          2041,
          2022,
          2057,
          2217,
          901,
          1927,
          1907,
          1445,
          2131,
          1583,
          2420,
          1786,
          2005,
          1413,
          1676,
          2315,
          2258,
          230,
          2613,
          1945,
          700,
          632,
          1624,
          1915,
          2003,
          1277,
          2180,
          1773,
          1764,
          2126,
          2389,
          1458,
          2379,
          1696,
          1673,
          2367,
          2209,
          1885,
          2157,
          1661,
          1300,
          2339,
          2411,
          1422,
          2148,
          1396,
          1657,
          1831,
          2327,
          1228,
          1549,
          1675,
          1469,
          2257,
          2418,
          1815,
          1502,
          1812,
          1276,
          2117,
          2218,
          697,
          381,
          2396,
          1726,
          1607,
          2405,
          2317,
          1060,
          2003,
          1825,
          1825,
          1984,
          2160,
          1147,
          2500,
          1801,
          1794,
          1730,
          2373,
          925,
          2314,
          1707,
          1959,
          2236,
          2001,
          2388,
          1743,
          1568,
          2670,
          2227,
          482,
          2220,
          1171,
          1152,
          1088,
          1198,
          2051,
          2036,
          759,
          211,
          145,
          1923,
          1048,
          1147,
          1837,
          2067,
          1966,
          503,
          2315,
          1168,
          1350,
          1155,
          1269,
          1999,
          2078,
          1593,
          1697,
          1144,
          1240,
          1142,
          2007,
          2696,
          933,
          1971,
          1512,
          1277,
          1447,
          2123,
          2154,
          994,
          2071,
          1515,
          1553,
          1433,
          2276,
          2714,
          633,
          1995,
          1387,
          1555,
          1578,
          2073,
          2047,
          721,
          2531,
          1511,
          1490,
          1437,
          2144,
          2593,
          677,
          1795,
          1302,
          1479,
          1478,
          2221,
          2155,
          631,
          1858,
          1573,
          1344,
          1389,
          2400,
          2693,
          1870,
          1424,
          1507,
          723,
          1160,
          2099,
          2233,
          633,
          2401,
          1529,
          1508,
          1708,
          2020,
          2382,
          828,
          2198,
          1447,
          1740,
          1865,
          1866,
          2344,
          576,
          1684,
          1668,
          1544,
          1614,
          2025,
          2491,
          493,
          1783,
          1576,
          1572,
          1437,
          2145,
          2043,
          504,
          1705,
          1418,
          1410,
          1477,
          1928,
          2627,
          566,
          1584,
          1767,
          1322,
          1138,
          2064,
          1973,
          2369,
          1907,
          1861,
          1896,
          1677,
          1741,
          1975,
          1836,
          1768,
          1241,
          1556,
          1506,
          2097,
          2143,
          1271,
          1457,
          1931,
          1470,
          1479,
          1874,
          2055,
          1505,
          1446,
          1665,
          1314,
          1570,
          1891,
          2475,
          1683,
          1529,
          1837,
          1510,
          1367,
          1604,
          2114,
          1841,
          1974,
          1807,
          2221,
          1751,
          1040,
          1663,
          1328,
          1174,
          2096,
          1378,
          1885,
          721,
          2048,
          1625,
          1467,
          1912,
          1848,
          1894,
          1917,
          1581,
          2148,
          1943,
          1809,
          2246
         ]
        },
        {
         "marker": {
          "color": "#76A08A"
         },
         "name": "Saturdat Afternoon Session",
         "type": "box",
         "y": [
          409,
          363,
          181,
          1817,
          1916,
          1464,
          1470,
          2579,
          2608,
          501,
          1857,
          1926,
          1065,
          1230,
          1214,
          2593,
          2108,
          571,
          335,
          124,
          2014,
          1215,
          1100,
          1681,
          2142,
          1725,
          586,
          2287,
          1860,
          1038,
          1138,
          998,
          2416,
          1997,
          485,
          485,
          104,
          2005,
          2265,
          1071,
          1846,
          1785,
          2178,
          633,
          2116,
          2365,
          1310,
          950,
          1015,
          1948,
          2299,
          539,
          310,
          168,
          1699,
          2354,
          1264,
          1006,
          2171,
          1879,
          726,
          1536,
          2492,
          1726,
          1398,
          2047,
          1797,
          612,
          340,
          175,
          2194,
          2445,
          1065,
          1001,
          2209,
          1995,
          509,
          2084,
          2352,
          1477,
          1766,
          2430,
          1751,
          715,
          358,
          107,
          1740,
          1875,
          1486,
          1311,
          1441,
          2278,
          520,
          2144,
          2335,
          1252,
          1473,
          1281,
          1662,
          2243,
          740,
          202,
          283,
          1937,
          1811,
          1186,
          1497,
          1828,
          2269,
          490,
          2273,
          1980,
          993,
          1294,
          1288,
          2356,
          2193,
          508,
          211,
          139,
          2217,
          2171,
          1432,
          1086,
          1553,
          2219,
          407,
          2144,
          2041,
          1183,
          1111,
          1294,
          2080,
          1693,
          2099,
          1298,
          1380,
          1177,
          1249,
          1006,
          1250,
          988,
          1946,
          2058,
          951,
          1236,
          1040,
          1192,
          1656,
          1771,
          197,
          180,
          2076,
          1785,
          1291,
          1272,
          1611,
          2111,
          1872,
          387,
          1934,
          1939,
          1589,
          1428,
          2404,
          2141,
          915,
          191,
          165,
          1924,
          2202,
          1395,
          1151,
          1868,
          1830,
          332,
          2014,
          1941,
          1192,
          1652,
          1168,
          1861,
          2414,
          719,
          187,
          221,
          1910,
          2238,
          1113,
          1336,
          2094,
          1750,
          365,
          2053,
          2183,
          1288,
          1344,
          1122,
          1882,
          2309,
          587,
          209,
          242,
          2145,
          1634,
          1474,
          1479,
          1968,
          1973,
          427,
          2163,
          1871,
          1241,
          1269,
          1507,
          2156,
          1931,
          791,
          195,
          177,
          1785,
          1528,
          1284,
          1304,
          2068,
          1840,
          386,
          1913,
          1776,
          1263,
          1501,
          1405,
          2024,
          1984,
          780,
          195,
          92,
          1717,
          2116,
          1468,
          1267,
          2080,
          1597,
          355,
          1769,
          2040,
          1483,
          1134,
          1468,
          1666,
          1966,
          719,
          169,
          79,
          1554,
          1653,
          1568,
          1163,
          1438,
          283,
          1877,
          1858,
          1520,
          1723,
          1477,
          1699,
          1907,
          704,
          169,
          79,
          2175,
          2118,
          1421,
          1233,
          1756,
          2153,
          570,
          1710,
          1652,
          1628,
          1145,
          1529,
          1513,
          1803,
          711,
          169,
          75,
          1884,
          1790,
          1370,
          1386,
          1932,
          1727,
          396,
          2129,
          2199,
          2119,
          1607,
          1270,
          1880,
          717,
          168,
          81,
          1301,
          1586,
          2077,
          1559,
          1900,
          1819,
          510,
          2164,
          1475,
          2079,
          1887,
          1531,
          2122,
          781,
          164,
          1948,
          1533,
          1597,
          1442,
          1764,
          1829,
          482,
          2112,
          1767,
          1964,
          1947,
          1663,
          1999,
          625,
          166,
          1724,
          1445,
          1863,
          1494,
          1573,
          1670
         ]
        },
        {
         "marker": {
          "color": "#CECD7B"
         },
         "name": "Priesthood Session",
         "type": "box",
         "y": [
          1807,
          1049,
          921,
          1128,
          2079,
          2312,
          2500,
          2456,
          1750,
          1227,
          2254,
          2400,
          2469,
          1827,
          1609,
          1790,
          2138,
          2233,
          2449,
          2060,
          1403,
          1379,
          2286,
          2300,
          2840,
          2554,
          1593,
          1450,
          2141,
          2117,
          2225,
          2466,
          1446,
          1060,
          1015,
          2237,
          2158,
          2689,
          2312,
          1496,
          1562,
          2087,
          2281,
          2486,
          2224,
          2317,
          2240,
          2341,
          2535,
          2036,
          1353,
          1368,
          2156,
          2354,
          2316,
          1711,
          1352,
          1573,
          2190,
          2399,
          2130,
          1530,
          1607,
          1487,
          1938,
          2339,
          2037,
          2318,
          1429,
          1453,
          2171,
          2306,
          2341,
          1791,
          1247,
          1649,
          1815,
          2299,
          2425,
          2251,
          1414,
          1415,
          2122,
          2377,
          2022,
          2269,
          1453,
          1150,
          2057,
          2768,
          2252,
          2227,
          1736,
          1469,
          1421,
          1985,
          2455,
          1672,
          2074,
          2120,
          1524,
          1931,
          2319,
          1813,
          1970,
          1339,
          1351,
          1251,
          2465,
          1807,
          1380,
          2148,
          1153,
          1356,
          1030,
          2252,
          2455,
          2246,
          1949,
          1446,
          1655,
          2085,
          2349,
          2744,
          2283,
          1476,
          1450,
          2076,
          2539,
          2355,
          2104,
          1412,
          1512,
          2040,
          2409,
          2217,
          2291,
          1673,
          1535,
          2033,
          2450,
          2279,
          1827,
          1630,
          1243,
          2152,
          2617,
          2179,
          1946,
          1604,
          1685,
          2058,
          2530,
          2655,
          1906,
          1537,
          1920,
          2118,
          2541,
          2704,
          2178,
          1554,
          1596,
          2162,
          2409,
          2233,
          2283,
          1539,
          1487,
          2075,
          2730,
          2588,
          1741,
          1835,
          1475,
          2162,
          2375,
          2153,
          1723,
          1688,
          1596,
          1864,
          2183,
          2010,
          1928,
          1515,
          1388,
          1961,
          2168,
          1815,
          2131,
          1808,
          1653,
          1915,
          2292,
          1642
         ]
        },
        {
         "marker": {
          "color": "#FCD16B"
         },
         "name": "Sunday Morning Session",
         "type": "box",
         "y": [
          2342,
          1992,
          1579,
          1738,
          1832,
          2460,
          2137,
          2136,
          1378,
          1751,
          1826,
          2289,
          2212,
          2197,
          1311,
          1217,
          2424,
          2312,
          2040,
          1979,
          1221,
          2011,
          3738,
          2324,
          1947,
          1342,
          1364,
          2071,
          2089,
          2233,
          2027,
          1445,
          1424,
          1857,
          2411,
          2215,
          1978,
          1354,
          1684,
          2159,
          1998,
          2184,
          2358,
          1334,
          1164,
          2294,
          2336,
          2074,
          1453,
          1283,
          1396,
          1827,
          2352,
          2105,
          1789,
          1421,
          1499,
          2310,
          2254,
          2054,
          2169,
          1308,
          1224,
          2186,
          2205,
          2048,
          2359,
          1433,
          1449,
          1773,
          2212,
          1834,
          2029,
          1539,
          1679,
          2405,
          2220,
          2136,
          2050,
          1561,
          1212,
          2005,
          2170,
          2010,
          1962,
          1473,
          1275,
          2418,
          2020,
          1966,
          2106,
          1165,
          1156,
          1216,
          1621,
          1998,
          1777,
          2120,
          1124,
          1200,
          1104,
          1929,
          1628,
          2304,
          2345,
          1349,
          1173,
          993,
          2091,
          2021,
          2172,
          2271,
          1076,
          1297,
          2390,
          2480,
          2377,
          2103,
          1461,
          1507,
          2082,
          2511,
          2127,
          1661,
          1561,
          1373,
          1797,
          2524,
          2273,
          1980,
          1380,
          1626,
          1555,
          2075,
          2019,
          1731,
          1414,
          1599,
          2196,
          2493,
          2322,
          2089,
          1419,
          1701,
          2157,
          2586,
          2019,
          1446,
          1622,
          1552,
          2142,
          2453,
          2255,
          1733,
          1724,
          1558,
          1879,
          2589,
          1858,
          1595,
          1460,
          1457,
          2183,
          2198,
          2393,
          1846,
          1568,
          1225,
          1887,
          2553,
          2050,
          1858,
          1347,
          1319,
          1706,
          2326,
          2182,
          1902,
          1861,
          1825,
          1605,
          1941,
          1909,
          1920,
          1611,
          1568,
          2122,
          1854,
          2415,
          1639,
          1477,
          1587,
          1554,
          1737,
          1439,
          1417,
          1176,
          1365,
          1689,
          1632,
          1985,
          1759,
          892,
          1048,
          981,
          1689,
          1409,
          1516,
          2391,
          497,
          1757,
          2056,
          2297,
          2186,
          1985,
          544,
          1658,
          1303,
          1476,
          1690,
          1592,
          1607,
          2090,
          410,
          1495,
          1462,
          2000,
          1565,
          1872,
          1987,
          1659,
          1277,
          2081,
          1783,
          1587,
          2520,
          1560,
          1387,
          1384,
          1216,
          2185,
          1984,
          2207,
          1761,
          1629,
          1676,
          1849,
          1836,
          1705,
          1843,
          1681,
          2071,
          2167,
          1757,
          1930
         ]
        },
        {
         "marker": {
          "color": "#F8DF4F"
         },
         "name": "Sunday Afternoon Session",
         "type": "box",
         "y": [
          2596,
          2324,
          1743,
          1644,
          1547,
          2190,
          975,
          2132,
          2372,
          1338,
          1214,
          1445,
          2113,
          1302,
          1984,
          2309,
          1391,
          1337,
          1361,
          1963,
          949,
          2305,
          2128,
          1157,
          1122,
          1107,
          1417,
          2401,
          810,
          2256,
          2316,
          1381,
          1539,
          1254,
          2485,
          673,
          2316,
          2066,
          1308,
          1295,
          1541,
          2024,
          1100,
          1831,
          1048,
          1340,
          1234,
          657,
          675,
          249,
          2311,
          1138,
          2573,
          2063,
          1754,
          1643,
          1688,
          1481,
          861,
          2074,
          2095,
          1014,
          1050,
          1844,
          2416,
          700,
          2110,
          2579,
          1200,
          1204,
          1573,
          1840,
          762,
          2219,
          2466,
          1593,
          1371,
          1786,
          1955,
          571,
          2011,
          1813,
          1963,
          1780,
          1933,
          2220,
          884,
          2200,
          2344,
          1844,
          1314,
          1622,
          2247,
          744,
          1766,
          2369,
          1068,
          1296,
          1173,
          1225,
          2233,
          625,
          2206,
          2066,
          1974,
          1611,
          1736,
          2163,
          173,
          2115,
          2110,
          1190,
          1287,
          1466,
          1434,
          1375,
          1815,
          238,
          2106,
          2206,
          1260,
          1734,
          1092,
          1998,
          1718,
          234,
          2022,
          1780,
          1354,
          1370,
          1143,
          1271,
          1381,
          1961,
          173,
          1991,
          2036,
          1109,
          1107,
          1175,
          1186,
          1392,
          2027,
          1162,
          2126,
          1657,
          1402,
          1259,
          1249,
          2353,
          758,
          2171,
          2233,
          1448,
          1247,
          1610,
          2108,
          1240,
          1800,
          2186,
          1399,
          1472,
          1733,
          1232,
          2064,
          713,
          1658,
          1930,
          1470,
          1464,
          1491,
          1456,
          1903,
          783,
          2016,
          2080,
          1592,
          1286,
          1317,
          1525,
          1964,
          726,
          1896,
          2206,
          1495,
          1711,
          1202,
          1547,
          1871,
          646,
          1620,
          2213,
          1505,
          1123,
          1300,
          1869,
          2168,
          762,
          1909,
          2000,
          1510,
          1482,
          1852,
          1368,
          1803,
          734,
          1608,
          1791,
          1624,
          1407,
          1509,
          1460,
          2019,
          767,
          1694,
          2019,
          1259,
          1386,
          1480,
          1313,
          2131,
          689,
          2045,
          1856,
          1448,
          1580,
          1382,
          1526,
          1529,
          339,
          1809,
          1696,
          1807,
          1339,
          1350,
          1449,
          2111,
          523,
          1844,
          1550,
          1620,
          1422,
          1327,
          1652,
          2029,
          442,
          1587,
          1356,
          1350,
          1882,
          1683,
          1509,
          1669,
          2118,
          1815,
          1347,
          1604,
          1633,
          1394,
          1259,
          2156,
          1589,
          1649,
          1665,
          1909,
          1550,
          1318,
          1903,
          2022,
          1821,
          1510,
          1958,
          1522,
          1371,
          1961,
          2170,
          1296,
          1294,
          2200,
          1807,
          1357,
          2108,
          1536,
          1589,
          1103,
          1838,
          1135,
          1464,
          1246,
          2141,
          584,
          764,
          241,
          1681,
          1965,
          1778,
          1619,
          2004,
          607,
          2037,
          1497,
          1594,
          1656,
          1818,
          1410,
          2087,
          793,
          1983,
          1342,
          1956,
          1846,
          1341,
          1870,
          702
         ]
        },
        {
         "boxpoints": "all",
         "marker": {
          "color": "#A35E60"
         },
         "name": "February 1999 Conversion and Retention Broadcast",
         "type": "box",
         "y": [
          5619
         ]
        },
        {
         "marker": {
          "color": "#CC8B3C"
         },
         "name": "General Young Women Meeting",
         "type": "box",
         "y": [
          1563,
          1731,
          2133,
          2028,
          1666,
          1497,
          1909,
          2102,
          1750,
          1690,
          2128,
          2853,
          1608,
          1558,
          1935,
          2359,
          1764,
          1376,
          1436,
          2079,
          1974,
          1600,
          1643,
          2322,
          1892,
          1456,
          1505,
          2311,
          1799,
          1682,
          1624,
          2273,
          2172,
          1786,
          1680,
          1501,
          1852,
          1484,
          1710,
          1898,
          1675,
          1890,
          2227,
          2739,
          1864,
          1921,
          2046,
          2451,
          1739,
          1757,
          2174,
          2725,
          1606,
          1777,
          2023,
          2333,
          1570,
          1894,
          1957,
          2812
         ]
        },
        {
         "marker": {
          "color": "#D1362F"
         },
         "name": "General Relief Society Meeting",
         "type": "box",
         "y": [
          2081,
          1939,
          2056,
          2739,
          2303,
          1802,
          2062,
          2937,
          1871,
          1868,
          1926,
          2240,
          1706,
          1357,
          1139,
          2993,
          1620,
          1363,
          1249,
          2210,
          1538,
          1466,
          1165,
          2298,
          1772,
          1314,
          1313,
          2524,
          1790,
          1411,
          1233,
          2290,
          2268,
          1500,
          1483,
          2562,
          2234,
          1502,
          1510,
          2548,
          2947,
          1756,
          1960,
          3073,
          2217,
          1890,
          2209,
          2451,
          1726,
          1784,
          2449,
          2366,
          1761,
          1426,
          2709,
          2346,
          1887,
          1567,
          2122
         ]
        },
        {
         "marker": {
          "color": "#E6A2C5"
         },
         "name": "Special Satellite Broadcast for Children",
         "type": "box",
         "y": [
          988,
          878,
          1197,
          1920
         ]
        },
        {
         "marker": {
          "color": "#F7B0AA"
         },
         "name": "General Women's Meeting",
         "type": "box",
         "y": [
          1425,
          1759,
          1488,
          2256
         ]
        },
        {
         "marker": {
          "color": "#7496D2"
         },
         "name": "General Women's Session",
         "type": "box",
         "y": [
          1598,
          1734,
          1671,
          2216,
          1400,
          1342,
          1739,
          2243,
          1380,
          1325,
          1532,
          2545,
          1404,
          1372,
          1519,
          1811,
          1826,
          1682,
          1919,
          2213,
          1595,
          1557,
          1601,
          1930,
          2184,
          1528,
          1554,
          2688,
          1491,
          1670,
          1382,
          1750,
          1566,
          1729
         ]
        },
        {
         "marker": {
          "color": "#C7CEF6"
         },
         "name": "General Priesthood Session",
         "type": "box",
         "y": [
          1847,
          1675,
          1594,
          1922,
          2443,
          1583,
          1878,
          1277,
          1947,
          2056,
          1559,
          1722,
          1560,
          1898,
          2281,
          484,
          1706,
          1929,
          1994,
          2204,
          516,
          405,
          2044,
          1721,
          2080,
          2572,
          1855,
          1664,
          1658,
          2009,
          2313,
          1570,
          422,
          1670,
          1682,
          2229,
          1902,
          1626,
          2226,
          1437,
          1409,
          1472,
          1374,
          1585
         ]
        }
       ],
       "layout": {
        "plot_bgcolor": "white",
        "showlegend": false,
        "template": {
         "data": {
          "bar": [
           {
            "error_x": {
             "color": "#2a3f5f"
            },
            "error_y": {
             "color": "#2a3f5f"
            },
            "marker": {
             "line": {
              "color": "#E5ECF6",
              "width": 0.5
             }
            },
            "type": "bar"
           }
          ],
          "barpolar": [
           {
            "marker": {
             "line": {
              "color": "#E5ECF6",
              "width": 0.5
             }
            },
            "type": "barpolar"
           }
          ],
          "carpet": [
           {
            "aaxis": {
             "endlinecolor": "#2a3f5f",
             "gridcolor": "white",
             "linecolor": "white",
             "minorgridcolor": "white",
             "startlinecolor": "#2a3f5f"
            },
            "baxis": {
             "endlinecolor": "#2a3f5f",
             "gridcolor": "white",
             "linecolor": "white",
             "minorgridcolor": "white",
             "startlinecolor": "#2a3f5f"
            },
            "type": "carpet"
           }
          ],
          "choropleth": [
           {
            "colorbar": {
             "outlinewidth": 0,
             "ticks": ""
            },
            "type": "choropleth"
           }
          ],
          "contour": [
           {
            "colorbar": {
             "outlinewidth": 0,
             "ticks": ""
            },
            "colorscale": [
             [
              0,
              "#0d0887"
             ],
             [
              0.1111111111111111,
              "#46039f"
             ],
             [
              0.2222222222222222,
              "#7201a8"
             ],
             [
              0.3333333333333333,
              "#9c179e"
             ],
             [
              0.4444444444444444,
              "#bd3786"
             ],
             [
              0.5555555555555556,
              "#d8576b"
             ],
             [
              0.6666666666666666,
              "#ed7953"
             ],
             [
              0.7777777777777778,
              "#fb9f3a"
             ],
             [
              0.8888888888888888,
              "#fdca26"
             ],
             [
              1,
              "#f0f921"
             ]
            ],
            "type": "contour"
           }
          ],
          "contourcarpet": [
           {
            "colorbar": {
             "outlinewidth": 0,
             "ticks": ""
            },
            "type": "contourcarpet"
           }
          ],
          "heatmap": [
           {
            "colorbar": {
             "outlinewidth": 0,
             "ticks": ""
            },
            "colorscale": [
             [
              0,
              "#0d0887"
             ],
             [
              0.1111111111111111,
              "#46039f"
             ],
             [
              0.2222222222222222,
              "#7201a8"
             ],
             [
              0.3333333333333333,
              "#9c179e"
             ],
             [
              0.4444444444444444,
              "#bd3786"
             ],
             [
              0.5555555555555556,
              "#d8576b"
             ],
             [
              0.6666666666666666,
              "#ed7953"
             ],
             [
              0.7777777777777778,
              "#fb9f3a"
             ],
             [
              0.8888888888888888,
              "#fdca26"
             ],
             [
              1,
              "#f0f921"
             ]
            ],
            "type": "heatmap"
           }
          ],
          "heatmapgl": [
           {
            "colorbar": {
             "outlinewidth": 0,
             "ticks": ""
            },
            "colorscale": [
             [
              0,
              "#0d0887"
             ],
             [
              0.1111111111111111,
              "#46039f"
             ],
             [
              0.2222222222222222,
              "#7201a8"
             ],
             [
              0.3333333333333333,
              "#9c179e"
             ],
             [
              0.4444444444444444,
              "#bd3786"
             ],
             [
              0.5555555555555556,
              "#d8576b"
             ],
             [
              0.6666666666666666,
              "#ed7953"
             ],
             [
              0.7777777777777778,
              "#fb9f3a"
             ],
             [
              0.8888888888888888,
              "#fdca26"
             ],
             [
              1,
              "#f0f921"
             ]
            ],
            "type": "heatmapgl"
           }
          ],
          "histogram": [
           {
            "marker": {
             "colorbar": {
              "outlinewidth": 0,
              "ticks": ""
             }
            },
            "type": "histogram"
           }
          ],
          "histogram2d": [
           {
            "colorbar": {
             "outlinewidth": 0,
             "ticks": ""
            },
            "colorscale": [
             [
              0,
              "#0d0887"
             ],
             [
              0.1111111111111111,
              "#46039f"
             ],
             [
              0.2222222222222222,
              "#7201a8"
             ],
             [
              0.3333333333333333,
              "#9c179e"
             ],
             [
              0.4444444444444444,
              "#bd3786"
             ],
             [
              0.5555555555555556,
              "#d8576b"
             ],
             [
              0.6666666666666666,
              "#ed7953"
             ],
             [
              0.7777777777777778,
              "#fb9f3a"
             ],
             [
              0.8888888888888888,
              "#fdca26"
             ],
             [
              1,
              "#f0f921"
             ]
            ],
            "type": "histogram2d"
           }
          ],
          "histogram2dcontour": [
           {
            "colorbar": {
             "outlinewidth": 0,
             "ticks": ""
            },
            "colorscale": [
             [
              0,
              "#0d0887"
             ],
             [
              0.1111111111111111,
              "#46039f"
             ],
             [
              0.2222222222222222,
              "#7201a8"
             ],
             [
              0.3333333333333333,
              "#9c179e"
             ],
             [
              0.4444444444444444,
              "#bd3786"
             ],
             [
              0.5555555555555556,
              "#d8576b"
             ],
             [
              0.6666666666666666,
              "#ed7953"
             ],
             [
              0.7777777777777778,
              "#fb9f3a"
             ],
             [
              0.8888888888888888,
              "#fdca26"
             ],
             [
              1,
              "#f0f921"
             ]
            ],
            "type": "histogram2dcontour"
           }
          ],
          "mesh3d": [
           {
            "colorbar": {
             "outlinewidth": 0,
             "ticks": ""
            },
            "type": "mesh3d"
           }
          ],
          "parcoords": [
           {
            "line": {
             "colorbar": {
              "outlinewidth": 0,
              "ticks": ""
             }
            },
            "type": "parcoords"
           }
          ],
          "scatter": [
           {
            "marker": {
             "colorbar": {
              "outlinewidth": 0,
              "ticks": ""
             }
            },
            "type": "scatter"
           }
          ],
          "scatter3d": [
           {
            "line": {
             "colorbar": {
              "outlinewidth": 0,
              "ticks": ""
             }
            },
            "marker": {
             "colorbar": {
              "outlinewidth": 0,
              "ticks": ""
             }
            },
            "type": "scatter3d"
           }
          ],
          "scattercarpet": [
           {
            "marker": {
             "colorbar": {
              "outlinewidth": 0,
              "ticks": ""
             }
            },
            "type": "scattercarpet"
           }
          ],
          "scattergeo": [
           {
            "marker": {
             "colorbar": {
              "outlinewidth": 0,
              "ticks": ""
             }
            },
            "type": "scattergeo"
           }
          ],
          "scattergl": [
           {
            "marker": {
             "colorbar": {
              "outlinewidth": 0,
              "ticks": ""
             }
            },
            "type": "scattergl"
           }
          ],
          "scattermapbox": [
           {
            "marker": {
             "colorbar": {
              "outlinewidth": 0,
              "ticks": ""
             }
            },
            "type": "scattermapbox"
           }
          ],
          "scatterpolar": [
           {
            "marker": {
             "colorbar": {
              "outlinewidth": 0,
              "ticks": ""
             }
            },
            "type": "scatterpolar"
           }
          ],
          "scatterpolargl": [
           {
            "marker": {
             "colorbar": {
              "outlinewidth": 0,
              "ticks": ""
             }
            },
            "type": "scatterpolargl"
           }
          ],
          "scatterternary": [
           {
            "marker": {
             "colorbar": {
              "outlinewidth": 0,
              "ticks": ""
             }
            },
            "type": "scatterternary"
           }
          ],
          "surface": [
           {
            "colorbar": {
             "outlinewidth": 0,
             "ticks": ""
            },
            "colorscale": [
             [
              0,
              "#0d0887"
             ],
             [
              0.1111111111111111,
              "#46039f"
             ],
             [
              0.2222222222222222,
              "#7201a8"
             ],
             [
              0.3333333333333333,
              "#9c179e"
             ],
             [
              0.4444444444444444,
              "#bd3786"
             ],
             [
              0.5555555555555556,
              "#d8576b"
             ],
             [
              0.6666666666666666,
              "#ed7953"
             ],
             [
              0.7777777777777778,
              "#fb9f3a"
             ],
             [
              0.8888888888888888,
              "#fdca26"
             ],
             [
              1,
              "#f0f921"
             ]
            ],
            "type": "surface"
           }
          ],
          "table": [
           {
            "cells": {
             "fill": {
              "color": "#EBF0F8"
             },
             "line": {
              "color": "white"
             }
            },
            "header": {
             "fill": {
              "color": "#C8D4E3"
             },
             "line": {
              "color": "white"
             }
            },
            "type": "table"
           }
          ]
         },
         "layout": {
          "annotationdefaults": {
           "arrowcolor": "#2a3f5f",
           "arrowhead": 0,
           "arrowwidth": 1
          },
          "colorscale": {
           "diverging": [
            [
             0,
             "#8e0152"
            ],
            [
             0.1,
             "#c51b7d"
            ],
            [
             0.2,
             "#de77ae"
            ],
            [
             0.3,
             "#f1b6da"
            ],
            [
             0.4,
             "#fde0ef"
            ],
            [
             0.5,
             "#f7f7f7"
            ],
            [
             0.6,
             "#e6f5d0"
            ],
            [
             0.7,
             "#b8e186"
            ],
            [
             0.8,
             "#7fbc41"
            ],
            [
             0.9,
             "#4d9221"
            ],
            [
             1,
             "#276419"
            ]
           ],
           "sequential": [
            [
             0,
             "#0d0887"
            ],
            [
             0.1111111111111111,
             "#46039f"
            ],
            [
             0.2222222222222222,
             "#7201a8"
            ],
            [
             0.3333333333333333,
             "#9c179e"
            ],
            [
             0.4444444444444444,
             "#bd3786"
            ],
            [
             0.5555555555555556,
             "#d8576b"
            ],
            [
             0.6666666666666666,
             "#ed7953"
            ],
            [
             0.7777777777777778,
             "#fb9f3a"
            ],
            [
             0.8888888888888888,
             "#fdca26"
            ],
            [
             1,
             "#f0f921"
            ]
           ],
           "sequentialminus": [
            [
             0,
             "#0d0887"
            ],
            [
             0.1111111111111111,
             "#46039f"
            ],
            [
             0.2222222222222222,
             "#7201a8"
            ],
            [
             0.3333333333333333,
             "#9c179e"
            ],
            [
             0.4444444444444444,
             "#bd3786"
            ],
            [
             0.5555555555555556,
             "#d8576b"
            ],
            [
             0.6666666666666666,
             "#ed7953"
            ],
            [
             0.7777777777777778,
             "#fb9f3a"
            ],
            [
             0.8888888888888888,
             "#fdca26"
            ],
            [
             1,
             "#f0f921"
            ]
           ]
          },
          "colorway": [
           "#636efa",
           "#EF553B",
           "#00cc96",
           "#ab63fa",
           "#FFA15A",
           "#19d3f3",
           "#FF6692",
           "#B6E880",
           "#FF97FF",
           "#FECB52"
          ],
          "font": {
           "color": "#2a3f5f"
          },
          "geo": {
           "bgcolor": "white",
           "lakecolor": "white",
           "landcolor": "#E5ECF6",
           "showlakes": true,
           "showland": true,
           "subunitcolor": "white"
          },
          "hoverlabel": {
           "align": "left"
          },
          "hovermode": "closest",
          "mapbox": {
           "style": "light"
          },
          "paper_bgcolor": "white",
          "plot_bgcolor": "#E5ECF6",
          "polar": {
           "angularaxis": {
            "gridcolor": "white",
            "linecolor": "white",
            "ticks": ""
           },
           "bgcolor": "#E5ECF6",
           "radialaxis": {
            "gridcolor": "white",
            "linecolor": "white",
            "ticks": ""
           }
          },
          "scene": {
           "xaxis": {
            "backgroundcolor": "#E5ECF6",
            "gridcolor": "white",
            "gridwidth": 2,
            "linecolor": "white",
            "showbackground": true,
            "ticks": "",
            "zerolinecolor": "white"
           },
           "yaxis": {
            "backgroundcolor": "#E5ECF6",
            "gridcolor": "white",
            "gridwidth": 2,
            "linecolor": "white",
            "showbackground": true,
            "ticks": "",
            "zerolinecolor": "white"
           },
           "zaxis": {
            "backgroundcolor": "#E5ECF6",
            "gridcolor": "white",
            "gridwidth": 2,
            "linecolor": "white",
            "showbackground": true,
            "ticks": "",
            "zerolinecolor": "white"
           }
          },
          "shapedefaults": {
           "line": {
            "color": "#2a3f5f"
           }
          },
          "ternary": {
           "aaxis": {
            "gridcolor": "white",
            "linecolor": "white",
            "ticks": ""
           },
           "baxis": {
            "gridcolor": "white",
            "linecolor": "white",
            "ticks": ""
           },
           "bgcolor": "#E5ECF6",
           "caxis": {
            "gridcolor": "white",
            "linecolor": "white",
            "ticks": ""
           }
          },
          "title": {
           "x": 0.05
          },
          "xaxis": {
           "automargin": true,
           "gridcolor": "white",
           "linecolor": "white",
           "ticks": "",
           "zerolinecolor": "white",
           "zerolinewidth": 2
          },
          "yaxis": {
           "automargin": true,
           "gridcolor": "white",
           "linecolor": "white",
           "ticks": "",
           "zerolinecolor": "white",
           "zerolinewidth": 2
          }
         }
        },
        "title": {
         "text": "Talk Length by Session"
        },
        "xaxis": {
         "linecolor": "black",
         "linewidth": 1,
         "showline": true
        },
        "yaxis": {
         "linecolor": "black",
         "linewidth": 1,
         "showline": true
        }
       }
      },
      "text/html": [
       "<div>\n",
       "        \n",
       "        \n",
       "            <div id=\"2e3144a0-dff6-4b2c-a22a-cbb0aec8760c\" class=\"plotly-graph-div\" style=\"height:525px; width:100%;\"></div>\n",
       "            <script type=\"text/javascript\">\n",
       "                require([\"plotly\"], function(Plotly) {\n",
       "                    window.PLOTLYENV=window.PLOTLYENV || {};\n",
       "                    \n",
       "                if (document.getElementById(\"2e3144a0-dff6-4b2c-a22a-cbb0aec8760c\")) {\n",
       "                    Plotly.newPlot(\n",
       "                        '2e3144a0-dff6-4b2c-a22a-cbb0aec8760c',\n",
       "                        [{\"marker\": {\"color\": \"#2E604A\"}, \"name\": \"Saturday Morning Session\", \"type\": \"box\", \"y\": [890, 2303, 2041, 2022, 2057, 2217, 901, 1927, 1907, 1445, 2131, 1583, 2420, 1786, 2005, 1413, 1676, 2315, 2258, 230, 2613, 1945, 700, 632, 1624, 1915, 2003, 1277, 2180, 1773, 1764, 2126, 2389, 1458, 2379, 1696, 1673, 2367, 2209, 1885, 2157, 1661, 1300, 2339, 2411, 1422, 2148, 1396, 1657, 1831, 2327, 1228, 1549, 1675, 1469, 2257, 2418, 1815, 1502, 1812, 1276, 2117, 2218, 697, 381, 2396, 1726, 1607, 2405, 2317, 1060, 2003, 1825, 1825, 1984, 2160, 1147, 2500, 1801, 1794, 1730, 2373, 925, 2314, 1707, 1959, 2236, 2001, 2388, 1743, 1568, 2670, 2227, 482, 2220, 1171, 1152, 1088, 1198, 2051, 2036, 759, 211, 145, 1923, 1048, 1147, 1837, 2067, 1966, 503, 2315, 1168, 1350, 1155, 1269, 1999, 2078, 1593, 1697, 1144, 1240, 1142, 2007, 2696, 933, 1971, 1512, 1277, 1447, 2123, 2154, 994, 2071, 1515, 1553, 1433, 2276, 2714, 633, 1995, 1387, 1555, 1578, 2073, 2047, 721, 2531, 1511, 1490, 1437, 2144, 2593, 677, 1795, 1302, 1479, 1478, 2221, 2155, 631, 1858, 1573, 1344, 1389, 2400, 2693, 1870, 1424, 1507, 723, 1160, 2099, 2233, 633, 2401, 1529, 1508, 1708, 2020, 2382, 828, 2198, 1447, 1740, 1865, 1866, 2344, 576, 1684, 1668, 1544, 1614, 2025, 2491, 493, 1783, 1576, 1572, 1437, 2145, 2043, 504, 1705, 1418, 1410, 1477, 1928, 2627, 566, 1584, 1767, 1322, 1138, 2064, 1973, 2369, 1907, 1861, 1896, 1677, 1741, 1975, 1836, 1768, 1241, 1556, 1506, 2097, 2143, 1271, 1457, 1931, 1470, 1479, 1874, 2055, 1505, 1446, 1665, 1314, 1570, 1891, 2475, 1683, 1529, 1837, 1510, 1367, 1604, 2114, 1841, 1974, 1807, 2221, 1751, 1040, 1663, 1328, 1174, 2096, 1378, 1885, 721, 2048, 1625, 1467, 1912, 1848, 1894, 1917, 1581, 2148, 1943, 1809, 2246]}, {\"marker\": {\"color\": \"#76A08A\"}, \"name\": \"Saturdat Afternoon Session\", \"type\": \"box\", \"y\": [409, 363, 181, 1817, 1916, 1464, 1470, 2579, 2608, 501, 1857, 1926, 1065, 1230, 1214, 2593, 2108, 571, 335, 124, 2014, 1215, 1100, 1681, 2142, 1725, 586, 2287, 1860, 1038, 1138, 998, 2416, 1997, 485, 485, 104, 2005, 2265, 1071, 1846, 1785, 2178, 633, 2116, 2365, 1310, 950, 1015, 1948, 2299, 539, 310, 168, 1699, 2354, 1264, 1006, 2171, 1879, 726, 1536, 2492, 1726, 1398, 2047, 1797, 612, 340, 175, 2194, 2445, 1065, 1001, 2209, 1995, 509, 2084, 2352, 1477, 1766, 2430, 1751, 715, 358, 107, 1740, 1875, 1486, 1311, 1441, 2278, 520, 2144, 2335, 1252, 1473, 1281, 1662, 2243, 740, 202, 283, 1937, 1811, 1186, 1497, 1828, 2269, 490, 2273, 1980, 993, 1294, 1288, 2356, 2193, 508, 211, 139, 2217, 2171, 1432, 1086, 1553, 2219, 407, 2144, 2041, 1183, 1111, 1294, 2080, 1693, 2099, 1298, 1380, 1177, 1249, 1006, 1250, 988, 1946, 2058, 951, 1236, 1040, 1192, 1656, 1771, 197, 180, 2076, 1785, 1291, 1272, 1611, 2111, 1872, 387, 1934, 1939, 1589, 1428, 2404, 2141, 915, 191, 165, 1924, 2202, 1395, 1151, 1868, 1830, 332, 2014, 1941, 1192, 1652, 1168, 1861, 2414, 719, 187, 221, 1910, 2238, 1113, 1336, 2094, 1750, 365, 2053, 2183, 1288, 1344, 1122, 1882, 2309, 587, 209, 242, 2145, 1634, 1474, 1479, 1968, 1973, 427, 2163, 1871, 1241, 1269, 1507, 2156, 1931, 791, 195, 177, 1785, 1528, 1284, 1304, 2068, 1840, 386, 1913, 1776, 1263, 1501, 1405, 2024, 1984, 780, 195, 92, 1717, 2116, 1468, 1267, 2080, 1597, 355, 1769, 2040, 1483, 1134, 1468, 1666, 1966, 719, 169, 79, 1554, 1653, 1568, 1163, 1438, 283, 1877, 1858, 1520, 1723, 1477, 1699, 1907, 704, 169, 79, 2175, 2118, 1421, 1233, 1756, 2153, 570, 1710, 1652, 1628, 1145, 1529, 1513, 1803, 711, 169, 75, 1884, 1790, 1370, 1386, 1932, 1727, 396, 2129, 2199, 2119, 1607, 1270, 1880, 717, 168, 81, 1301, 1586, 2077, 1559, 1900, 1819, 510, 2164, 1475, 2079, 1887, 1531, 2122, 781, 164, 1948, 1533, 1597, 1442, 1764, 1829, 482, 2112, 1767, 1964, 1947, 1663, 1999, 625, 166, 1724, 1445, 1863, 1494, 1573, 1670]}, {\"marker\": {\"color\": \"#CECD7B\"}, \"name\": \"Priesthood Session\", \"type\": \"box\", \"y\": [1807, 1049, 921, 1128, 2079, 2312, 2500, 2456, 1750, 1227, 2254, 2400, 2469, 1827, 1609, 1790, 2138, 2233, 2449, 2060, 1403, 1379, 2286, 2300, 2840, 2554, 1593, 1450, 2141, 2117, 2225, 2466, 1446, 1060, 1015, 2237, 2158, 2689, 2312, 1496, 1562, 2087, 2281, 2486, 2224, 2317, 2240, 2341, 2535, 2036, 1353, 1368, 2156, 2354, 2316, 1711, 1352, 1573, 2190, 2399, 2130, 1530, 1607, 1487, 1938, 2339, 2037, 2318, 1429, 1453, 2171, 2306, 2341, 1791, 1247, 1649, 1815, 2299, 2425, 2251, 1414, 1415, 2122, 2377, 2022, 2269, 1453, 1150, 2057, 2768, 2252, 2227, 1736, 1469, 1421, 1985, 2455, 1672, 2074, 2120, 1524, 1931, 2319, 1813, 1970, 1339, 1351, 1251, 2465, 1807, 1380, 2148, 1153, 1356, 1030, 2252, 2455, 2246, 1949, 1446, 1655, 2085, 2349, 2744, 2283, 1476, 1450, 2076, 2539, 2355, 2104, 1412, 1512, 2040, 2409, 2217, 2291, 1673, 1535, 2033, 2450, 2279, 1827, 1630, 1243, 2152, 2617, 2179, 1946, 1604, 1685, 2058, 2530, 2655, 1906, 1537, 1920, 2118, 2541, 2704, 2178, 1554, 1596, 2162, 2409, 2233, 2283, 1539, 1487, 2075, 2730, 2588, 1741, 1835, 1475, 2162, 2375, 2153, 1723, 1688, 1596, 1864, 2183, 2010, 1928, 1515, 1388, 1961, 2168, 1815, 2131, 1808, 1653, 1915, 2292, 1642]}, {\"marker\": {\"color\": \"#FCD16B\"}, \"name\": \"Sunday Morning Session\", \"type\": \"box\", \"y\": [2342, 1992, 1579, 1738, 1832, 2460, 2137, 2136, 1378, 1751, 1826, 2289, 2212, 2197, 1311, 1217, 2424, 2312, 2040, 1979, 1221, 2011, 3738, 2324, 1947, 1342, 1364, 2071, 2089, 2233, 2027, 1445, 1424, 1857, 2411, 2215, 1978, 1354, 1684, 2159, 1998, 2184, 2358, 1334, 1164, 2294, 2336, 2074, 1453, 1283, 1396, 1827, 2352, 2105, 1789, 1421, 1499, 2310, 2254, 2054, 2169, 1308, 1224, 2186, 2205, 2048, 2359, 1433, 1449, 1773, 2212, 1834, 2029, 1539, 1679, 2405, 2220, 2136, 2050, 1561, 1212, 2005, 2170, 2010, 1962, 1473, 1275, 2418, 2020, 1966, 2106, 1165, 1156, 1216, 1621, 1998, 1777, 2120, 1124, 1200, 1104, 1929, 1628, 2304, 2345, 1349, 1173, 993, 2091, 2021, 2172, 2271, 1076, 1297, 2390, 2480, 2377, 2103, 1461, 1507, 2082, 2511, 2127, 1661, 1561, 1373, 1797, 2524, 2273, 1980, 1380, 1626, 1555, 2075, 2019, 1731, 1414, 1599, 2196, 2493, 2322, 2089, 1419, 1701, 2157, 2586, 2019, 1446, 1622, 1552, 2142, 2453, 2255, 1733, 1724, 1558, 1879, 2589, 1858, 1595, 1460, 1457, 2183, 2198, 2393, 1846, 1568, 1225, 1887, 2553, 2050, 1858, 1347, 1319, 1706, 2326, 2182, 1902, 1861, 1825, 1605, 1941, 1909, 1920, 1611, 1568, 2122, 1854, 2415, 1639, 1477, 1587, 1554, 1737, 1439, 1417, 1176, 1365, 1689, 1632, 1985, 1759, 892, 1048, 981, 1689, 1409, 1516, 2391, 497, 1757, 2056, 2297, 2186, 1985, 544, 1658, 1303, 1476, 1690, 1592, 1607, 2090, 410, 1495, 1462, 2000, 1565, 1872, 1987, 1659, 1277, 2081, 1783, 1587, 2520, 1560, 1387, 1384, 1216, 2185, 1984, 2207, 1761, 1629, 1676, 1849, 1836, 1705, 1843, 1681, 2071, 2167, 1757, 1930]}, {\"marker\": {\"color\": \"#F8DF4F\"}, \"name\": \"Sunday Afternoon Session\", \"type\": \"box\", \"y\": [2596, 2324, 1743, 1644, 1547, 2190, 975, 2132, 2372, 1338, 1214, 1445, 2113, 1302, 1984, 2309, 1391, 1337, 1361, 1963, 949, 2305, 2128, 1157, 1122, 1107, 1417, 2401, 810, 2256, 2316, 1381, 1539, 1254, 2485, 673, 2316, 2066, 1308, 1295, 1541, 2024, 1100, 1831, 1048, 1340, 1234, 657, 675, 249, 2311, 1138, 2573, 2063, 1754, 1643, 1688, 1481, 861, 2074, 2095, 1014, 1050, 1844, 2416, 700, 2110, 2579, 1200, 1204, 1573, 1840, 762, 2219, 2466, 1593, 1371, 1786, 1955, 571, 2011, 1813, 1963, 1780, 1933, 2220, 884, 2200, 2344, 1844, 1314, 1622, 2247, 744, 1766, 2369, 1068, 1296, 1173, 1225, 2233, 625, 2206, 2066, 1974, 1611, 1736, 2163, 173, 2115, 2110, 1190, 1287, 1466, 1434, 1375, 1815, 238, 2106, 2206, 1260, 1734, 1092, 1998, 1718, 234, 2022, 1780, 1354, 1370, 1143, 1271, 1381, 1961, 173, 1991, 2036, 1109, 1107, 1175, 1186, 1392, 2027, 1162, 2126, 1657, 1402, 1259, 1249, 2353, 758, 2171, 2233, 1448, 1247, 1610, 2108, 1240, 1800, 2186, 1399, 1472, 1733, 1232, 2064, 713, 1658, 1930, 1470, 1464, 1491, 1456, 1903, 783, 2016, 2080, 1592, 1286, 1317, 1525, 1964, 726, 1896, 2206, 1495, 1711, 1202, 1547, 1871, 646, 1620, 2213, 1505, 1123, 1300, 1869, 2168, 762, 1909, 2000, 1510, 1482, 1852, 1368, 1803, 734, 1608, 1791, 1624, 1407, 1509, 1460, 2019, 767, 1694, 2019, 1259, 1386, 1480, 1313, 2131, 689, 2045, 1856, 1448, 1580, 1382, 1526, 1529, 339, 1809, 1696, 1807, 1339, 1350, 1449, 2111, 523, 1844, 1550, 1620, 1422, 1327, 1652, 2029, 442, 1587, 1356, 1350, 1882, 1683, 1509, 1669, 2118, 1815, 1347, 1604, 1633, 1394, 1259, 2156, 1589, 1649, 1665, 1909, 1550, 1318, 1903, 2022, 1821, 1510, 1958, 1522, 1371, 1961, 2170, 1296, 1294, 2200, 1807, 1357, 2108, 1536, 1589, 1103, 1838, 1135, 1464, 1246, 2141, 584, 764, 241, 1681, 1965, 1778, 1619, 2004, 607, 2037, 1497, 1594, 1656, 1818, 1410, 2087, 793, 1983, 1342, 1956, 1846, 1341, 1870, 702]}, {\"boxpoints\": \"all\", \"marker\": {\"color\": \"#A35E60\"}, \"name\": \"February 1999 Conversion and Retention Broadcast\", \"type\": \"box\", \"y\": [5619]}, {\"marker\": {\"color\": \"#CC8B3C\"}, \"name\": \"General Young Women Meeting\", \"type\": \"box\", \"y\": [1563, 1731, 2133, 2028, 1666, 1497, 1909, 2102, 1750, 1690, 2128, 2853, 1608, 1558, 1935, 2359, 1764, 1376, 1436, 2079, 1974, 1600, 1643, 2322, 1892, 1456, 1505, 2311, 1799, 1682, 1624, 2273, 2172, 1786, 1680, 1501, 1852, 1484, 1710, 1898, 1675, 1890, 2227, 2739, 1864, 1921, 2046, 2451, 1739, 1757, 2174, 2725, 1606, 1777, 2023, 2333, 1570, 1894, 1957, 2812]}, {\"marker\": {\"color\": \"#D1362F\"}, \"name\": \"General Relief Society Meeting\", \"type\": \"box\", \"y\": [2081, 1939, 2056, 2739, 2303, 1802, 2062, 2937, 1871, 1868, 1926, 2240, 1706, 1357, 1139, 2993, 1620, 1363, 1249, 2210, 1538, 1466, 1165, 2298, 1772, 1314, 1313, 2524, 1790, 1411, 1233, 2290, 2268, 1500, 1483, 2562, 2234, 1502, 1510, 2548, 2947, 1756, 1960, 3073, 2217, 1890, 2209, 2451, 1726, 1784, 2449, 2366, 1761, 1426, 2709, 2346, 1887, 1567, 2122]}, {\"marker\": {\"color\": \"#E6A2C5\"}, \"name\": \"Special Satellite Broadcast for Children\", \"type\": \"box\", \"y\": [988, 878, 1197, 1920]}, {\"marker\": {\"color\": \"#F7B0AA\"}, \"name\": \"General Women's Meeting\", \"type\": \"box\", \"y\": [1425, 1759, 1488, 2256]}, {\"marker\": {\"color\": \"#7496D2\"}, \"name\": \"General Women's Session\", \"type\": \"box\", \"y\": [1598, 1734, 1671, 2216, 1400, 1342, 1739, 2243, 1380, 1325, 1532, 2545, 1404, 1372, 1519, 1811, 1826, 1682, 1919, 2213, 1595, 1557, 1601, 1930, 2184, 1528, 1554, 2688, 1491, 1670, 1382, 1750, 1566, 1729]}, {\"marker\": {\"color\": \"#C7CEF6\"}, \"name\": \"General Priesthood Session\", \"type\": \"box\", \"y\": [1847, 1675, 1594, 1922, 2443, 1583, 1878, 1277, 1947, 2056, 1559, 1722, 1560, 1898, 2281, 484, 1706, 1929, 1994, 2204, 516, 405, 2044, 1721, 2080, 2572, 1855, 1664, 1658, 2009, 2313, 1570, 422, 1670, 1682, 2229, 1902, 1626, 2226, 1437, 1409, 1472, 1374, 1585]}],\n",
       "                        {\"plot_bgcolor\": \"white\", \"showlegend\": false, \"template\": {\"data\": {\"bar\": [{\"error_x\": {\"color\": \"#2a3f5f\"}, \"error_y\": {\"color\": \"#2a3f5f\"}, \"marker\": {\"line\": {\"color\": \"#E5ECF6\", \"width\": 0.5}}, \"type\": \"bar\"}], \"barpolar\": [{\"marker\": {\"line\": {\"color\": \"#E5ECF6\", \"width\": 0.5}}, \"type\": \"barpolar\"}], \"carpet\": [{\"aaxis\": {\"endlinecolor\": \"#2a3f5f\", \"gridcolor\": \"white\", \"linecolor\": \"white\", \"minorgridcolor\": \"white\", \"startlinecolor\": \"#2a3f5f\"}, \"baxis\": {\"endlinecolor\": \"#2a3f5f\", \"gridcolor\": \"white\", \"linecolor\": \"white\", \"minorgridcolor\": \"white\", \"startlinecolor\": \"#2a3f5f\"}, \"type\": \"carpet\"}], \"choropleth\": [{\"colorbar\": {\"outlinewidth\": 0, \"ticks\": \"\"}, \"type\": \"choropleth\"}], \"contour\": [{\"colorbar\": {\"outlinewidth\": 0, \"ticks\": \"\"}, \"colorscale\": [[0.0, \"#0d0887\"], [0.1111111111111111, \"#46039f\"], [0.2222222222222222, \"#7201a8\"], [0.3333333333333333, \"#9c179e\"], [0.4444444444444444, \"#bd3786\"], [0.5555555555555556, \"#d8576b\"], [0.6666666666666666, \"#ed7953\"], [0.7777777777777778, \"#fb9f3a\"], [0.8888888888888888, \"#fdca26\"], [1.0, \"#f0f921\"]], \"type\": \"contour\"}], \"contourcarpet\": [{\"colorbar\": {\"outlinewidth\": 0, \"ticks\": \"\"}, \"type\": \"contourcarpet\"}], \"heatmap\": [{\"colorbar\": {\"outlinewidth\": 0, \"ticks\": \"\"}, \"colorscale\": [[0.0, \"#0d0887\"], [0.1111111111111111, \"#46039f\"], [0.2222222222222222, \"#7201a8\"], [0.3333333333333333, \"#9c179e\"], [0.4444444444444444, \"#bd3786\"], [0.5555555555555556, \"#d8576b\"], [0.6666666666666666, \"#ed7953\"], [0.7777777777777778, \"#fb9f3a\"], [0.8888888888888888, \"#fdca26\"], [1.0, \"#f0f921\"]], \"type\": \"heatmap\"}], \"heatmapgl\": [{\"colorbar\": {\"outlinewidth\": 0, \"ticks\": \"\"}, \"colorscale\": [[0.0, \"#0d0887\"], [0.1111111111111111, \"#46039f\"], [0.2222222222222222, \"#7201a8\"], [0.3333333333333333, \"#9c179e\"], [0.4444444444444444, \"#bd3786\"], [0.5555555555555556, \"#d8576b\"], [0.6666666666666666, \"#ed7953\"], [0.7777777777777778, \"#fb9f3a\"], [0.8888888888888888, \"#fdca26\"], [1.0, \"#f0f921\"]], \"type\": \"heatmapgl\"}], \"histogram\": [{\"marker\": {\"colorbar\": {\"outlinewidth\": 0, \"ticks\": \"\"}}, \"type\": \"histogram\"}], \"histogram2d\": [{\"colorbar\": {\"outlinewidth\": 0, \"ticks\": \"\"}, \"colorscale\": [[0.0, \"#0d0887\"], [0.1111111111111111, \"#46039f\"], [0.2222222222222222, \"#7201a8\"], [0.3333333333333333, \"#9c179e\"], [0.4444444444444444, \"#bd3786\"], [0.5555555555555556, \"#d8576b\"], [0.6666666666666666, \"#ed7953\"], [0.7777777777777778, \"#fb9f3a\"], [0.8888888888888888, \"#fdca26\"], [1.0, \"#f0f921\"]], \"type\": \"histogram2d\"}], \"histogram2dcontour\": [{\"colorbar\": {\"outlinewidth\": 0, \"ticks\": \"\"}, \"colorscale\": [[0.0, \"#0d0887\"], [0.1111111111111111, \"#46039f\"], [0.2222222222222222, \"#7201a8\"], [0.3333333333333333, \"#9c179e\"], [0.4444444444444444, \"#bd3786\"], [0.5555555555555556, \"#d8576b\"], [0.6666666666666666, \"#ed7953\"], [0.7777777777777778, \"#fb9f3a\"], [0.8888888888888888, \"#fdca26\"], [1.0, \"#f0f921\"]], \"type\": \"histogram2dcontour\"}], \"mesh3d\": [{\"colorbar\": {\"outlinewidth\": 0, \"ticks\": \"\"}, \"type\": \"mesh3d\"}], \"parcoords\": [{\"line\": {\"colorbar\": {\"outlinewidth\": 0, \"ticks\": \"\"}}, \"type\": \"parcoords\"}], \"scatter\": [{\"marker\": {\"colorbar\": {\"outlinewidth\": 0, \"ticks\": \"\"}}, \"type\": \"scatter\"}], \"scatter3d\": [{\"line\": {\"colorbar\": {\"outlinewidth\": 0, \"ticks\": \"\"}}, \"marker\": {\"colorbar\": {\"outlinewidth\": 0, \"ticks\": \"\"}}, \"type\": \"scatter3d\"}], \"scattercarpet\": [{\"marker\": {\"colorbar\": {\"outlinewidth\": 0, \"ticks\": \"\"}}, \"type\": \"scattercarpet\"}], \"scattergeo\": [{\"marker\": {\"colorbar\": {\"outlinewidth\": 0, \"ticks\": \"\"}}, \"type\": \"scattergeo\"}], \"scattergl\": [{\"marker\": {\"colorbar\": {\"outlinewidth\": 0, \"ticks\": \"\"}}, \"type\": \"scattergl\"}], \"scattermapbox\": [{\"marker\": {\"colorbar\": {\"outlinewidth\": 0, \"ticks\": \"\"}}, \"type\": \"scattermapbox\"}], \"scatterpolar\": [{\"marker\": {\"colorbar\": {\"outlinewidth\": 0, \"ticks\": \"\"}}, \"type\": \"scatterpolar\"}], \"scatterpolargl\": [{\"marker\": {\"colorbar\": {\"outlinewidth\": 0, \"ticks\": \"\"}}, \"type\": \"scatterpolargl\"}], \"scatterternary\": [{\"marker\": {\"colorbar\": {\"outlinewidth\": 0, \"ticks\": \"\"}}, \"type\": \"scatterternary\"}], \"surface\": [{\"colorbar\": {\"outlinewidth\": 0, \"ticks\": \"\"}, \"colorscale\": [[0.0, \"#0d0887\"], [0.1111111111111111, \"#46039f\"], [0.2222222222222222, \"#7201a8\"], [0.3333333333333333, \"#9c179e\"], [0.4444444444444444, \"#bd3786\"], [0.5555555555555556, \"#d8576b\"], [0.6666666666666666, \"#ed7953\"], [0.7777777777777778, \"#fb9f3a\"], [0.8888888888888888, \"#fdca26\"], [1.0, \"#f0f921\"]], \"type\": \"surface\"}], \"table\": [{\"cells\": {\"fill\": {\"color\": \"#EBF0F8\"}, \"line\": {\"color\": \"white\"}}, \"header\": {\"fill\": {\"color\": \"#C8D4E3\"}, \"line\": {\"color\": \"white\"}}, \"type\": \"table\"}]}, \"layout\": {\"annotationdefaults\": {\"arrowcolor\": \"#2a3f5f\", \"arrowhead\": 0, \"arrowwidth\": 1}, \"colorscale\": {\"diverging\": [[0, \"#8e0152\"], [0.1, \"#c51b7d\"], [0.2, \"#de77ae\"], [0.3, \"#f1b6da\"], [0.4, \"#fde0ef\"], [0.5, \"#f7f7f7\"], [0.6, \"#e6f5d0\"], [0.7, \"#b8e186\"], [0.8, \"#7fbc41\"], [0.9, \"#4d9221\"], [1, \"#276419\"]], \"sequential\": [[0.0, \"#0d0887\"], [0.1111111111111111, \"#46039f\"], [0.2222222222222222, \"#7201a8\"], [0.3333333333333333, \"#9c179e\"], [0.4444444444444444, \"#bd3786\"], [0.5555555555555556, \"#d8576b\"], [0.6666666666666666, \"#ed7953\"], [0.7777777777777778, \"#fb9f3a\"], [0.8888888888888888, \"#fdca26\"], [1.0, \"#f0f921\"]], \"sequentialminus\": [[0.0, \"#0d0887\"], [0.1111111111111111, \"#46039f\"], [0.2222222222222222, \"#7201a8\"], [0.3333333333333333, \"#9c179e\"], [0.4444444444444444, \"#bd3786\"], [0.5555555555555556, \"#d8576b\"], [0.6666666666666666, \"#ed7953\"], [0.7777777777777778, \"#fb9f3a\"], [0.8888888888888888, \"#fdca26\"], [1.0, \"#f0f921\"]]}, \"colorway\": [\"#636efa\", \"#EF553B\", \"#00cc96\", \"#ab63fa\", \"#FFA15A\", \"#19d3f3\", \"#FF6692\", \"#B6E880\", \"#FF97FF\", \"#FECB52\"], \"font\": {\"color\": \"#2a3f5f\"}, \"geo\": {\"bgcolor\": \"white\", \"lakecolor\": \"white\", \"landcolor\": \"#E5ECF6\", \"showlakes\": true, \"showland\": true, \"subunitcolor\": \"white\"}, \"hoverlabel\": {\"align\": \"left\"}, \"hovermode\": \"closest\", \"mapbox\": {\"style\": \"light\"}, \"paper_bgcolor\": \"white\", \"plot_bgcolor\": \"#E5ECF6\", \"polar\": {\"angularaxis\": {\"gridcolor\": \"white\", \"linecolor\": \"white\", \"ticks\": \"\"}, \"bgcolor\": \"#E5ECF6\", \"radialaxis\": {\"gridcolor\": \"white\", \"linecolor\": \"white\", \"ticks\": \"\"}}, \"scene\": {\"xaxis\": {\"backgroundcolor\": \"#E5ECF6\", \"gridcolor\": \"white\", \"gridwidth\": 2, \"linecolor\": \"white\", \"showbackground\": true, \"ticks\": \"\", \"zerolinecolor\": \"white\"}, \"yaxis\": {\"backgroundcolor\": \"#E5ECF6\", \"gridcolor\": \"white\", \"gridwidth\": 2, \"linecolor\": \"white\", \"showbackground\": true, \"ticks\": \"\", \"zerolinecolor\": \"white\"}, \"zaxis\": {\"backgroundcolor\": \"#E5ECF6\", \"gridcolor\": \"white\", \"gridwidth\": 2, \"linecolor\": \"white\", \"showbackground\": true, \"ticks\": \"\", \"zerolinecolor\": \"white\"}}, \"shapedefaults\": {\"line\": {\"color\": \"#2a3f5f\"}}, \"ternary\": {\"aaxis\": {\"gridcolor\": \"white\", \"linecolor\": \"white\", \"ticks\": \"\"}, \"baxis\": {\"gridcolor\": \"white\", \"linecolor\": \"white\", \"ticks\": \"\"}, \"bgcolor\": \"#E5ECF6\", \"caxis\": {\"gridcolor\": \"white\", \"linecolor\": \"white\", \"ticks\": \"\"}}, \"title\": {\"x\": 0.05}, \"xaxis\": {\"automargin\": true, \"gridcolor\": \"white\", \"linecolor\": \"white\", \"ticks\": \"\", \"zerolinecolor\": \"white\", \"zerolinewidth\": 2}, \"yaxis\": {\"automargin\": true, \"gridcolor\": \"white\", \"linecolor\": \"white\", \"ticks\": \"\", \"zerolinecolor\": \"white\", \"zerolinewidth\": 2}}}, \"title\": {\"text\": \"Talk Length by Session\"}, \"xaxis\": {\"linecolor\": \"black\", \"linewidth\": 1, \"showline\": true}, \"yaxis\": {\"linecolor\": \"black\", \"linewidth\": 1, \"showline\": true}},\n",
       "                        {\"responsive\": true}\n",
       "                    ).then(function(){\n",
       "                            \n",
       "var gd = document.getElementById('2e3144a0-dff6-4b2c-a22a-cbb0aec8760c');\n",
       "var x = new MutationObserver(function (mutations, observer) {{\n",
       "        var display = window.getComputedStyle(gd).display;\n",
       "        if (!display || display === 'none') {{\n",
       "            console.log([gd, 'removed!']);\n",
       "            Plotly.purge(gd);\n",
       "            observer.disconnect();\n",
       "        }}\n",
       "}});\n",
       "\n",
       "// Listen for the removal of the full notebook cells\n",
       "var notebookContainer = gd.closest('#notebook-container');\n",
       "if (notebookContainer) {{\n",
       "    x.observe(notebookContainer, {childList: true});\n",
       "}}\n",
       "\n",
       "// Listen for the clearing of the current output cell\n",
       "var outputEl = gd.closest('.output');\n",
       "if (outputEl) {{\n",
       "    x.observe(outputEl, {childList: true});\n",
       "}}\n",
       "\n",
       "                        })\n",
       "                };\n",
       "                });\n",
       "            </script>\n",
       "        </div>"
      ]
     },
     "metadata": {},
     "output_type": "display_data"
    }
   ],
   "source": [
    "fig2 = go.Figure()\n",
    "fig2.add_trace(go.Box(y = conf.loc[conf['session'] == 'Saturday Morning Session', 'word_count'],\n",
    "                     name = 'Saturday Morning Session',\n",
    "                     marker_color = '#2E604A'))\n",
    "\n",
    "fig2.add_trace(go.Box(y = conf.loc[conf['session'] == 'Saturday Afternoon Session', 'word_count'],\n",
    "                     name = 'Saturdat Afternoon Session',\n",
    "                     marker_color = '#76A08A'))\n",
    "\n",
    "fig2.add_trace(go.Box(y = conf.loc[conf['session'] == 'Priesthood Session', 'word_count'],\n",
    "                     name = 'Priesthood Session',\n",
    "                     marker_color = '#CECD7B'))\n",
    "\n",
    "fig2.add_trace(go.Box(y = conf.loc[conf['session'] == 'Sunday Morning Session', 'word_count'],\n",
    "                     name = 'Sunday Morning Session',\n",
    "                     marker_color = '#FCD16B'))\n",
    "\n",
    "fig2.add_trace(go.Box(y = conf.loc[conf['session'] == 'Sunday Afternoon Session', 'word_count'],\n",
    "                     name = 'Sunday Afternoon Session',\n",
    "                     marker_color = '#F8DF4F'))\n",
    "\n",
    "fig2.add_trace(go.Box(y = conf.loc[conf['session'] == 'February 1999 Conversion and Retention Broadcast', 'word_count'],\n",
    "                     name = 'February 1999 Conversion and Retention Broadcast',\n",
    "                     marker_color = '#A35E60',\n",
    "                     boxpoints = 'all'))\n",
    "\n",
    "fig2.add_trace(go.Box(y = conf.loc[conf['session'] == 'General Young Women Meeting', 'word_count'],\n",
    "                     name = 'General Young Women Meeting',\n",
    "                     marker_color = '#CC8B3C'))\n",
    "\n",
    "fig2.add_trace(go.Box(y = conf.loc[conf['session'] == 'General Relief Society Meeting', 'word_count'],\n",
    "                     name = 'General Relief Society Meeting',\n",
    "                     marker_color = '#D1362F'))\n",
    "\n",
    "fig2.add_trace(go.Box(y = conf.loc[conf['session'] == 'Special Satellite Broadcast for Children', 'word_count'],\n",
    "                     name = 'Special Satellite Broadcast for Children',\n",
    "                     marker_color = '#E6A2C5'))\n",
    "\n",
    "fig2.add_trace(go.Box(y = conf.loc[conf['session'] == \"General Women's Meeting\", 'word_count'],\n",
    "                     name = \"General Women's Meeting\",\n",
    "                     marker_color = '#F7B0AA'))\n",
    "\n",
    "fig2.add_trace(go.Box(y = conf.loc[conf['session'] == \"General Women's Session\", 'word_count'],\n",
    "                     name = \"General Women's Session\",\n",
    "                     marker_color = '#7496D2'))\n",
    "\n",
    "fig2.add_trace(go.Box(y = conf.loc[conf['session'] == 'General Priesthood Session', 'word_count'],\n",
    "                     name = 'General Priesthood Session',\n",
    "                     marker_color = '#C7CEF6'))\n",
    "\n",
    "fig2.update_layout(title = 'Talk Length by Session',\n",
    "                  plot_bgcolor = 'white',\n",
    "                  showlegend = False)\n",
    "\n",
    "fig2.update_xaxes(showline = True, linewidth = 1, linecolor = 'black')\n",
    "fig2.update_yaxes(showline = True, linewidth = 1, linecolor = 'black')"
   ]
  },
  {
   "cell_type": "markdown",
   "metadata": {},
   "source": [
    "Talk length doesn't seem to vary much by session type. There is an outlier, however. The February 1999 Conversion and Retension Broadycast is the obvious maximum here. "
   ]
  },
  {
   "cell_type": "markdown",
   "metadata": {},
   "source": [
    "Let's now see if there's a difference between men's and women's sessions. We'll have to do a little feature engineering to look at this comparison. If the session title contains 'women' then we'll assign this to be a women's sesssion. If it has 'priesthood in the title' we'll assign it a male value. All others will be assigned to both genders since males and females talk at these sessions. "
   ]
  },
  {
   "cell_type": "code",
   "execution_count": 73,
   "metadata": {},
   "outputs": [],
   "source": [
    "conf['session_gendered'] = np.where((conf['session'] == 'Priesthood Session') | \n",
    "                                    (conf['session'] == 'General Priesthood Session'), 'male',\n",
    "                                   np.where((conf['session'] == 'General Young Women Meeting') |\n",
    "                                           (conf['session'] == \"General Women's Meeting\") |\n",
    "                                           (conf['session'] == \"General Women's Session\"), 'female', 'male and female'))"
   ]
  },
  {
   "cell_type": "code",
   "execution_count": 74,
   "metadata": {},
   "outputs": [
    {
     "data": {
      "text/plain": [
       "array(['male and female', 'male', 'female'], dtype=object)"
      ]
     },
     "execution_count": 74,
     "metadata": {},
     "output_type": "execute_result"
    }
   ],
   "source": [
    "conf['session_gendered'].unique()"
   ]
  },
  {
   "cell_type": "markdown",
   "metadata": {},
   "source": [
    "Now we can make our visualization to see how the session's gender compares."
   ]
  },
  {
   "cell_type": "code",
   "execution_count": 105,
   "metadata": {},
   "outputs": [
    {
     "data": {
      "application/vnd.plotly.v1+json": {
       "config": {
        "plotlyServerURL": "https://plot.ly"
       },
       "data": [
        {
         "boxpoints": "all",
         "marker": {
          "color": "#7496D2"
         },
         "name": "male",
         "type": "box",
         "y": [
          1807,
          1049,
          921,
          1128,
          2079,
          2312,
          2500,
          2456,
          1750,
          1227,
          2254,
          2400,
          2469,
          1827,
          1609,
          1790,
          2138,
          2233,
          2449,
          2060,
          1403,
          1379,
          2286,
          2300,
          2840,
          2554,
          1593,
          1450,
          2141,
          2117,
          2225,
          2466,
          1446,
          1060,
          1015,
          2237,
          2158,
          2689,
          2312,
          1496,
          1562,
          2087,
          2281,
          2486,
          2224,
          2317,
          2240,
          2341,
          2535,
          2036,
          1353,
          1368,
          2156,
          2354,
          2316,
          1711,
          1352,
          1573,
          2190,
          2399,
          2130,
          1530,
          1607,
          1487,
          1938,
          2339,
          2037,
          2318,
          1429,
          1453,
          2171,
          2306,
          2341,
          1791,
          1247,
          1649,
          1815,
          2299,
          2425,
          2251,
          1414,
          1415,
          2122,
          2377,
          2022,
          2269,
          1453,
          1150,
          2057,
          2768,
          2252,
          2227,
          1736,
          1469,
          1421,
          1985,
          2455,
          1672,
          2074,
          2120,
          1524,
          1931,
          2319,
          1813,
          1970,
          1339,
          1351,
          1251,
          2465,
          1807,
          1380,
          2148,
          1153,
          1356,
          1030,
          2252,
          2455,
          2246,
          1949,
          1446,
          1655,
          2085,
          2349,
          2744,
          2283,
          1476,
          1450,
          2076,
          2539,
          2355,
          2104,
          1412,
          1512,
          2040,
          2409,
          2217,
          2291,
          1673,
          1535,
          2033,
          2450,
          2279,
          1827,
          1630,
          1243,
          2152,
          2617,
          2179,
          1946,
          1604,
          1685,
          2058,
          2530,
          2655,
          1906,
          1537,
          1920,
          2118,
          2541,
          2704,
          2178,
          1554,
          1596,
          2162,
          2409,
          2233,
          2283,
          1539,
          1487,
          2075,
          2730,
          2588,
          1741,
          1835,
          1475,
          2162,
          2375,
          2153,
          1723,
          1688,
          1596,
          1864,
          2183,
          2010,
          1928,
          1515,
          1388,
          1961,
          2168,
          1815,
          2131,
          1808,
          1653,
          1915,
          2292,
          1642,
          1847,
          1675,
          1594,
          1922,
          2443,
          1583,
          1878,
          1277,
          1947,
          2056,
          1559,
          1722,
          1560,
          1898,
          2281,
          484,
          1706,
          1929,
          1994,
          2204,
          516,
          405,
          2044,
          1721,
          2080,
          2572,
          1855,
          1664,
          1658,
          2009,
          2313,
          1570,
          422,
          1670,
          1682,
          2229,
          1902,
          1626,
          2226,
          1437,
          1409,
          1472,
          1374,
          1585
         ]
        },
        {
         "boxpoints": "all",
         "marker": {
          "color": "#E6A2C5"
         },
         "name": "female",
         "type": "box",
         "y": [
          1563,
          1731,
          2133,
          2028,
          1666,
          1497,
          1909,
          2102,
          1750,
          1690,
          2128,
          2853,
          1608,
          1558,
          1935,
          2359,
          1764,
          1376,
          1436,
          2079,
          1974,
          1600,
          1643,
          2322,
          1892,
          1456,
          1505,
          2311,
          1799,
          1682,
          1624,
          2273,
          2172,
          1786,
          1680,
          1501,
          1852,
          1484,
          1710,
          1898,
          1675,
          1890,
          2227,
          2739,
          1864,
          1921,
          2046,
          2451,
          1739,
          1757,
          2174,
          2725,
          1606,
          1777,
          2023,
          2333,
          1570,
          1894,
          1957,
          2812,
          1425,
          1759,
          1488,
          2256,
          1598,
          1734,
          1671,
          2216,
          1400,
          1342,
          1739,
          2243,
          1380,
          1325,
          1532,
          2545,
          1404,
          1372,
          1519,
          1811,
          1826,
          1682,
          1919,
          2213,
          1595,
          1557,
          1601,
          1930,
          2184,
          1528,
          1554,
          2688,
          1491,
          1670,
          1382,
          1750,
          1566,
          1729
         ]
        },
        {
         "boxpoints": "all",
         "marker": {
          "color": "#C7CEF6"
         },
         "name": "male and female",
         "type": "box",
         "y": [
          890,
          2303,
          2041,
          2022,
          2057,
          2217,
          409,
          363,
          181,
          1817,
          1916,
          1464,
          1470,
          2579,
          2608,
          2342,
          1992,
          1579,
          1738,
          1832,
          2460,
          2596,
          2324,
          1743,
          1644,
          1547,
          2190,
          975,
          5619,
          901,
          1927,
          1907,
          1445,
          2131,
          1583,
          2420,
          501,
          1857,
          1926,
          1065,
          1230,
          1214,
          2593,
          2108,
          2137,
          2136,
          1378,
          1751,
          1826,
          2289,
          2132,
          2372,
          1338,
          1214,
          1445,
          2113,
          1302,
          2081,
          1939,
          2056,
          2739,
          1786,
          2005,
          1413,
          1676,
          2315,
          2258,
          571,
          335,
          124,
          2014,
          1215,
          1100,
          1681,
          2142,
          1725,
          2212,
          2197,
          1311,
          1217,
          2424,
          2312,
          1984,
          2309,
          1391,
          1337,
          1361,
          1963,
          949,
          230,
          2613,
          1945,
          700,
          632,
          1624,
          1915,
          2003,
          586,
          2287,
          1860,
          1038,
          1138,
          998,
          2416,
          1997,
          2040,
          1979,
          1221,
          2011,
          3738,
          2305,
          2128,
          1157,
          1122,
          1107,
          1417,
          2401,
          810,
          2303,
          1802,
          2062,
          2937,
          1277,
          2180,
          1773,
          1764,
          2126,
          2389,
          485,
          485,
          104,
          2005,
          2265,
          1071,
          1846,
          1785,
          2178,
          2324,
          1947,
          1342,
          1364,
          2071,
          2089,
          2256,
          2316,
          1381,
          1539,
          1254,
          2485,
          673,
          1458,
          2379,
          1696,
          1673,
          2367,
          2209,
          633,
          2116,
          2365,
          1310,
          950,
          1015,
          1948,
          2299,
          2233,
          2027,
          1445,
          1424,
          1857,
          2411,
          2316,
          2066,
          1308,
          1295,
          1541,
          2024,
          1100,
          1871,
          1868,
          1926,
          2240,
          1885,
          2157,
          1661,
          1300,
          2339,
          2411,
          539,
          310,
          168,
          1699,
          2354,
          1264,
          1006,
          2171,
          1879,
          2215,
          1978,
          1354,
          1684,
          2159,
          1998,
          1831,
          1048,
          1340,
          1234,
          657,
          675,
          249,
          2311,
          1138,
          1422,
          2148,
          1396,
          1657,
          1831,
          2327,
          726,
          1536,
          2492,
          1726,
          1398,
          2047,
          1797,
          2184,
          2358,
          1334,
          1164,
          2294,
          2336,
          2573,
          2063,
          1754,
          1643,
          1688,
          1481,
          861,
          1706,
          1357,
          1139,
          2993,
          1228,
          1549,
          1675,
          1469,
          2257,
          2418,
          612,
          340,
          175,
          2194,
          2445,
          1065,
          1001,
          2209,
          1995,
          2074,
          1453,
          1283,
          1396,
          1827,
          2352,
          2074,
          2095,
          1014,
          1050,
          1844,
          2416,
          700,
          988,
          878,
          1197,
          1920,
          1815,
          1502,
          1812,
          1276,
          2117,
          2218,
          509,
          2084,
          2352,
          1477,
          1766,
          2430,
          1751,
          2105,
          1789,
          1421,
          1499,
          2310,
          2254,
          2110,
          2579,
          1200,
          1204,
          1573,
          1840,
          762,
          1620,
          1363,
          1249,
          2210,
          697,
          381,
          2396,
          1726,
          1607,
          2405,
          2317,
          715,
          358,
          107,
          1740,
          1875,
          1486,
          1311,
          1441,
          2278,
          2054,
          2169,
          1308,
          1224,
          2186,
          2205,
          2219,
          2466,
          1593,
          1371,
          1786,
          1955,
          571,
          1060,
          2003,
          1825,
          1825,
          1984,
          2160,
          520,
          2144,
          2335,
          1252,
          1473,
          1281,
          1662,
          2243,
          2048,
          2359,
          1433,
          1449,
          1773,
          2212,
          2011,
          1813,
          1963,
          1780,
          1933,
          2220,
          884,
          1538,
          1466,
          1165,
          2298,
          1147,
          2500,
          1801,
          1794,
          1730,
          2373,
          740,
          202,
          283,
          1937,
          1811,
          1186,
          1497,
          1828,
          2269,
          1834,
          2029,
          1539,
          1679,
          2405,
          2220,
          2200,
          2344,
          1844,
          1314,
          1622,
          2247,
          744,
          925,
          2314,
          1707,
          1959,
          2236,
          2001,
          490,
          2273,
          1980,
          993,
          1294,
          1288,
          2356,
          2193,
          2136,
          2050,
          1561,
          1212,
          2005,
          2170,
          1766,
          2369,
          1068,
          1296,
          1173,
          1225,
          2233,
          625,
          1772,
          1314,
          1313,
          2524,
          2388,
          1743,
          1568,
          2670,
          2227,
          508,
          211,
          139,
          2217,
          2171,
          1432,
          1086,
          1553,
          2219,
          2010,
          1962,
          1473,
          1275,
          2418,
          2020,
          2206,
          2066,
          1974,
          1611,
          1736,
          2163,
          173,
          482,
          2220,
          1171,
          1152,
          1088,
          1198,
          2051,
          2036,
          407,
          2144,
          2041,
          1183,
          1111,
          1294,
          2080,
          1693,
          1966,
          2106,
          1165,
          1156,
          1216,
          1621,
          1998,
          2115,
          2110,
          1190,
          1287,
          1466,
          1434,
          1375,
          1815,
          238,
          1790,
          1411,
          1233,
          2290,
          759,
          211,
          145,
          1923,
          1048,
          1147,
          1837,
          2067,
          1966,
          2099,
          1298,
          1380,
          1177,
          1249,
          1006,
          1250,
          988,
          1777,
          2120,
          1124,
          1200,
          1104,
          1929,
          1628,
          2106,
          2206,
          1260,
          1734,
          1092,
          1998,
          1718,
          234,
          503,
          2315,
          1168,
          1350,
          1155,
          1269,
          1999,
          2078,
          1946,
          2058,
          951,
          1236,
          1040,
          1192,
          1656,
          1771,
          2304,
          2345,
          1349,
          1173,
          993,
          2091,
          2021,
          2022,
          1780,
          1354,
          1370,
          1143,
          1271,
          1381,
          1961,
          173,
          2268,
          1500,
          1483,
          2562,
          1593,
          1697,
          1144,
          1240,
          1142,
          2007,
          2696,
          197,
          180,
          2076,
          1785,
          1291,
          1272,
          1611,
          2111,
          1872,
          2172,
          2271,
          1076,
          1297,
          2390,
          2480,
          1991,
          2036,
          1109,
          1107,
          1175,
          1186,
          1392,
          2027,
          1162,
          933,
          1971,
          1512,
          1277,
          1447,
          2123,
          2154,
          387,
          1934,
          1939,
          1589,
          1428,
          2404,
          2141,
          2377,
          2103,
          1461,
          1507,
          2082,
          2511,
          2126,
          1657,
          1402,
          1259,
          1249,
          2353,
          758,
          2234,
          1502,
          1510,
          2548,
          994,
          2071,
          1515,
          1553,
          1433,
          2276,
          2714,
          915,
          191,
          165,
          1924,
          2202,
          1395,
          1151,
          1868,
          1830,
          2127,
          1661,
          1561,
          1373,
          1797,
          2524,
          2171,
          2233,
          1448,
          1247,
          1610,
          2108,
          1240,
          633,
          1995,
          1387,
          1555,
          1578,
          2073,
          2047,
          332,
          2014,
          1941,
          1192,
          1652,
          1168,
          1861,
          2414,
          2273,
          1980,
          1380,
          1626,
          1555,
          2075,
          1800,
          2186,
          1399,
          1472,
          1733,
          1232,
          2064,
          713,
          2947,
          1756,
          1960,
          3073,
          721,
          2531,
          1511,
          1490,
          1437,
          2144,
          2593,
          719,
          187,
          221,
          1910,
          2238,
          1113,
          1336,
          2094,
          1750,
          2019,
          1731,
          1414,
          1599,
          2196,
          2493,
          1658,
          1930,
          1470,
          1464,
          1491,
          1456,
          1903,
          783,
          677,
          1795,
          1302,
          1479,
          1478,
          2221,
          2155,
          365,
          2053,
          2183,
          1288,
          1344,
          1122,
          1882,
          2309,
          2322,
          2089,
          1419,
          1701,
          2157,
          2586,
          2016,
          2080,
          1592,
          1286,
          1317,
          1525,
          1964,
          726,
          2217,
          1890,
          2209,
          631,
          1858,
          1573,
          1344,
          1389,
          2400,
          2693,
          587,
          209,
          242,
          2145,
          1634,
          1474,
          1479,
          1968,
          1973,
          2019,
          1446,
          1622,
          1552,
          2142,
          2453,
          1896,
          2206,
          1495,
          1711,
          1202,
          1547,
          1871,
          646,
          1870,
          1424,
          1507,
          723,
          1160,
          2099,
          2233,
          427,
          2163,
          1871,
          1241,
          1269,
          1507,
          2156,
          1931,
          2255,
          1733,
          1724,
          1558,
          1879,
          2589,
          1620,
          2213,
          1505,
          1123,
          1300,
          1869,
          2168,
          762,
          2451,
          1726,
          1784,
          2449,
          633,
          2401,
          1529,
          1508,
          1708,
          2020,
          2382,
          791,
          195,
          177,
          1785,
          1528,
          1284,
          1304,
          2068,
          1840,
          1858,
          1595,
          1460,
          1457,
          2183,
          2198,
          1909,
          2000,
          1510,
          1482,
          1852,
          1368,
          1803,
          734,
          828,
          2198,
          1447,
          1740,
          1865,
          1866,
          2344,
          386,
          1913,
          1776,
          1263,
          1501,
          1405,
          2024,
          1984,
          2393,
          1846,
          1568,
          1225,
          1887,
          2553,
          1608,
          1791,
          1624,
          1407,
          1509,
          1460,
          2019,
          767,
          2366,
          1761,
          1426,
          2709,
          576,
          1684,
          1668,
          1544,
          1614,
          2025,
          2491,
          780,
          195,
          92,
          1717,
          2116,
          1468,
          1267,
          2080,
          1597,
          2050,
          1858,
          1347,
          1319,
          1706,
          2326,
          1694,
          2019,
          1259,
          1386,
          1480,
          1313,
          2131,
          689,
          493,
          1783,
          1576,
          1572,
          1437,
          2145,
          2043,
          355,
          1769,
          2040,
          1483,
          1134,
          1468,
          1666,
          1966,
          2182,
          1902,
          1861,
          1825,
          1605,
          1941,
          2045,
          1856,
          1448,
          1580,
          1382,
          1526,
          1529,
          339,
          2346,
          1887,
          1567,
          2122,
          504,
          1705,
          1418,
          1410,
          1477,
          1928,
          2627,
          719,
          169,
          79,
          1554,
          1653,
          1568,
          1163,
          1438,
          1909,
          1920,
          1611,
          1568,
          2122,
          1854,
          1809,
          1696,
          1807,
          1339,
          1350,
          1449,
          2111,
          523,
          566,
          1584,
          1767,
          1322,
          1138,
          2064,
          1973,
          283,
          1877,
          1858,
          1520,
          1723,
          1477,
          1699,
          1907,
          2415,
          1639,
          1477,
          1587,
          1554,
          1737,
          1844,
          1550,
          1620,
          1422,
          1327,
          1652,
          2029,
          442,
          2369,
          1907,
          1861,
          1896,
          1677,
          1741,
          704,
          169,
          79,
          2175,
          2118,
          1421,
          1233,
          1756,
          2153,
          1439,
          1417,
          1176,
          1365,
          1689,
          1632,
          1985,
          1587,
          1356,
          1350,
          1882,
          1683,
          1509,
          1669,
          1975,
          1836,
          1768,
          1241,
          1556,
          1506,
          2097,
          570,
          1710,
          1652,
          1628,
          1145,
          1529,
          1513,
          1803,
          1759,
          892,
          1048,
          981,
          1689,
          1409,
          1516,
          2391,
          2118,
          1815,
          1347,
          1604,
          1633,
          1394,
          1259,
          2156,
          2143,
          1271,
          1457,
          1931,
          1470,
          1479,
          1874,
          711,
          169,
          75,
          1884,
          1790,
          1370,
          1386,
          1932,
          1727,
          497,
          1757,
          2056,
          2297,
          2186,
          1985,
          1589,
          1649,
          1665,
          1909,
          1550,
          1318,
          1903,
          2055,
          1505,
          1446,
          1665,
          1314,
          1570,
          1891,
          396,
          2129,
          2199,
          2119,
          1607,
          1270,
          1880,
          544,
          1658,
          1303,
          1476,
          1690,
          1592,
          1607,
          2090,
          2022,
          1821,
          1510,
          1958,
          1522,
          1371,
          1961,
          2475,
          1683,
          1529,
          1837,
          1510,
          1367,
          1604,
          717,
          168,
          81,
          1301,
          1586,
          2077,
          1559,
          1900,
          1819,
          410,
          1495,
          1462,
          2000,
          1565,
          1872,
          1987,
          2170,
          1296,
          1294,
          2200,
          1807,
          1357,
          2108,
          2114,
          1841,
          1974,
          1807,
          2221,
          1751,
          510,
          2164,
          1475,
          2079,
          1887,
          1531,
          2122,
          1659,
          1277,
          2081,
          1783,
          1587,
          2520,
          1536,
          1589,
          1103,
          1838,
          1135,
          1464,
          1246,
          2141,
          1040,
          1663,
          1328,
          1174,
          2096,
          1378,
          1885,
          781,
          164,
          1948,
          1533,
          1597,
          1442,
          1764,
          1829,
          1560,
          1387,
          1384,
          1216,
          2185,
          1984,
          2207,
          584,
          764,
          241,
          1681,
          1965,
          1778,
          1619,
          2004,
          607,
          721,
          2048,
          1625,
          1467,
          1912,
          1848,
          1894,
          482,
          2112,
          1767,
          1964,
          1947,
          1663,
          1999,
          1761,
          1629,
          1676,
          1849,
          1836,
          1705,
          2037,
          1497,
          1594,
          1656,
          1818,
          1410,
          2087,
          793,
          1917,
          1581,
          2148,
          1943,
          1809,
          2246,
          625,
          166,
          1724,
          1445,
          1863,
          1494,
          1573,
          1670,
          1843,
          1681,
          2071,
          2167,
          1757,
          1930,
          1983,
          1342,
          1956,
          1846,
          1341,
          1870,
          702
         ]
        }
       ],
       "layout": {
        "plot_bgcolor": "white",
        "template": {
         "data": {
          "bar": [
           {
            "error_x": {
             "color": "#2a3f5f"
            },
            "error_y": {
             "color": "#2a3f5f"
            },
            "marker": {
             "line": {
              "color": "#E5ECF6",
              "width": 0.5
             }
            },
            "type": "bar"
           }
          ],
          "barpolar": [
           {
            "marker": {
             "line": {
              "color": "#E5ECF6",
              "width": 0.5
             }
            },
            "type": "barpolar"
           }
          ],
          "carpet": [
           {
            "aaxis": {
             "endlinecolor": "#2a3f5f",
             "gridcolor": "white",
             "linecolor": "white",
             "minorgridcolor": "white",
             "startlinecolor": "#2a3f5f"
            },
            "baxis": {
             "endlinecolor": "#2a3f5f",
             "gridcolor": "white",
             "linecolor": "white",
             "minorgridcolor": "white",
             "startlinecolor": "#2a3f5f"
            },
            "type": "carpet"
           }
          ],
          "choropleth": [
           {
            "colorbar": {
             "outlinewidth": 0,
             "ticks": ""
            },
            "type": "choropleth"
           }
          ],
          "contour": [
           {
            "colorbar": {
             "outlinewidth": 0,
             "ticks": ""
            },
            "colorscale": [
             [
              0,
              "#0d0887"
             ],
             [
              0.1111111111111111,
              "#46039f"
             ],
             [
              0.2222222222222222,
              "#7201a8"
             ],
             [
              0.3333333333333333,
              "#9c179e"
             ],
             [
              0.4444444444444444,
              "#bd3786"
             ],
             [
              0.5555555555555556,
              "#d8576b"
             ],
             [
              0.6666666666666666,
              "#ed7953"
             ],
             [
              0.7777777777777778,
              "#fb9f3a"
             ],
             [
              0.8888888888888888,
              "#fdca26"
             ],
             [
              1,
              "#f0f921"
             ]
            ],
            "type": "contour"
           }
          ],
          "contourcarpet": [
           {
            "colorbar": {
             "outlinewidth": 0,
             "ticks": ""
            },
            "type": "contourcarpet"
           }
          ],
          "heatmap": [
           {
            "colorbar": {
             "outlinewidth": 0,
             "ticks": ""
            },
            "colorscale": [
             [
              0,
              "#0d0887"
             ],
             [
              0.1111111111111111,
              "#46039f"
             ],
             [
              0.2222222222222222,
              "#7201a8"
             ],
             [
              0.3333333333333333,
              "#9c179e"
             ],
             [
              0.4444444444444444,
              "#bd3786"
             ],
             [
              0.5555555555555556,
              "#d8576b"
             ],
             [
              0.6666666666666666,
              "#ed7953"
             ],
             [
              0.7777777777777778,
              "#fb9f3a"
             ],
             [
              0.8888888888888888,
              "#fdca26"
             ],
             [
              1,
              "#f0f921"
             ]
            ],
            "type": "heatmap"
           }
          ],
          "heatmapgl": [
           {
            "colorbar": {
             "outlinewidth": 0,
             "ticks": ""
            },
            "colorscale": [
             [
              0,
              "#0d0887"
             ],
             [
              0.1111111111111111,
              "#46039f"
             ],
             [
              0.2222222222222222,
              "#7201a8"
             ],
             [
              0.3333333333333333,
              "#9c179e"
             ],
             [
              0.4444444444444444,
              "#bd3786"
             ],
             [
              0.5555555555555556,
              "#d8576b"
             ],
             [
              0.6666666666666666,
              "#ed7953"
             ],
             [
              0.7777777777777778,
              "#fb9f3a"
             ],
             [
              0.8888888888888888,
              "#fdca26"
             ],
             [
              1,
              "#f0f921"
             ]
            ],
            "type": "heatmapgl"
           }
          ],
          "histogram": [
           {
            "marker": {
             "colorbar": {
              "outlinewidth": 0,
              "ticks": ""
             }
            },
            "type": "histogram"
           }
          ],
          "histogram2d": [
           {
            "colorbar": {
             "outlinewidth": 0,
             "ticks": ""
            },
            "colorscale": [
             [
              0,
              "#0d0887"
             ],
             [
              0.1111111111111111,
              "#46039f"
             ],
             [
              0.2222222222222222,
              "#7201a8"
             ],
             [
              0.3333333333333333,
              "#9c179e"
             ],
             [
              0.4444444444444444,
              "#bd3786"
             ],
             [
              0.5555555555555556,
              "#d8576b"
             ],
             [
              0.6666666666666666,
              "#ed7953"
             ],
             [
              0.7777777777777778,
              "#fb9f3a"
             ],
             [
              0.8888888888888888,
              "#fdca26"
             ],
             [
              1,
              "#f0f921"
             ]
            ],
            "type": "histogram2d"
           }
          ],
          "histogram2dcontour": [
           {
            "colorbar": {
             "outlinewidth": 0,
             "ticks": ""
            },
            "colorscale": [
             [
              0,
              "#0d0887"
             ],
             [
              0.1111111111111111,
              "#46039f"
             ],
             [
              0.2222222222222222,
              "#7201a8"
             ],
             [
              0.3333333333333333,
              "#9c179e"
             ],
             [
              0.4444444444444444,
              "#bd3786"
             ],
             [
              0.5555555555555556,
              "#d8576b"
             ],
             [
              0.6666666666666666,
              "#ed7953"
             ],
             [
              0.7777777777777778,
              "#fb9f3a"
             ],
             [
              0.8888888888888888,
              "#fdca26"
             ],
             [
              1,
              "#f0f921"
             ]
            ],
            "type": "histogram2dcontour"
           }
          ],
          "mesh3d": [
           {
            "colorbar": {
             "outlinewidth": 0,
             "ticks": ""
            },
            "type": "mesh3d"
           }
          ],
          "parcoords": [
           {
            "line": {
             "colorbar": {
              "outlinewidth": 0,
              "ticks": ""
             }
            },
            "type": "parcoords"
           }
          ],
          "scatter": [
           {
            "marker": {
             "colorbar": {
              "outlinewidth": 0,
              "ticks": ""
             }
            },
            "type": "scatter"
           }
          ],
          "scatter3d": [
           {
            "line": {
             "colorbar": {
              "outlinewidth": 0,
              "ticks": ""
             }
            },
            "marker": {
             "colorbar": {
              "outlinewidth": 0,
              "ticks": ""
             }
            },
            "type": "scatter3d"
           }
          ],
          "scattercarpet": [
           {
            "marker": {
             "colorbar": {
              "outlinewidth": 0,
              "ticks": ""
             }
            },
            "type": "scattercarpet"
           }
          ],
          "scattergeo": [
           {
            "marker": {
             "colorbar": {
              "outlinewidth": 0,
              "ticks": ""
             }
            },
            "type": "scattergeo"
           }
          ],
          "scattergl": [
           {
            "marker": {
             "colorbar": {
              "outlinewidth": 0,
              "ticks": ""
             }
            },
            "type": "scattergl"
           }
          ],
          "scattermapbox": [
           {
            "marker": {
             "colorbar": {
              "outlinewidth": 0,
              "ticks": ""
             }
            },
            "type": "scattermapbox"
           }
          ],
          "scatterpolar": [
           {
            "marker": {
             "colorbar": {
              "outlinewidth": 0,
              "ticks": ""
             }
            },
            "type": "scatterpolar"
           }
          ],
          "scatterpolargl": [
           {
            "marker": {
             "colorbar": {
              "outlinewidth": 0,
              "ticks": ""
             }
            },
            "type": "scatterpolargl"
           }
          ],
          "scatterternary": [
           {
            "marker": {
             "colorbar": {
              "outlinewidth": 0,
              "ticks": ""
             }
            },
            "type": "scatterternary"
           }
          ],
          "surface": [
           {
            "colorbar": {
             "outlinewidth": 0,
             "ticks": ""
            },
            "colorscale": [
             [
              0,
              "#0d0887"
             ],
             [
              0.1111111111111111,
              "#46039f"
             ],
             [
              0.2222222222222222,
              "#7201a8"
             ],
             [
              0.3333333333333333,
              "#9c179e"
             ],
             [
              0.4444444444444444,
              "#bd3786"
             ],
             [
              0.5555555555555556,
              "#d8576b"
             ],
             [
              0.6666666666666666,
              "#ed7953"
             ],
             [
              0.7777777777777778,
              "#fb9f3a"
             ],
             [
              0.8888888888888888,
              "#fdca26"
             ],
             [
              1,
              "#f0f921"
             ]
            ],
            "type": "surface"
           }
          ],
          "table": [
           {
            "cells": {
             "fill": {
              "color": "#EBF0F8"
             },
             "line": {
              "color": "white"
             }
            },
            "header": {
             "fill": {
              "color": "#C8D4E3"
             },
             "line": {
              "color": "white"
             }
            },
            "type": "table"
           }
          ]
         },
         "layout": {
          "annotationdefaults": {
           "arrowcolor": "#2a3f5f",
           "arrowhead": 0,
           "arrowwidth": 1
          },
          "colorscale": {
           "diverging": [
            [
             0,
             "#8e0152"
            ],
            [
             0.1,
             "#c51b7d"
            ],
            [
             0.2,
             "#de77ae"
            ],
            [
             0.3,
             "#f1b6da"
            ],
            [
             0.4,
             "#fde0ef"
            ],
            [
             0.5,
             "#f7f7f7"
            ],
            [
             0.6,
             "#e6f5d0"
            ],
            [
             0.7,
             "#b8e186"
            ],
            [
             0.8,
             "#7fbc41"
            ],
            [
             0.9,
             "#4d9221"
            ],
            [
             1,
             "#276419"
            ]
           ],
           "sequential": [
            [
             0,
             "#0d0887"
            ],
            [
             0.1111111111111111,
             "#46039f"
            ],
            [
             0.2222222222222222,
             "#7201a8"
            ],
            [
             0.3333333333333333,
             "#9c179e"
            ],
            [
             0.4444444444444444,
             "#bd3786"
            ],
            [
             0.5555555555555556,
             "#d8576b"
            ],
            [
             0.6666666666666666,
             "#ed7953"
            ],
            [
             0.7777777777777778,
             "#fb9f3a"
            ],
            [
             0.8888888888888888,
             "#fdca26"
            ],
            [
             1,
             "#f0f921"
            ]
           ],
           "sequentialminus": [
            [
             0,
             "#0d0887"
            ],
            [
             0.1111111111111111,
             "#46039f"
            ],
            [
             0.2222222222222222,
             "#7201a8"
            ],
            [
             0.3333333333333333,
             "#9c179e"
            ],
            [
             0.4444444444444444,
             "#bd3786"
            ],
            [
             0.5555555555555556,
             "#d8576b"
            ],
            [
             0.6666666666666666,
             "#ed7953"
            ],
            [
             0.7777777777777778,
             "#fb9f3a"
            ],
            [
             0.8888888888888888,
             "#fdca26"
            ],
            [
             1,
             "#f0f921"
            ]
           ]
          },
          "colorway": [
           "#636efa",
           "#EF553B",
           "#00cc96",
           "#ab63fa",
           "#FFA15A",
           "#19d3f3",
           "#FF6692",
           "#B6E880",
           "#FF97FF",
           "#FECB52"
          ],
          "font": {
           "color": "#2a3f5f"
          },
          "geo": {
           "bgcolor": "white",
           "lakecolor": "white",
           "landcolor": "#E5ECF6",
           "showlakes": true,
           "showland": true,
           "subunitcolor": "white"
          },
          "hoverlabel": {
           "align": "left"
          },
          "hovermode": "closest",
          "mapbox": {
           "style": "light"
          },
          "paper_bgcolor": "white",
          "plot_bgcolor": "#E5ECF6",
          "polar": {
           "angularaxis": {
            "gridcolor": "white",
            "linecolor": "white",
            "ticks": ""
           },
           "bgcolor": "#E5ECF6",
           "radialaxis": {
            "gridcolor": "white",
            "linecolor": "white",
            "ticks": ""
           }
          },
          "scene": {
           "xaxis": {
            "backgroundcolor": "#E5ECF6",
            "gridcolor": "white",
            "gridwidth": 2,
            "linecolor": "white",
            "showbackground": true,
            "ticks": "",
            "zerolinecolor": "white"
           },
           "yaxis": {
            "backgroundcolor": "#E5ECF6",
            "gridcolor": "white",
            "gridwidth": 2,
            "linecolor": "white",
            "showbackground": true,
            "ticks": "",
            "zerolinecolor": "white"
           },
           "zaxis": {
            "backgroundcolor": "#E5ECF6",
            "gridcolor": "white",
            "gridwidth": 2,
            "linecolor": "white",
            "showbackground": true,
            "ticks": "",
            "zerolinecolor": "white"
           }
          },
          "shapedefaults": {
           "line": {
            "color": "#2a3f5f"
           }
          },
          "ternary": {
           "aaxis": {
            "gridcolor": "white",
            "linecolor": "white",
            "ticks": ""
           },
           "baxis": {
            "gridcolor": "white",
            "linecolor": "white",
            "ticks": ""
           },
           "bgcolor": "#E5ECF6",
           "caxis": {
            "gridcolor": "white",
            "linecolor": "white",
            "ticks": ""
           }
          },
          "title": {
           "x": 0.05
          },
          "xaxis": {
           "automargin": true,
           "gridcolor": "white",
           "linecolor": "white",
           "ticks": "",
           "zerolinecolor": "white",
           "zerolinewidth": 2
          },
          "yaxis": {
           "automargin": true,
           "gridcolor": "white",
           "linecolor": "white",
           "ticks": "",
           "zerolinecolor": "white",
           "zerolinewidth": 2
          }
         }
        },
        "title": {
         "text": "Talk Length by Session Gender"
        },
        "xaxis": {
         "linecolor": "black",
         "linewidth": 1,
         "showline": true
        },
        "yaxis": {
         "linecolor": "black",
         "linewidth": 1,
         "showline": true
        }
       }
      },
      "text/html": [
       "<div>\n",
       "        \n",
       "        \n",
       "            <div id=\"3eb12f59-5d70-4baa-971a-f3ec1e09371e\" class=\"plotly-graph-div\" style=\"height:525px; width:100%;\"></div>\n",
       "            <script type=\"text/javascript\">\n",
       "                require([\"plotly\"], function(Plotly) {\n",
       "                    window.PLOTLYENV=window.PLOTLYENV || {};\n",
       "                    \n",
       "                if (document.getElementById(\"3eb12f59-5d70-4baa-971a-f3ec1e09371e\")) {\n",
       "                    Plotly.newPlot(\n",
       "                        '3eb12f59-5d70-4baa-971a-f3ec1e09371e',\n",
       "                        [{\"boxpoints\": \"all\", \"marker\": {\"color\": \"#7496D2\"}, \"name\": \"male\", \"type\": \"box\", \"y\": [1807, 1049, 921, 1128, 2079, 2312, 2500, 2456, 1750, 1227, 2254, 2400, 2469, 1827, 1609, 1790, 2138, 2233, 2449, 2060, 1403, 1379, 2286, 2300, 2840, 2554, 1593, 1450, 2141, 2117, 2225, 2466, 1446, 1060, 1015, 2237, 2158, 2689, 2312, 1496, 1562, 2087, 2281, 2486, 2224, 2317, 2240, 2341, 2535, 2036, 1353, 1368, 2156, 2354, 2316, 1711, 1352, 1573, 2190, 2399, 2130, 1530, 1607, 1487, 1938, 2339, 2037, 2318, 1429, 1453, 2171, 2306, 2341, 1791, 1247, 1649, 1815, 2299, 2425, 2251, 1414, 1415, 2122, 2377, 2022, 2269, 1453, 1150, 2057, 2768, 2252, 2227, 1736, 1469, 1421, 1985, 2455, 1672, 2074, 2120, 1524, 1931, 2319, 1813, 1970, 1339, 1351, 1251, 2465, 1807, 1380, 2148, 1153, 1356, 1030, 2252, 2455, 2246, 1949, 1446, 1655, 2085, 2349, 2744, 2283, 1476, 1450, 2076, 2539, 2355, 2104, 1412, 1512, 2040, 2409, 2217, 2291, 1673, 1535, 2033, 2450, 2279, 1827, 1630, 1243, 2152, 2617, 2179, 1946, 1604, 1685, 2058, 2530, 2655, 1906, 1537, 1920, 2118, 2541, 2704, 2178, 1554, 1596, 2162, 2409, 2233, 2283, 1539, 1487, 2075, 2730, 2588, 1741, 1835, 1475, 2162, 2375, 2153, 1723, 1688, 1596, 1864, 2183, 2010, 1928, 1515, 1388, 1961, 2168, 1815, 2131, 1808, 1653, 1915, 2292, 1642, 1847, 1675, 1594, 1922, 2443, 1583, 1878, 1277, 1947, 2056, 1559, 1722, 1560, 1898, 2281, 484, 1706, 1929, 1994, 2204, 516, 405, 2044, 1721, 2080, 2572, 1855, 1664, 1658, 2009, 2313, 1570, 422, 1670, 1682, 2229, 1902, 1626, 2226, 1437, 1409, 1472, 1374, 1585]}, {\"boxpoints\": \"all\", \"marker\": {\"color\": \"#E6A2C5\"}, \"name\": \"female\", \"type\": \"box\", \"y\": [1563, 1731, 2133, 2028, 1666, 1497, 1909, 2102, 1750, 1690, 2128, 2853, 1608, 1558, 1935, 2359, 1764, 1376, 1436, 2079, 1974, 1600, 1643, 2322, 1892, 1456, 1505, 2311, 1799, 1682, 1624, 2273, 2172, 1786, 1680, 1501, 1852, 1484, 1710, 1898, 1675, 1890, 2227, 2739, 1864, 1921, 2046, 2451, 1739, 1757, 2174, 2725, 1606, 1777, 2023, 2333, 1570, 1894, 1957, 2812, 1425, 1759, 1488, 2256, 1598, 1734, 1671, 2216, 1400, 1342, 1739, 2243, 1380, 1325, 1532, 2545, 1404, 1372, 1519, 1811, 1826, 1682, 1919, 2213, 1595, 1557, 1601, 1930, 2184, 1528, 1554, 2688, 1491, 1670, 1382, 1750, 1566, 1729]}, {\"boxpoints\": \"all\", \"marker\": {\"color\": \"#C7CEF6\"}, \"name\": \"male and female\", \"type\": \"box\", \"y\": [890, 2303, 2041, 2022, 2057, 2217, 409, 363, 181, 1817, 1916, 1464, 1470, 2579, 2608, 2342, 1992, 1579, 1738, 1832, 2460, 2596, 2324, 1743, 1644, 1547, 2190, 975, 5619, 901, 1927, 1907, 1445, 2131, 1583, 2420, 501, 1857, 1926, 1065, 1230, 1214, 2593, 2108, 2137, 2136, 1378, 1751, 1826, 2289, 2132, 2372, 1338, 1214, 1445, 2113, 1302, 2081, 1939, 2056, 2739, 1786, 2005, 1413, 1676, 2315, 2258, 571, 335, 124, 2014, 1215, 1100, 1681, 2142, 1725, 2212, 2197, 1311, 1217, 2424, 2312, 1984, 2309, 1391, 1337, 1361, 1963, 949, 230, 2613, 1945, 700, 632, 1624, 1915, 2003, 586, 2287, 1860, 1038, 1138, 998, 2416, 1997, 2040, 1979, 1221, 2011, 3738, 2305, 2128, 1157, 1122, 1107, 1417, 2401, 810, 2303, 1802, 2062, 2937, 1277, 2180, 1773, 1764, 2126, 2389, 485, 485, 104, 2005, 2265, 1071, 1846, 1785, 2178, 2324, 1947, 1342, 1364, 2071, 2089, 2256, 2316, 1381, 1539, 1254, 2485, 673, 1458, 2379, 1696, 1673, 2367, 2209, 633, 2116, 2365, 1310, 950, 1015, 1948, 2299, 2233, 2027, 1445, 1424, 1857, 2411, 2316, 2066, 1308, 1295, 1541, 2024, 1100, 1871, 1868, 1926, 2240, 1885, 2157, 1661, 1300, 2339, 2411, 539, 310, 168, 1699, 2354, 1264, 1006, 2171, 1879, 2215, 1978, 1354, 1684, 2159, 1998, 1831, 1048, 1340, 1234, 657, 675, 249, 2311, 1138, 1422, 2148, 1396, 1657, 1831, 2327, 726, 1536, 2492, 1726, 1398, 2047, 1797, 2184, 2358, 1334, 1164, 2294, 2336, 2573, 2063, 1754, 1643, 1688, 1481, 861, 1706, 1357, 1139, 2993, 1228, 1549, 1675, 1469, 2257, 2418, 612, 340, 175, 2194, 2445, 1065, 1001, 2209, 1995, 2074, 1453, 1283, 1396, 1827, 2352, 2074, 2095, 1014, 1050, 1844, 2416, 700, 988, 878, 1197, 1920, 1815, 1502, 1812, 1276, 2117, 2218, 509, 2084, 2352, 1477, 1766, 2430, 1751, 2105, 1789, 1421, 1499, 2310, 2254, 2110, 2579, 1200, 1204, 1573, 1840, 762, 1620, 1363, 1249, 2210, 697, 381, 2396, 1726, 1607, 2405, 2317, 715, 358, 107, 1740, 1875, 1486, 1311, 1441, 2278, 2054, 2169, 1308, 1224, 2186, 2205, 2219, 2466, 1593, 1371, 1786, 1955, 571, 1060, 2003, 1825, 1825, 1984, 2160, 520, 2144, 2335, 1252, 1473, 1281, 1662, 2243, 2048, 2359, 1433, 1449, 1773, 2212, 2011, 1813, 1963, 1780, 1933, 2220, 884, 1538, 1466, 1165, 2298, 1147, 2500, 1801, 1794, 1730, 2373, 740, 202, 283, 1937, 1811, 1186, 1497, 1828, 2269, 1834, 2029, 1539, 1679, 2405, 2220, 2200, 2344, 1844, 1314, 1622, 2247, 744, 925, 2314, 1707, 1959, 2236, 2001, 490, 2273, 1980, 993, 1294, 1288, 2356, 2193, 2136, 2050, 1561, 1212, 2005, 2170, 1766, 2369, 1068, 1296, 1173, 1225, 2233, 625, 1772, 1314, 1313, 2524, 2388, 1743, 1568, 2670, 2227, 508, 211, 139, 2217, 2171, 1432, 1086, 1553, 2219, 2010, 1962, 1473, 1275, 2418, 2020, 2206, 2066, 1974, 1611, 1736, 2163, 173, 482, 2220, 1171, 1152, 1088, 1198, 2051, 2036, 407, 2144, 2041, 1183, 1111, 1294, 2080, 1693, 1966, 2106, 1165, 1156, 1216, 1621, 1998, 2115, 2110, 1190, 1287, 1466, 1434, 1375, 1815, 238, 1790, 1411, 1233, 2290, 759, 211, 145, 1923, 1048, 1147, 1837, 2067, 1966, 2099, 1298, 1380, 1177, 1249, 1006, 1250, 988, 1777, 2120, 1124, 1200, 1104, 1929, 1628, 2106, 2206, 1260, 1734, 1092, 1998, 1718, 234, 503, 2315, 1168, 1350, 1155, 1269, 1999, 2078, 1946, 2058, 951, 1236, 1040, 1192, 1656, 1771, 2304, 2345, 1349, 1173, 993, 2091, 2021, 2022, 1780, 1354, 1370, 1143, 1271, 1381, 1961, 173, 2268, 1500, 1483, 2562, 1593, 1697, 1144, 1240, 1142, 2007, 2696, 197, 180, 2076, 1785, 1291, 1272, 1611, 2111, 1872, 2172, 2271, 1076, 1297, 2390, 2480, 1991, 2036, 1109, 1107, 1175, 1186, 1392, 2027, 1162, 933, 1971, 1512, 1277, 1447, 2123, 2154, 387, 1934, 1939, 1589, 1428, 2404, 2141, 2377, 2103, 1461, 1507, 2082, 2511, 2126, 1657, 1402, 1259, 1249, 2353, 758, 2234, 1502, 1510, 2548, 994, 2071, 1515, 1553, 1433, 2276, 2714, 915, 191, 165, 1924, 2202, 1395, 1151, 1868, 1830, 2127, 1661, 1561, 1373, 1797, 2524, 2171, 2233, 1448, 1247, 1610, 2108, 1240, 633, 1995, 1387, 1555, 1578, 2073, 2047, 332, 2014, 1941, 1192, 1652, 1168, 1861, 2414, 2273, 1980, 1380, 1626, 1555, 2075, 1800, 2186, 1399, 1472, 1733, 1232, 2064, 713, 2947, 1756, 1960, 3073, 721, 2531, 1511, 1490, 1437, 2144, 2593, 719, 187, 221, 1910, 2238, 1113, 1336, 2094, 1750, 2019, 1731, 1414, 1599, 2196, 2493, 1658, 1930, 1470, 1464, 1491, 1456, 1903, 783, 677, 1795, 1302, 1479, 1478, 2221, 2155, 365, 2053, 2183, 1288, 1344, 1122, 1882, 2309, 2322, 2089, 1419, 1701, 2157, 2586, 2016, 2080, 1592, 1286, 1317, 1525, 1964, 726, 2217, 1890, 2209, 631, 1858, 1573, 1344, 1389, 2400, 2693, 587, 209, 242, 2145, 1634, 1474, 1479, 1968, 1973, 2019, 1446, 1622, 1552, 2142, 2453, 1896, 2206, 1495, 1711, 1202, 1547, 1871, 646, 1870, 1424, 1507, 723, 1160, 2099, 2233, 427, 2163, 1871, 1241, 1269, 1507, 2156, 1931, 2255, 1733, 1724, 1558, 1879, 2589, 1620, 2213, 1505, 1123, 1300, 1869, 2168, 762, 2451, 1726, 1784, 2449, 633, 2401, 1529, 1508, 1708, 2020, 2382, 791, 195, 177, 1785, 1528, 1284, 1304, 2068, 1840, 1858, 1595, 1460, 1457, 2183, 2198, 1909, 2000, 1510, 1482, 1852, 1368, 1803, 734, 828, 2198, 1447, 1740, 1865, 1866, 2344, 386, 1913, 1776, 1263, 1501, 1405, 2024, 1984, 2393, 1846, 1568, 1225, 1887, 2553, 1608, 1791, 1624, 1407, 1509, 1460, 2019, 767, 2366, 1761, 1426, 2709, 576, 1684, 1668, 1544, 1614, 2025, 2491, 780, 195, 92, 1717, 2116, 1468, 1267, 2080, 1597, 2050, 1858, 1347, 1319, 1706, 2326, 1694, 2019, 1259, 1386, 1480, 1313, 2131, 689, 493, 1783, 1576, 1572, 1437, 2145, 2043, 355, 1769, 2040, 1483, 1134, 1468, 1666, 1966, 2182, 1902, 1861, 1825, 1605, 1941, 2045, 1856, 1448, 1580, 1382, 1526, 1529, 339, 2346, 1887, 1567, 2122, 504, 1705, 1418, 1410, 1477, 1928, 2627, 719, 169, 79, 1554, 1653, 1568, 1163, 1438, 1909, 1920, 1611, 1568, 2122, 1854, 1809, 1696, 1807, 1339, 1350, 1449, 2111, 523, 566, 1584, 1767, 1322, 1138, 2064, 1973, 283, 1877, 1858, 1520, 1723, 1477, 1699, 1907, 2415, 1639, 1477, 1587, 1554, 1737, 1844, 1550, 1620, 1422, 1327, 1652, 2029, 442, 2369, 1907, 1861, 1896, 1677, 1741, 704, 169, 79, 2175, 2118, 1421, 1233, 1756, 2153, 1439, 1417, 1176, 1365, 1689, 1632, 1985, 1587, 1356, 1350, 1882, 1683, 1509, 1669, 1975, 1836, 1768, 1241, 1556, 1506, 2097, 570, 1710, 1652, 1628, 1145, 1529, 1513, 1803, 1759, 892, 1048, 981, 1689, 1409, 1516, 2391, 2118, 1815, 1347, 1604, 1633, 1394, 1259, 2156, 2143, 1271, 1457, 1931, 1470, 1479, 1874, 711, 169, 75, 1884, 1790, 1370, 1386, 1932, 1727, 497, 1757, 2056, 2297, 2186, 1985, 1589, 1649, 1665, 1909, 1550, 1318, 1903, 2055, 1505, 1446, 1665, 1314, 1570, 1891, 396, 2129, 2199, 2119, 1607, 1270, 1880, 544, 1658, 1303, 1476, 1690, 1592, 1607, 2090, 2022, 1821, 1510, 1958, 1522, 1371, 1961, 2475, 1683, 1529, 1837, 1510, 1367, 1604, 717, 168, 81, 1301, 1586, 2077, 1559, 1900, 1819, 410, 1495, 1462, 2000, 1565, 1872, 1987, 2170, 1296, 1294, 2200, 1807, 1357, 2108, 2114, 1841, 1974, 1807, 2221, 1751, 510, 2164, 1475, 2079, 1887, 1531, 2122, 1659, 1277, 2081, 1783, 1587, 2520, 1536, 1589, 1103, 1838, 1135, 1464, 1246, 2141, 1040, 1663, 1328, 1174, 2096, 1378, 1885, 781, 164, 1948, 1533, 1597, 1442, 1764, 1829, 1560, 1387, 1384, 1216, 2185, 1984, 2207, 584, 764, 241, 1681, 1965, 1778, 1619, 2004, 607, 721, 2048, 1625, 1467, 1912, 1848, 1894, 482, 2112, 1767, 1964, 1947, 1663, 1999, 1761, 1629, 1676, 1849, 1836, 1705, 2037, 1497, 1594, 1656, 1818, 1410, 2087, 793, 1917, 1581, 2148, 1943, 1809, 2246, 625, 166, 1724, 1445, 1863, 1494, 1573, 1670, 1843, 1681, 2071, 2167, 1757, 1930, 1983, 1342, 1956, 1846, 1341, 1870, 702]}],\n",
       "                        {\"plot_bgcolor\": \"white\", \"template\": {\"data\": {\"bar\": [{\"error_x\": {\"color\": \"#2a3f5f\"}, \"error_y\": {\"color\": \"#2a3f5f\"}, \"marker\": {\"line\": {\"color\": \"#E5ECF6\", \"width\": 0.5}}, \"type\": \"bar\"}], \"barpolar\": [{\"marker\": {\"line\": {\"color\": \"#E5ECF6\", \"width\": 0.5}}, \"type\": \"barpolar\"}], \"carpet\": [{\"aaxis\": {\"endlinecolor\": \"#2a3f5f\", \"gridcolor\": \"white\", \"linecolor\": \"white\", \"minorgridcolor\": \"white\", \"startlinecolor\": \"#2a3f5f\"}, \"baxis\": {\"endlinecolor\": \"#2a3f5f\", \"gridcolor\": \"white\", \"linecolor\": \"white\", \"minorgridcolor\": \"white\", \"startlinecolor\": \"#2a3f5f\"}, \"type\": \"carpet\"}], \"choropleth\": [{\"colorbar\": {\"outlinewidth\": 0, \"ticks\": \"\"}, \"type\": \"choropleth\"}], \"contour\": [{\"colorbar\": {\"outlinewidth\": 0, \"ticks\": \"\"}, \"colorscale\": [[0.0, \"#0d0887\"], [0.1111111111111111, \"#46039f\"], [0.2222222222222222, \"#7201a8\"], [0.3333333333333333, \"#9c179e\"], [0.4444444444444444, \"#bd3786\"], [0.5555555555555556, \"#d8576b\"], [0.6666666666666666, \"#ed7953\"], [0.7777777777777778, \"#fb9f3a\"], [0.8888888888888888, \"#fdca26\"], [1.0, \"#f0f921\"]], \"type\": \"contour\"}], \"contourcarpet\": [{\"colorbar\": {\"outlinewidth\": 0, \"ticks\": \"\"}, \"type\": \"contourcarpet\"}], \"heatmap\": [{\"colorbar\": {\"outlinewidth\": 0, \"ticks\": \"\"}, \"colorscale\": [[0.0, \"#0d0887\"], [0.1111111111111111, \"#46039f\"], [0.2222222222222222, \"#7201a8\"], [0.3333333333333333, \"#9c179e\"], [0.4444444444444444, \"#bd3786\"], [0.5555555555555556, \"#d8576b\"], [0.6666666666666666, \"#ed7953\"], [0.7777777777777778, \"#fb9f3a\"], [0.8888888888888888, \"#fdca26\"], [1.0, \"#f0f921\"]], \"type\": \"heatmap\"}], \"heatmapgl\": [{\"colorbar\": {\"outlinewidth\": 0, \"ticks\": \"\"}, \"colorscale\": [[0.0, \"#0d0887\"], [0.1111111111111111, \"#46039f\"], [0.2222222222222222, \"#7201a8\"], [0.3333333333333333, \"#9c179e\"], [0.4444444444444444, \"#bd3786\"], [0.5555555555555556, \"#d8576b\"], [0.6666666666666666, \"#ed7953\"], [0.7777777777777778, \"#fb9f3a\"], [0.8888888888888888, \"#fdca26\"], [1.0, \"#f0f921\"]], \"type\": \"heatmapgl\"}], \"histogram\": [{\"marker\": {\"colorbar\": {\"outlinewidth\": 0, \"ticks\": \"\"}}, \"type\": \"histogram\"}], \"histogram2d\": [{\"colorbar\": {\"outlinewidth\": 0, \"ticks\": \"\"}, \"colorscale\": [[0.0, \"#0d0887\"], [0.1111111111111111, \"#46039f\"], [0.2222222222222222, \"#7201a8\"], [0.3333333333333333, \"#9c179e\"], [0.4444444444444444, \"#bd3786\"], [0.5555555555555556, \"#d8576b\"], [0.6666666666666666, \"#ed7953\"], [0.7777777777777778, \"#fb9f3a\"], [0.8888888888888888, \"#fdca26\"], [1.0, \"#f0f921\"]], \"type\": \"histogram2d\"}], \"histogram2dcontour\": [{\"colorbar\": {\"outlinewidth\": 0, \"ticks\": \"\"}, \"colorscale\": [[0.0, \"#0d0887\"], [0.1111111111111111, \"#46039f\"], [0.2222222222222222, \"#7201a8\"], [0.3333333333333333, \"#9c179e\"], [0.4444444444444444, \"#bd3786\"], [0.5555555555555556, \"#d8576b\"], [0.6666666666666666, \"#ed7953\"], [0.7777777777777778, \"#fb9f3a\"], [0.8888888888888888, \"#fdca26\"], [1.0, \"#f0f921\"]], \"type\": \"histogram2dcontour\"}], \"mesh3d\": [{\"colorbar\": {\"outlinewidth\": 0, \"ticks\": \"\"}, \"type\": \"mesh3d\"}], \"parcoords\": [{\"line\": {\"colorbar\": {\"outlinewidth\": 0, \"ticks\": \"\"}}, \"type\": \"parcoords\"}], \"scatter\": [{\"marker\": {\"colorbar\": {\"outlinewidth\": 0, \"ticks\": \"\"}}, \"type\": \"scatter\"}], \"scatter3d\": [{\"line\": {\"colorbar\": {\"outlinewidth\": 0, \"ticks\": \"\"}}, \"marker\": {\"colorbar\": {\"outlinewidth\": 0, \"ticks\": \"\"}}, \"type\": \"scatter3d\"}], \"scattercarpet\": [{\"marker\": {\"colorbar\": {\"outlinewidth\": 0, \"ticks\": \"\"}}, \"type\": \"scattercarpet\"}], \"scattergeo\": [{\"marker\": {\"colorbar\": {\"outlinewidth\": 0, \"ticks\": \"\"}}, \"type\": \"scattergeo\"}], \"scattergl\": [{\"marker\": {\"colorbar\": {\"outlinewidth\": 0, \"ticks\": \"\"}}, \"type\": \"scattergl\"}], \"scattermapbox\": [{\"marker\": {\"colorbar\": {\"outlinewidth\": 0, \"ticks\": \"\"}}, \"type\": \"scattermapbox\"}], \"scatterpolar\": [{\"marker\": {\"colorbar\": {\"outlinewidth\": 0, \"ticks\": \"\"}}, \"type\": \"scatterpolar\"}], \"scatterpolargl\": [{\"marker\": {\"colorbar\": {\"outlinewidth\": 0, \"ticks\": \"\"}}, \"type\": \"scatterpolargl\"}], \"scatterternary\": [{\"marker\": {\"colorbar\": {\"outlinewidth\": 0, \"ticks\": \"\"}}, \"type\": \"scatterternary\"}], \"surface\": [{\"colorbar\": {\"outlinewidth\": 0, \"ticks\": \"\"}, \"colorscale\": [[0.0, \"#0d0887\"], [0.1111111111111111, \"#46039f\"], [0.2222222222222222, \"#7201a8\"], [0.3333333333333333, \"#9c179e\"], [0.4444444444444444, \"#bd3786\"], [0.5555555555555556, \"#d8576b\"], [0.6666666666666666, \"#ed7953\"], [0.7777777777777778, \"#fb9f3a\"], [0.8888888888888888, \"#fdca26\"], [1.0, \"#f0f921\"]], \"type\": \"surface\"}], \"table\": [{\"cells\": {\"fill\": {\"color\": \"#EBF0F8\"}, \"line\": {\"color\": \"white\"}}, \"header\": {\"fill\": {\"color\": \"#C8D4E3\"}, \"line\": {\"color\": \"white\"}}, \"type\": \"table\"}]}, \"layout\": {\"annotationdefaults\": {\"arrowcolor\": \"#2a3f5f\", \"arrowhead\": 0, \"arrowwidth\": 1}, \"colorscale\": {\"diverging\": [[0, \"#8e0152\"], [0.1, \"#c51b7d\"], [0.2, \"#de77ae\"], [0.3, \"#f1b6da\"], [0.4, \"#fde0ef\"], [0.5, \"#f7f7f7\"], [0.6, \"#e6f5d0\"], [0.7, \"#b8e186\"], [0.8, \"#7fbc41\"], [0.9, \"#4d9221\"], [1, \"#276419\"]], \"sequential\": [[0.0, \"#0d0887\"], [0.1111111111111111, \"#46039f\"], [0.2222222222222222, \"#7201a8\"], [0.3333333333333333, \"#9c179e\"], [0.4444444444444444, \"#bd3786\"], [0.5555555555555556, \"#d8576b\"], [0.6666666666666666, \"#ed7953\"], [0.7777777777777778, \"#fb9f3a\"], [0.8888888888888888, \"#fdca26\"], [1.0, \"#f0f921\"]], \"sequentialminus\": [[0.0, \"#0d0887\"], [0.1111111111111111, \"#46039f\"], [0.2222222222222222, \"#7201a8\"], [0.3333333333333333, \"#9c179e\"], [0.4444444444444444, \"#bd3786\"], [0.5555555555555556, \"#d8576b\"], [0.6666666666666666, \"#ed7953\"], [0.7777777777777778, \"#fb9f3a\"], [0.8888888888888888, \"#fdca26\"], [1.0, \"#f0f921\"]]}, \"colorway\": [\"#636efa\", \"#EF553B\", \"#00cc96\", \"#ab63fa\", \"#FFA15A\", \"#19d3f3\", \"#FF6692\", \"#B6E880\", \"#FF97FF\", \"#FECB52\"], \"font\": {\"color\": \"#2a3f5f\"}, \"geo\": {\"bgcolor\": \"white\", \"lakecolor\": \"white\", \"landcolor\": \"#E5ECF6\", \"showlakes\": true, \"showland\": true, \"subunitcolor\": \"white\"}, \"hoverlabel\": {\"align\": \"left\"}, \"hovermode\": \"closest\", \"mapbox\": {\"style\": \"light\"}, \"paper_bgcolor\": \"white\", \"plot_bgcolor\": \"#E5ECF6\", \"polar\": {\"angularaxis\": {\"gridcolor\": \"white\", \"linecolor\": \"white\", \"ticks\": \"\"}, \"bgcolor\": \"#E5ECF6\", \"radialaxis\": {\"gridcolor\": \"white\", \"linecolor\": \"white\", \"ticks\": \"\"}}, \"scene\": {\"xaxis\": {\"backgroundcolor\": \"#E5ECF6\", \"gridcolor\": \"white\", \"gridwidth\": 2, \"linecolor\": \"white\", \"showbackground\": true, \"ticks\": \"\", \"zerolinecolor\": \"white\"}, \"yaxis\": {\"backgroundcolor\": \"#E5ECF6\", \"gridcolor\": \"white\", \"gridwidth\": 2, \"linecolor\": \"white\", \"showbackground\": true, \"ticks\": \"\", \"zerolinecolor\": \"white\"}, \"zaxis\": {\"backgroundcolor\": \"#E5ECF6\", \"gridcolor\": \"white\", \"gridwidth\": 2, \"linecolor\": \"white\", \"showbackground\": true, \"ticks\": \"\", \"zerolinecolor\": \"white\"}}, \"shapedefaults\": {\"line\": {\"color\": \"#2a3f5f\"}}, \"ternary\": {\"aaxis\": {\"gridcolor\": \"white\", \"linecolor\": \"white\", \"ticks\": \"\"}, \"baxis\": {\"gridcolor\": \"white\", \"linecolor\": \"white\", \"ticks\": \"\"}, \"bgcolor\": \"#E5ECF6\", \"caxis\": {\"gridcolor\": \"white\", \"linecolor\": \"white\", \"ticks\": \"\"}}, \"title\": {\"x\": 0.05}, \"xaxis\": {\"automargin\": true, \"gridcolor\": \"white\", \"linecolor\": \"white\", \"ticks\": \"\", \"zerolinecolor\": \"white\", \"zerolinewidth\": 2}, \"yaxis\": {\"automargin\": true, \"gridcolor\": \"white\", \"linecolor\": \"white\", \"ticks\": \"\", \"zerolinecolor\": \"white\", \"zerolinewidth\": 2}}}, \"title\": {\"text\": \"Talk Length by Session Gender\"}, \"xaxis\": {\"linecolor\": \"black\", \"linewidth\": 1, \"showline\": true}, \"yaxis\": {\"linecolor\": \"black\", \"linewidth\": 1, \"showline\": true}},\n",
       "                        {\"responsive\": true}\n",
       "                    ).then(function(){\n",
       "                            \n",
       "var gd = document.getElementById('3eb12f59-5d70-4baa-971a-f3ec1e09371e');\n",
       "var x = new MutationObserver(function (mutations, observer) {{\n",
       "        var display = window.getComputedStyle(gd).display;\n",
       "        if (!display || display === 'none') {{\n",
       "            console.log([gd, 'removed!']);\n",
       "            Plotly.purge(gd);\n",
       "            observer.disconnect();\n",
       "        }}\n",
       "}});\n",
       "\n",
       "// Listen for the removal of the full notebook cells\n",
       "var notebookContainer = gd.closest('#notebook-container');\n",
       "if (notebookContainer) {{\n",
       "    x.observe(notebookContainer, {childList: true});\n",
       "}}\n",
       "\n",
       "// Listen for the clearing of the current output cell\n",
       "var outputEl = gd.closest('.output');\n",
       "if (outputEl) {{\n",
       "    x.observe(outputEl, {childList: true});\n",
       "}}\n",
       "\n",
       "                        })\n",
       "                };\n",
       "                });\n",
       "            </script>\n",
       "        </div>"
      ]
     },
     "metadata": {},
     "output_type": "display_data"
    }
   ],
   "source": [
    "fig4 = go.Figure()\n",
    "fig4.add_trace(go.Box(y = conf.loc[conf['session_gendered'] == 'male', 'word_count'],\n",
    "                     name = 'male',\n",
    "                     marker_color = '#7496D2',\n",
    "                     boxpoints = 'all'))\n",
    "\n",
    "fig4.add_trace(go.Box(y = conf.loc[conf['session_gendered'] == 'female', 'word_count'],\n",
    "                     name = 'female',\n",
    "                     marker_color = '#E6A2C5',\n",
    "                     boxpoints = 'all'))\n",
    "\n",
    "fig4.add_trace(go.Box(y = conf.loc[conf['session_gendered'] == 'male and female', 'word_count'],\n",
    "                     name = 'male and female',\n",
    "                     marker_color = '#C7CEF6',\n",
    "                     boxpoints = 'all'))\n",
    "\n",
    "fig4.update_layout(title = 'Talk Length by Session Gender',\n",
    "                  plot_bgcolor = 'white')\n",
    "\n",
    "fig4.update_xaxes(showline = True, linewidth = 1, linecolor = 'black')\n",
    "fig4.update_yaxes(showline = True, linewidth = 1, linecolor = 'black')"
   ]
  },
  {
   "cell_type": "markdown",
   "metadata": {},
   "source": [
    "There isn't much variation between session genders. Here are the medians for each:\n",
    "- males: 1948 words\n",
    "- females: 1750 words\n",
    "- males and females: 1686 words"
   ]
  },
  {
   "cell_type": "markdown",
   "metadata": {},
   "source": [
    "Finally, let's see how these gendered wordcounts vary over time."
   ]
  },
  {
   "cell_type": "code",
   "execution_count": 113,
   "metadata": {},
   "outputs": [],
   "source": [
    "# sumamrize word count by session_gendered and year\n",
    "df2 = pd.DataFrame(conf.groupby(['session_gendered', 'year'])['word_count'].mean())"
   ]
  },
  {
   "cell_type": "code",
   "execution_count": 126,
   "metadata": {},
   "outputs": [],
   "source": [
    "# take the index and set it as new columns so we can use these for our plot\n",
    "df2['gender'] = [i[0] for i in df2.index] \n",
    "df2['year'] = [j[1] for j in df2.index] "
   ]
  },
  {
   "cell_type": "markdown",
   "metadata": {},
   "source": [
    "Now we can make our plot"
   ]
  },
  {
   "cell_type": "code",
   "execution_count": 137,
   "metadata": {},
   "outputs": [
    {
     "data": {
      "application/vnd.plotly.v1+json": {
       "config": {
        "plotlyServerURL": "https://plot.ly"
       },
       "data": [
        {
         "line": {
          "color": "#7496D2"
         },
         "name": "male",
         "type": "scatter",
         "x": [
          1999,
          2000,
          2001,
          2002,
          2003,
          2004,
          2005,
          2006,
          2007,
          2008,
          2009,
          2010,
          2011,
          2012,
          2013,
          2014,
          2015,
          2016,
          2017,
          2018,
          1999,
          2000,
          2001,
          2002,
          2003,
          2004,
          2005,
          2006,
          2007,
          2008,
          2009,
          2010,
          2011,
          2012,
          2013,
          2014,
          2015,
          2016,
          2017,
          2018,
          2019,
          1999,
          2000,
          2001,
          2002,
          2003,
          2004,
          2005,
          2006,
          2007,
          2008,
          2009,
          2010,
          2011,
          2012,
          2013,
          2014,
          2015,
          2016,
          2017,
          2018,
          2019
         ],
         "y": [
          1873.2307692307693,
          2026.1666666666667,
          1934.6923076923076,
          2171,
          1911.5,
          1913,
          1902.25,
          1916.4615384615386,
          1795.6923076923076,
          1912.923076923077,
          1989.4166666666667,
          1992.4166666666667,
          2100.3333333333335,
          2069.5,
          1900.4166666666667,
          1851.3333333333333,
          1798.2727272727273,
          1629.4,
          1832.1,
          1585.857142857143,
          1583.8333333333333
         ]
        },
        {
         "line": {
          "color": "#E6A2C5"
         },
         "name": "female",
         "type": "scatter",
         "x": [
          1999,
          2000,
          2001,
          2002,
          2003,
          2004,
          2005,
          2006,
          2007,
          2008,
          2009,
          2010,
          2011,
          2012,
          2013,
          2014,
          2015,
          2016,
          2017,
          2018,
          1999,
          2000,
          2001,
          2002,
          2003,
          2004,
          2005,
          2006,
          2007,
          2008,
          2009,
          2010,
          2011,
          2012,
          2013,
          2014,
          2015,
          2016,
          2017,
          2018,
          2019,
          1999,
          2000,
          2001,
          2002,
          2003,
          2004,
          2005,
          2006,
          2007,
          2008,
          2009,
          2010,
          2011,
          2012,
          2013,
          2014,
          2015,
          2016,
          2017,
          2018,
          2019
         ],
         "y": [
          1863.75,
          1793.5,
          2105.25,
          1865,
          1663.75,
          1884.75,
          1791,
          1844.5,
          1784.75,
          1736,
          2132.75,
          2070.5,
          2098.75,
          1934.75,
          2058.25,
          1768.375,
          1688.25,
          1718.25,
          1829.625,
          1598
         ]
        }
       ],
       "layout": {
        "plot_bgcolor": "white",
        "template": {
         "data": {
          "bar": [
           {
            "error_x": {
             "color": "#2a3f5f"
            },
            "error_y": {
             "color": "#2a3f5f"
            },
            "marker": {
             "line": {
              "color": "#E5ECF6",
              "width": 0.5
             }
            },
            "type": "bar"
           }
          ],
          "barpolar": [
           {
            "marker": {
             "line": {
              "color": "#E5ECF6",
              "width": 0.5
             }
            },
            "type": "barpolar"
           }
          ],
          "carpet": [
           {
            "aaxis": {
             "endlinecolor": "#2a3f5f",
             "gridcolor": "white",
             "linecolor": "white",
             "minorgridcolor": "white",
             "startlinecolor": "#2a3f5f"
            },
            "baxis": {
             "endlinecolor": "#2a3f5f",
             "gridcolor": "white",
             "linecolor": "white",
             "minorgridcolor": "white",
             "startlinecolor": "#2a3f5f"
            },
            "type": "carpet"
           }
          ],
          "choropleth": [
           {
            "colorbar": {
             "outlinewidth": 0,
             "ticks": ""
            },
            "type": "choropleth"
           }
          ],
          "contour": [
           {
            "colorbar": {
             "outlinewidth": 0,
             "ticks": ""
            },
            "colorscale": [
             [
              0,
              "#0d0887"
             ],
             [
              0.1111111111111111,
              "#46039f"
             ],
             [
              0.2222222222222222,
              "#7201a8"
             ],
             [
              0.3333333333333333,
              "#9c179e"
             ],
             [
              0.4444444444444444,
              "#bd3786"
             ],
             [
              0.5555555555555556,
              "#d8576b"
             ],
             [
              0.6666666666666666,
              "#ed7953"
             ],
             [
              0.7777777777777778,
              "#fb9f3a"
             ],
             [
              0.8888888888888888,
              "#fdca26"
             ],
             [
              1,
              "#f0f921"
             ]
            ],
            "type": "contour"
           }
          ],
          "contourcarpet": [
           {
            "colorbar": {
             "outlinewidth": 0,
             "ticks": ""
            },
            "type": "contourcarpet"
           }
          ],
          "heatmap": [
           {
            "colorbar": {
             "outlinewidth": 0,
             "ticks": ""
            },
            "colorscale": [
             [
              0,
              "#0d0887"
             ],
             [
              0.1111111111111111,
              "#46039f"
             ],
             [
              0.2222222222222222,
              "#7201a8"
             ],
             [
              0.3333333333333333,
              "#9c179e"
             ],
             [
              0.4444444444444444,
              "#bd3786"
             ],
             [
              0.5555555555555556,
              "#d8576b"
             ],
             [
              0.6666666666666666,
              "#ed7953"
             ],
             [
              0.7777777777777778,
              "#fb9f3a"
             ],
             [
              0.8888888888888888,
              "#fdca26"
             ],
             [
              1,
              "#f0f921"
             ]
            ],
            "type": "heatmap"
           }
          ],
          "heatmapgl": [
           {
            "colorbar": {
             "outlinewidth": 0,
             "ticks": ""
            },
            "colorscale": [
             [
              0,
              "#0d0887"
             ],
             [
              0.1111111111111111,
              "#46039f"
             ],
             [
              0.2222222222222222,
              "#7201a8"
             ],
             [
              0.3333333333333333,
              "#9c179e"
             ],
             [
              0.4444444444444444,
              "#bd3786"
             ],
             [
              0.5555555555555556,
              "#d8576b"
             ],
             [
              0.6666666666666666,
              "#ed7953"
             ],
             [
              0.7777777777777778,
              "#fb9f3a"
             ],
             [
              0.8888888888888888,
              "#fdca26"
             ],
             [
              1,
              "#f0f921"
             ]
            ],
            "type": "heatmapgl"
           }
          ],
          "histogram": [
           {
            "marker": {
             "colorbar": {
              "outlinewidth": 0,
              "ticks": ""
             }
            },
            "type": "histogram"
           }
          ],
          "histogram2d": [
           {
            "colorbar": {
             "outlinewidth": 0,
             "ticks": ""
            },
            "colorscale": [
             [
              0,
              "#0d0887"
             ],
             [
              0.1111111111111111,
              "#46039f"
             ],
             [
              0.2222222222222222,
              "#7201a8"
             ],
             [
              0.3333333333333333,
              "#9c179e"
             ],
             [
              0.4444444444444444,
              "#bd3786"
             ],
             [
              0.5555555555555556,
              "#d8576b"
             ],
             [
              0.6666666666666666,
              "#ed7953"
             ],
             [
              0.7777777777777778,
              "#fb9f3a"
             ],
             [
              0.8888888888888888,
              "#fdca26"
             ],
             [
              1,
              "#f0f921"
             ]
            ],
            "type": "histogram2d"
           }
          ],
          "histogram2dcontour": [
           {
            "colorbar": {
             "outlinewidth": 0,
             "ticks": ""
            },
            "colorscale": [
             [
              0,
              "#0d0887"
             ],
             [
              0.1111111111111111,
              "#46039f"
             ],
             [
              0.2222222222222222,
              "#7201a8"
             ],
             [
              0.3333333333333333,
              "#9c179e"
             ],
             [
              0.4444444444444444,
              "#bd3786"
             ],
             [
              0.5555555555555556,
              "#d8576b"
             ],
             [
              0.6666666666666666,
              "#ed7953"
             ],
             [
              0.7777777777777778,
              "#fb9f3a"
             ],
             [
              0.8888888888888888,
              "#fdca26"
             ],
             [
              1,
              "#f0f921"
             ]
            ],
            "type": "histogram2dcontour"
           }
          ],
          "mesh3d": [
           {
            "colorbar": {
             "outlinewidth": 0,
             "ticks": ""
            },
            "type": "mesh3d"
           }
          ],
          "parcoords": [
           {
            "line": {
             "colorbar": {
              "outlinewidth": 0,
              "ticks": ""
             }
            },
            "type": "parcoords"
           }
          ],
          "scatter": [
           {
            "marker": {
             "colorbar": {
              "outlinewidth": 0,
              "ticks": ""
             }
            },
            "type": "scatter"
           }
          ],
          "scatter3d": [
           {
            "line": {
             "colorbar": {
              "outlinewidth": 0,
              "ticks": ""
             }
            },
            "marker": {
             "colorbar": {
              "outlinewidth": 0,
              "ticks": ""
             }
            },
            "type": "scatter3d"
           }
          ],
          "scattercarpet": [
           {
            "marker": {
             "colorbar": {
              "outlinewidth": 0,
              "ticks": ""
             }
            },
            "type": "scattercarpet"
           }
          ],
          "scattergeo": [
           {
            "marker": {
             "colorbar": {
              "outlinewidth": 0,
              "ticks": ""
             }
            },
            "type": "scattergeo"
           }
          ],
          "scattergl": [
           {
            "marker": {
             "colorbar": {
              "outlinewidth": 0,
              "ticks": ""
             }
            },
            "type": "scattergl"
           }
          ],
          "scattermapbox": [
           {
            "marker": {
             "colorbar": {
              "outlinewidth": 0,
              "ticks": ""
             }
            },
            "type": "scattermapbox"
           }
          ],
          "scatterpolar": [
           {
            "marker": {
             "colorbar": {
              "outlinewidth": 0,
              "ticks": ""
             }
            },
            "type": "scatterpolar"
           }
          ],
          "scatterpolargl": [
           {
            "marker": {
             "colorbar": {
              "outlinewidth": 0,
              "ticks": ""
             }
            },
            "type": "scatterpolargl"
           }
          ],
          "scatterternary": [
           {
            "marker": {
             "colorbar": {
              "outlinewidth": 0,
              "ticks": ""
             }
            },
            "type": "scatterternary"
           }
          ],
          "surface": [
           {
            "colorbar": {
             "outlinewidth": 0,
             "ticks": ""
            },
            "colorscale": [
             [
              0,
              "#0d0887"
             ],
             [
              0.1111111111111111,
              "#46039f"
             ],
             [
              0.2222222222222222,
              "#7201a8"
             ],
             [
              0.3333333333333333,
              "#9c179e"
             ],
             [
              0.4444444444444444,
              "#bd3786"
             ],
             [
              0.5555555555555556,
              "#d8576b"
             ],
             [
              0.6666666666666666,
              "#ed7953"
             ],
             [
              0.7777777777777778,
              "#fb9f3a"
             ],
             [
              0.8888888888888888,
              "#fdca26"
             ],
             [
              1,
              "#f0f921"
             ]
            ],
            "type": "surface"
           }
          ],
          "table": [
           {
            "cells": {
             "fill": {
              "color": "#EBF0F8"
             },
             "line": {
              "color": "white"
             }
            },
            "header": {
             "fill": {
              "color": "#C8D4E3"
             },
             "line": {
              "color": "white"
             }
            },
            "type": "table"
           }
          ]
         },
         "layout": {
          "annotationdefaults": {
           "arrowcolor": "#2a3f5f",
           "arrowhead": 0,
           "arrowwidth": 1
          },
          "colorscale": {
           "diverging": [
            [
             0,
             "#8e0152"
            ],
            [
             0.1,
             "#c51b7d"
            ],
            [
             0.2,
             "#de77ae"
            ],
            [
             0.3,
             "#f1b6da"
            ],
            [
             0.4,
             "#fde0ef"
            ],
            [
             0.5,
             "#f7f7f7"
            ],
            [
             0.6,
             "#e6f5d0"
            ],
            [
             0.7,
             "#b8e186"
            ],
            [
             0.8,
             "#7fbc41"
            ],
            [
             0.9,
             "#4d9221"
            ],
            [
             1,
             "#276419"
            ]
           ],
           "sequential": [
            [
             0,
             "#0d0887"
            ],
            [
             0.1111111111111111,
             "#46039f"
            ],
            [
             0.2222222222222222,
             "#7201a8"
            ],
            [
             0.3333333333333333,
             "#9c179e"
            ],
            [
             0.4444444444444444,
             "#bd3786"
            ],
            [
             0.5555555555555556,
             "#d8576b"
            ],
            [
             0.6666666666666666,
             "#ed7953"
            ],
            [
             0.7777777777777778,
             "#fb9f3a"
            ],
            [
             0.8888888888888888,
             "#fdca26"
            ],
            [
             1,
             "#f0f921"
            ]
           ],
           "sequentialminus": [
            [
             0,
             "#0d0887"
            ],
            [
             0.1111111111111111,
             "#46039f"
            ],
            [
             0.2222222222222222,
             "#7201a8"
            ],
            [
             0.3333333333333333,
             "#9c179e"
            ],
            [
             0.4444444444444444,
             "#bd3786"
            ],
            [
             0.5555555555555556,
             "#d8576b"
            ],
            [
             0.6666666666666666,
             "#ed7953"
            ],
            [
             0.7777777777777778,
             "#fb9f3a"
            ],
            [
             0.8888888888888888,
             "#fdca26"
            ],
            [
             1,
             "#f0f921"
            ]
           ]
          },
          "colorway": [
           "#636efa",
           "#EF553B",
           "#00cc96",
           "#ab63fa",
           "#FFA15A",
           "#19d3f3",
           "#FF6692",
           "#B6E880",
           "#FF97FF",
           "#FECB52"
          ],
          "font": {
           "color": "#2a3f5f"
          },
          "geo": {
           "bgcolor": "white",
           "lakecolor": "white",
           "landcolor": "#E5ECF6",
           "showlakes": true,
           "showland": true,
           "subunitcolor": "white"
          },
          "hoverlabel": {
           "align": "left"
          },
          "hovermode": "closest",
          "mapbox": {
           "style": "light"
          },
          "paper_bgcolor": "white",
          "plot_bgcolor": "#E5ECF6",
          "polar": {
           "angularaxis": {
            "gridcolor": "white",
            "linecolor": "white",
            "ticks": ""
           },
           "bgcolor": "#E5ECF6",
           "radialaxis": {
            "gridcolor": "white",
            "linecolor": "white",
            "ticks": ""
           }
          },
          "scene": {
           "xaxis": {
            "backgroundcolor": "#E5ECF6",
            "gridcolor": "white",
            "gridwidth": 2,
            "linecolor": "white",
            "showbackground": true,
            "ticks": "",
            "zerolinecolor": "white"
           },
           "yaxis": {
            "backgroundcolor": "#E5ECF6",
            "gridcolor": "white",
            "gridwidth": 2,
            "linecolor": "white",
            "showbackground": true,
            "ticks": "",
            "zerolinecolor": "white"
           },
           "zaxis": {
            "backgroundcolor": "#E5ECF6",
            "gridcolor": "white",
            "gridwidth": 2,
            "linecolor": "white",
            "showbackground": true,
            "ticks": "",
            "zerolinecolor": "white"
           }
          },
          "shapedefaults": {
           "line": {
            "color": "#2a3f5f"
           }
          },
          "ternary": {
           "aaxis": {
            "gridcolor": "white",
            "linecolor": "white",
            "ticks": ""
           },
           "baxis": {
            "gridcolor": "white",
            "linecolor": "white",
            "ticks": ""
           },
           "bgcolor": "#E5ECF6",
           "caxis": {
            "gridcolor": "white",
            "linecolor": "white",
            "ticks": ""
           }
          },
          "title": {
           "x": 0.05
          },
          "xaxis": {
           "automargin": true,
           "gridcolor": "white",
           "linecolor": "white",
           "ticks": "",
           "zerolinecolor": "white",
           "zerolinewidth": 2
          },
          "yaxis": {
           "automargin": true,
           "gridcolor": "white",
           "linecolor": "white",
           "ticks": "",
           "zerolinecolor": "white",
           "zerolinewidth": 2
          }
         }
        },
        "title": {
         "text": "LDS General Conference Talk Length Over Time, By Session Gender"
        },
        "xaxis": {
         "linecolor": "black",
         "linewidth": 1,
         "showline": true
        },
        "yaxis": {
         "linecolor": "black",
         "linewidth": 1,
         "range": [
          1600,
          2200
         ],
         "showline": true
        }
       }
      },
      "text/html": [
       "<div>\n",
       "        \n",
       "        \n",
       "            <div id=\"17a01722-cbe7-4d6c-8ff1-1835f9f17fd7\" class=\"plotly-graph-div\" style=\"height:525px; width:100%;\"></div>\n",
       "            <script type=\"text/javascript\">\n",
       "                require([\"plotly\"], function(Plotly) {\n",
       "                    window.PLOTLYENV=window.PLOTLYENV || {};\n",
       "                    \n",
       "                if (document.getElementById(\"17a01722-cbe7-4d6c-8ff1-1835f9f17fd7\")) {\n",
       "                    Plotly.newPlot(\n",
       "                        '17a01722-cbe7-4d6c-8ff1-1835f9f17fd7',\n",
       "                        [{\"line\": {\"color\": \"#7496D2\"}, \"name\": \"male\", \"type\": \"scatter\", \"x\": [1999, 2000, 2001, 2002, 2003, 2004, 2005, 2006, 2007, 2008, 2009, 2010, 2011, 2012, 2013, 2014, 2015, 2016, 2017, 2018, 1999, 2000, 2001, 2002, 2003, 2004, 2005, 2006, 2007, 2008, 2009, 2010, 2011, 2012, 2013, 2014, 2015, 2016, 2017, 2018, 2019, 1999, 2000, 2001, 2002, 2003, 2004, 2005, 2006, 2007, 2008, 2009, 2010, 2011, 2012, 2013, 2014, 2015, 2016, 2017, 2018, 2019], \"y\": [1873.2307692307693, 2026.1666666666667, 1934.6923076923076, 2171.0, 1911.5, 1913.0, 1902.25, 1916.4615384615386, 1795.6923076923076, 1912.923076923077, 1989.4166666666667, 1992.4166666666667, 2100.3333333333335, 2069.5, 1900.4166666666667, 1851.3333333333333, 1798.2727272727273, 1629.4, 1832.1, 1585.857142857143, 1583.8333333333333]}, {\"line\": {\"color\": \"#E6A2C5\"}, \"name\": \"female\", \"type\": \"scatter\", \"x\": [1999, 2000, 2001, 2002, 2003, 2004, 2005, 2006, 2007, 2008, 2009, 2010, 2011, 2012, 2013, 2014, 2015, 2016, 2017, 2018, 1999, 2000, 2001, 2002, 2003, 2004, 2005, 2006, 2007, 2008, 2009, 2010, 2011, 2012, 2013, 2014, 2015, 2016, 2017, 2018, 2019, 1999, 2000, 2001, 2002, 2003, 2004, 2005, 2006, 2007, 2008, 2009, 2010, 2011, 2012, 2013, 2014, 2015, 2016, 2017, 2018, 2019], \"y\": [1863.75, 1793.5, 2105.25, 1865.0, 1663.75, 1884.75, 1791.0, 1844.5, 1784.75, 1736.0, 2132.75, 2070.5, 2098.75, 1934.75, 2058.25, 1768.375, 1688.25, 1718.25, 1829.625, 1598.0]}],\n",
       "                        {\"plot_bgcolor\": \"white\", \"template\": {\"data\": {\"bar\": [{\"error_x\": {\"color\": \"#2a3f5f\"}, \"error_y\": {\"color\": \"#2a3f5f\"}, \"marker\": {\"line\": {\"color\": \"#E5ECF6\", \"width\": 0.5}}, \"type\": \"bar\"}], \"barpolar\": [{\"marker\": {\"line\": {\"color\": \"#E5ECF6\", \"width\": 0.5}}, \"type\": \"barpolar\"}], \"carpet\": [{\"aaxis\": {\"endlinecolor\": \"#2a3f5f\", \"gridcolor\": \"white\", \"linecolor\": \"white\", \"minorgridcolor\": \"white\", \"startlinecolor\": \"#2a3f5f\"}, \"baxis\": {\"endlinecolor\": \"#2a3f5f\", \"gridcolor\": \"white\", \"linecolor\": \"white\", \"minorgridcolor\": \"white\", \"startlinecolor\": \"#2a3f5f\"}, \"type\": \"carpet\"}], \"choropleth\": [{\"colorbar\": {\"outlinewidth\": 0, \"ticks\": \"\"}, \"type\": \"choropleth\"}], \"contour\": [{\"colorbar\": {\"outlinewidth\": 0, \"ticks\": \"\"}, \"colorscale\": [[0.0, \"#0d0887\"], [0.1111111111111111, \"#46039f\"], [0.2222222222222222, \"#7201a8\"], [0.3333333333333333, \"#9c179e\"], [0.4444444444444444, \"#bd3786\"], [0.5555555555555556, \"#d8576b\"], [0.6666666666666666, \"#ed7953\"], [0.7777777777777778, \"#fb9f3a\"], [0.8888888888888888, \"#fdca26\"], [1.0, \"#f0f921\"]], \"type\": \"contour\"}], \"contourcarpet\": [{\"colorbar\": {\"outlinewidth\": 0, \"ticks\": \"\"}, \"type\": \"contourcarpet\"}], \"heatmap\": [{\"colorbar\": {\"outlinewidth\": 0, \"ticks\": \"\"}, \"colorscale\": [[0.0, \"#0d0887\"], [0.1111111111111111, \"#46039f\"], [0.2222222222222222, \"#7201a8\"], [0.3333333333333333, \"#9c179e\"], [0.4444444444444444, \"#bd3786\"], [0.5555555555555556, \"#d8576b\"], [0.6666666666666666, \"#ed7953\"], [0.7777777777777778, \"#fb9f3a\"], [0.8888888888888888, \"#fdca26\"], [1.0, \"#f0f921\"]], \"type\": \"heatmap\"}], \"heatmapgl\": [{\"colorbar\": {\"outlinewidth\": 0, \"ticks\": \"\"}, \"colorscale\": [[0.0, \"#0d0887\"], [0.1111111111111111, \"#46039f\"], [0.2222222222222222, \"#7201a8\"], [0.3333333333333333, \"#9c179e\"], [0.4444444444444444, \"#bd3786\"], [0.5555555555555556, \"#d8576b\"], [0.6666666666666666, \"#ed7953\"], [0.7777777777777778, \"#fb9f3a\"], [0.8888888888888888, \"#fdca26\"], [1.0, \"#f0f921\"]], \"type\": \"heatmapgl\"}], \"histogram\": [{\"marker\": {\"colorbar\": {\"outlinewidth\": 0, \"ticks\": \"\"}}, \"type\": \"histogram\"}], \"histogram2d\": [{\"colorbar\": {\"outlinewidth\": 0, \"ticks\": \"\"}, \"colorscale\": [[0.0, \"#0d0887\"], [0.1111111111111111, \"#46039f\"], [0.2222222222222222, \"#7201a8\"], [0.3333333333333333, \"#9c179e\"], [0.4444444444444444, \"#bd3786\"], [0.5555555555555556, \"#d8576b\"], [0.6666666666666666, \"#ed7953\"], [0.7777777777777778, \"#fb9f3a\"], [0.8888888888888888, \"#fdca26\"], [1.0, \"#f0f921\"]], \"type\": \"histogram2d\"}], \"histogram2dcontour\": [{\"colorbar\": {\"outlinewidth\": 0, \"ticks\": \"\"}, \"colorscale\": [[0.0, \"#0d0887\"], [0.1111111111111111, \"#46039f\"], [0.2222222222222222, \"#7201a8\"], [0.3333333333333333, \"#9c179e\"], [0.4444444444444444, \"#bd3786\"], [0.5555555555555556, \"#d8576b\"], [0.6666666666666666, \"#ed7953\"], [0.7777777777777778, \"#fb9f3a\"], [0.8888888888888888, \"#fdca26\"], [1.0, \"#f0f921\"]], \"type\": \"histogram2dcontour\"}], \"mesh3d\": [{\"colorbar\": {\"outlinewidth\": 0, \"ticks\": \"\"}, \"type\": \"mesh3d\"}], \"parcoords\": [{\"line\": {\"colorbar\": {\"outlinewidth\": 0, \"ticks\": \"\"}}, \"type\": \"parcoords\"}], \"scatter\": [{\"marker\": {\"colorbar\": {\"outlinewidth\": 0, \"ticks\": \"\"}}, \"type\": \"scatter\"}], \"scatter3d\": [{\"line\": {\"colorbar\": {\"outlinewidth\": 0, \"ticks\": \"\"}}, \"marker\": {\"colorbar\": {\"outlinewidth\": 0, \"ticks\": \"\"}}, \"type\": \"scatter3d\"}], \"scattercarpet\": [{\"marker\": {\"colorbar\": {\"outlinewidth\": 0, \"ticks\": \"\"}}, \"type\": \"scattercarpet\"}], \"scattergeo\": [{\"marker\": {\"colorbar\": {\"outlinewidth\": 0, \"ticks\": \"\"}}, \"type\": \"scattergeo\"}], \"scattergl\": [{\"marker\": {\"colorbar\": {\"outlinewidth\": 0, \"ticks\": \"\"}}, \"type\": \"scattergl\"}], \"scattermapbox\": [{\"marker\": {\"colorbar\": {\"outlinewidth\": 0, \"ticks\": \"\"}}, \"type\": \"scattermapbox\"}], \"scatterpolar\": [{\"marker\": {\"colorbar\": {\"outlinewidth\": 0, \"ticks\": \"\"}}, \"type\": \"scatterpolar\"}], \"scatterpolargl\": [{\"marker\": {\"colorbar\": {\"outlinewidth\": 0, \"ticks\": \"\"}}, \"type\": \"scatterpolargl\"}], \"scatterternary\": [{\"marker\": {\"colorbar\": {\"outlinewidth\": 0, \"ticks\": \"\"}}, \"type\": \"scatterternary\"}], \"surface\": [{\"colorbar\": {\"outlinewidth\": 0, \"ticks\": \"\"}, \"colorscale\": [[0.0, \"#0d0887\"], [0.1111111111111111, \"#46039f\"], [0.2222222222222222, \"#7201a8\"], [0.3333333333333333, \"#9c179e\"], [0.4444444444444444, \"#bd3786\"], [0.5555555555555556, \"#d8576b\"], [0.6666666666666666, \"#ed7953\"], [0.7777777777777778, \"#fb9f3a\"], [0.8888888888888888, \"#fdca26\"], [1.0, \"#f0f921\"]], \"type\": \"surface\"}], \"table\": [{\"cells\": {\"fill\": {\"color\": \"#EBF0F8\"}, \"line\": {\"color\": \"white\"}}, \"header\": {\"fill\": {\"color\": \"#C8D4E3\"}, \"line\": {\"color\": \"white\"}}, \"type\": \"table\"}]}, \"layout\": {\"annotationdefaults\": {\"arrowcolor\": \"#2a3f5f\", \"arrowhead\": 0, \"arrowwidth\": 1}, \"colorscale\": {\"diverging\": [[0, \"#8e0152\"], [0.1, \"#c51b7d\"], [0.2, \"#de77ae\"], [0.3, \"#f1b6da\"], [0.4, \"#fde0ef\"], [0.5, \"#f7f7f7\"], [0.6, \"#e6f5d0\"], [0.7, \"#b8e186\"], [0.8, \"#7fbc41\"], [0.9, \"#4d9221\"], [1, \"#276419\"]], \"sequential\": [[0.0, \"#0d0887\"], [0.1111111111111111, \"#46039f\"], [0.2222222222222222, \"#7201a8\"], [0.3333333333333333, \"#9c179e\"], [0.4444444444444444, \"#bd3786\"], [0.5555555555555556, \"#d8576b\"], [0.6666666666666666, \"#ed7953\"], [0.7777777777777778, \"#fb9f3a\"], [0.8888888888888888, \"#fdca26\"], [1.0, \"#f0f921\"]], \"sequentialminus\": [[0.0, \"#0d0887\"], [0.1111111111111111, \"#46039f\"], [0.2222222222222222, \"#7201a8\"], [0.3333333333333333, \"#9c179e\"], [0.4444444444444444, \"#bd3786\"], [0.5555555555555556, \"#d8576b\"], [0.6666666666666666, \"#ed7953\"], [0.7777777777777778, \"#fb9f3a\"], [0.8888888888888888, \"#fdca26\"], [1.0, \"#f0f921\"]]}, \"colorway\": [\"#636efa\", \"#EF553B\", \"#00cc96\", \"#ab63fa\", \"#FFA15A\", \"#19d3f3\", \"#FF6692\", \"#B6E880\", \"#FF97FF\", \"#FECB52\"], \"font\": {\"color\": \"#2a3f5f\"}, \"geo\": {\"bgcolor\": \"white\", \"lakecolor\": \"white\", \"landcolor\": \"#E5ECF6\", \"showlakes\": true, \"showland\": true, \"subunitcolor\": \"white\"}, \"hoverlabel\": {\"align\": \"left\"}, \"hovermode\": \"closest\", \"mapbox\": {\"style\": \"light\"}, \"paper_bgcolor\": \"white\", \"plot_bgcolor\": \"#E5ECF6\", \"polar\": {\"angularaxis\": {\"gridcolor\": \"white\", \"linecolor\": \"white\", \"ticks\": \"\"}, \"bgcolor\": \"#E5ECF6\", \"radialaxis\": {\"gridcolor\": \"white\", \"linecolor\": \"white\", \"ticks\": \"\"}}, \"scene\": {\"xaxis\": {\"backgroundcolor\": \"#E5ECF6\", \"gridcolor\": \"white\", \"gridwidth\": 2, \"linecolor\": \"white\", \"showbackground\": true, \"ticks\": \"\", \"zerolinecolor\": \"white\"}, \"yaxis\": {\"backgroundcolor\": \"#E5ECF6\", \"gridcolor\": \"white\", \"gridwidth\": 2, \"linecolor\": \"white\", \"showbackground\": true, \"ticks\": \"\", \"zerolinecolor\": \"white\"}, \"zaxis\": {\"backgroundcolor\": \"#E5ECF6\", \"gridcolor\": \"white\", \"gridwidth\": 2, \"linecolor\": \"white\", \"showbackground\": true, \"ticks\": \"\", \"zerolinecolor\": \"white\"}}, \"shapedefaults\": {\"line\": {\"color\": \"#2a3f5f\"}}, \"ternary\": {\"aaxis\": {\"gridcolor\": \"white\", \"linecolor\": \"white\", \"ticks\": \"\"}, \"baxis\": {\"gridcolor\": \"white\", \"linecolor\": \"white\", \"ticks\": \"\"}, \"bgcolor\": \"#E5ECF6\", \"caxis\": {\"gridcolor\": \"white\", \"linecolor\": \"white\", \"ticks\": \"\"}}, \"title\": {\"x\": 0.05}, \"xaxis\": {\"automargin\": true, \"gridcolor\": \"white\", \"linecolor\": \"white\", \"ticks\": \"\", \"zerolinecolor\": \"white\", \"zerolinewidth\": 2}, \"yaxis\": {\"automargin\": true, \"gridcolor\": \"white\", \"linecolor\": \"white\", \"ticks\": \"\", \"zerolinecolor\": \"white\", \"zerolinewidth\": 2}}}, \"title\": {\"text\": \"LDS General Conference Talk Length Over Time, By Session Gender\"}, \"xaxis\": {\"linecolor\": \"black\", \"linewidth\": 1, \"showline\": true}, \"yaxis\": {\"linecolor\": \"black\", \"linewidth\": 1, \"range\": [1600, 2200], \"showline\": true}},\n",
       "                        {\"responsive\": true}\n",
       "                    ).then(function(){\n",
       "                            \n",
       "var gd = document.getElementById('17a01722-cbe7-4d6c-8ff1-1835f9f17fd7');\n",
       "var x = new MutationObserver(function (mutations, observer) {{\n",
       "        var display = window.getComputedStyle(gd).display;\n",
       "        if (!display || display === 'none') {{\n",
       "            console.log([gd, 'removed!']);\n",
       "            Plotly.purge(gd);\n",
       "            observer.disconnect();\n",
       "        }}\n",
       "}});\n",
       "\n",
       "// Listen for the removal of the full notebook cells\n",
       "var notebookContainer = gd.closest('#notebook-container');\n",
       "if (notebookContainer) {{\n",
       "    x.observe(notebookContainer, {childList: true});\n",
       "}}\n",
       "\n",
       "// Listen for the clearing of the current output cell\n",
       "var outputEl = gd.closest('.output');\n",
       "if (outputEl) {{\n",
       "    x.observe(outputEl, {childList: true});\n",
       "}}\n",
       "\n",
       "                        })\n",
       "                };\n",
       "                });\n",
       "            </script>\n",
       "        </div>"
      ]
     },
     "metadata": {},
     "output_type": "display_data"
    }
   ],
   "source": [
    "fig5 = go.Figure()\n",
    "\n",
    "fig5.add_trace(go.Scatter(x = df2['year'],\n",
    "                         y = df2.loc[df2['gender'] == 'male', 'word_count'], \n",
    "                         line_color = '#7496D2',\n",
    "                         name = 'male'))\n",
    "\n",
    "fig5.add_trace(go.Scatter(x = df2['year'],\n",
    "                         y = df2.loc[df2['gender'] == 'female', 'word_count'], \n",
    "                         line_color = '#E6A2C5',\n",
    "                         name = 'female'))\n",
    "\n",
    "\n",
    "fig5.update_layout(plot_bgcolor = 'white',\n",
    "                  title = 'LDS General Conference Talk Length Over Time, By Session Gender')\n",
    "\n",
    "fig5.update_xaxes(showline = True, linewidth = 1, linecolor = 'black')\n",
    "fig5.update_yaxes(showline = True, linewidth = 1, linecolor = 'black',\n",
    "                 range = [1600,2200])"
   ]
  },
  {
   "cell_type": "markdown",
   "metadata": {},
   "source": [
    "Talk length has varied very similarly over time across the session genders. "
   ]
  }
 ],
 "metadata": {
  "kernelspec": {
   "display_name": "Python 3",
   "language": "python",
   "name": "python3"
  },
  "language_info": {
   "codemirror_mode": {
    "name": "ipython",
    "version": 3
   },
   "file_extension": ".py",
   "mimetype": "text/x-python",
   "name": "python",
   "nbconvert_exporter": "python",
   "pygments_lexer": "ipython3",
   "version": "3.7.3"
  }
 },
 "nbformat": 4,
 "nbformat_minor": 2
}
